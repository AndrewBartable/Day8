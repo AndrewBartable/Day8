{
 "cells": [
  {
   "cell_type": "markdown",
   "id": "a9215f5c-525b-4508-8b0d-700f55cbd252",
   "metadata": {},
   "source": [
    "## Introduction to Data Science\n",
    "\n",
    "#### University of Redlands - DATA 101\n",
    "#### Prof: Joanna Bieri [joanna_bieri@redlands.edu](mailto:joanna_bieri@redlands.edu)\n",
    "#### [Class Website: data101.joannabieri.com](https://joannabieri.com/data101.html)\n",
    "\n",
    "---------------------------------------\n",
    "# Homework Day 8\n",
    "---------------------------------------\n",
    "\n",
    "GOALS:\n",
    "\n",
    "1. Load data into Python that you find online\n",
    "2. Understand data types and fix some errors\n",
    "3. Find your own data to play with\n",
    "\n",
    "----------------------------------------------------------\n",
    "\n",
    "This homework has **5 questions** and **1 problem**.\n",
    "\n",
    "NOTE: Be kind to yourself. Working with data can be hard! Every data set is different. **Seriously** come get help! Come to lab!\n"
   ]
  },
  {
   "cell_type": "code",
   "execution_count": 1,
   "id": "049c24b6-a6c1-4ccc-b2de-5ea0366d09f8",
   "metadata": {},
   "outputs": [],
   "source": [
    "import numpy as np\n",
    "import pandas as pd\n",
    "\n",
    "import matplotlib.pyplot as plt\n",
    "import plotly.express as px\n",
    "from plotly.subplots import make_subplots\n",
    "import plotly.io as pio\n",
    "pio.renderers.defaule = 'colab'\n",
    "\n",
    "from itables import show"
   ]
  },
  {
   "cell_type": "markdown",
   "id": "23773272-c059-4148-a5a8-91e9da594c46",
   "metadata": {},
   "source": [
    "## Try reading in some data - csv\n",
    "\n",
    "Go to the [Cal Fire Website](https://www.fire.ca.gov/incidents) and scroll to the bottom to see the Incident Data. We will download the file named **ALL DATA AS CSV** this should put the data file into your Downloads folder. \n",
    "\n",
    "Next you need to move the file **mapdataall.csv** from your Downloads folder into your Day8 folder where you are doing your homework. You can open your Downloads folder and drag the file into JupyterLab side bar. Then I can run the command\n",
    "\n",
    "    DF_raw = pd.read_csv('mapdataall.csv')\n",
    "\n",
    "to load the data and look at the data frame."
   ]
  },
  {
   "cell_type": "code",
   "execution_count": 4,
   "id": "e90fdd5f-bd17-4c94-b3f4-7ddc998bd001",
   "metadata": {},
   "outputs": [
    {
     "name": "stdout",
     "output_type": "stream",
     "text": [
      "             incident_name incident_is_final  incident_date_last_update  \\\n",
      "0              Bridge Fire                 Y       2018-01-09T13:46:00Z   \n",
      "1                Pala Fire                 Y       2020-09-16T14:07:35Z   \n",
      "2               River Fire                 Y       2022-10-24T11:39:23Z   \n",
      "3            Fawnskin Fire                 Y       2013-04-22T09:00:00Z   \n",
      "4                Gold Fire                 Y       2013-05-01T07:00:00Z   \n",
      "...                    ...               ...                        ...   \n",
      "2729             Peak Fire                 N       2024-10-03T15:09:15Z   \n",
      "2730             Bear Fire                 N       2024-10-03T09:10:01Z   \n",
      "2731             Dino Fire                 N       2024-10-03T08:41:10Z   \n",
      "2732  Pumpkin Prairie Fire                 N       2024-10-03T14:19:29Z   \n",
      "2733          Felicia Fire                 N  2024-10-03T15:05:53-07:00   \n",
      "\n",
      "     incident_date_created          incident_administrative_unit  \\\n",
      "0     2017-10-31T11:22:00Z       Shasta-Trinity National Forest    \n",
      "1     2009-05-24T14:56:00Z               CAL FIRE San Diego Unit   \n",
      "2     2013-02-24T08:16:00Z          CAL FIRE San Bernardino Unit   \n",
      "3     2013-04-20T17:30:00Z        San Bernardino National Forest   \n",
      "4     2013-04-30T12:59:00Z  CAL FIRE Madera-Mariposa-Merced Unit   \n",
      "...                    ...                                   ...   \n",
      "2729  2024-10-02T12:04:50Z           Stanislaus National Forest    \n",
      "2730  2024-10-02T14:01:34Z      CAL FIRE Humboldt-Del Norte Unit   \n",
      "2731  2024-10-02T17:11:47Z             CAL FIRE Santa Clara Unit   \n",
      "2732  2024-10-02T17:00:00Z      CAL FIRE Humboldt-Del Norte Unit   \n",
      "2733  2024-10-03T12:41:00Z        Ventura County Fire Department   \n",
      "\n",
      "      incident_administrative_unit_url incident_county  \\\n",
      "0                                  NaN          Shasta   \n",
      "1                                  NaN       San Diego   \n",
      "2                                  NaN            Inyo   \n",
      "3                                  NaN  San Bernardino   \n",
      "4                                  NaN          Madera   \n",
      "...                                ...             ...   \n",
      "2729                               NaN        Tuolumne   \n",
      "2730                               NaN        Humboldt   \n",
      "2731                               NaN     Santa Clara   \n",
      "2732                               NaN        Humboldt   \n",
      "2733                               NaN         Ventura   \n",
      "\n",
      "                                      incident_location  \\\n",
      "0     I-5 and Turntable Bay, 7 miles NE of Shasta Lake    \n",
      "1           Hwy 76 and Pala Temecula, northwest of Pala   \n",
      "2     south of Narrow Gauge Rd & north of Hwy 136, e...   \n",
      "3     west of Delamar Mountain, north of the communi...   \n",
      "4     Between Road 210 and Road 200 near Fine Gold C...   \n",
      "...                                                 ...   \n",
      "2729         Forest Route and Herring Creek, Pinecrest    \n",
      "2730                              Northeast of Dinsmore   \n",
      "2731                 Dinosaur Point Road at Highway 12    \n",
      "2732        Bloody Camp Road on Bald Hill, Hoopa Valley   \n",
      "2733                       West Side of Lake Piru, Piru   \n",
      "\n",
      "      incident_acres_burned  incident_containment  ... incident_latitude  \\\n",
      "0                      37.0                 100.0  ...         40.774000   \n",
      "1                     122.0                 100.0  ...          1.000000   \n",
      "2                     407.0                 100.0  ...         36.602575   \n",
      "3                      30.0                 100.0  ...         34.288877   \n",
      "4                     274.0                 100.0  ...         37.116295   \n",
      "...                     ...                   ...  ...               ...   \n",
      "2729                   25.0                  10.0  ...         38.250731   \n",
      "2730                   18.0                  95.0  ...         40.471128   \n",
      "2731                   30.0                  60.0  ...         37.066401   \n",
      "2732                   44.0                   NaN  ...         41.169444   \n",
      "2733                  293.0                   NaN  ...         34.464370   \n",
      "\n",
      "     incident_type                           incident_id  \\\n",
      "0              NaN  2ca11d45-8139-4c16-8af0-880d99b21e82   \n",
      "1         Wildfire  8f61f461-552d-4538-b186-35ab030da416   \n",
      "2              NaN  094719ba-a47b-4abb-9ec5-a506b2b9fd23   \n",
      "3              NaN  58f89ff8-bd3e-4355-b1c0-8fa05c747d3f   \n",
      "4              NaN  357ffc13-bef9-48eb-810f-c5de851972eb   \n",
      "...            ...                                   ...   \n",
      "2729      Wildfire  f0d922b5-7a19-4fa6-b22e-356840bd12d5   \n",
      "2730      Wildfire  9b8db758-3c0f-4e03-9bb0-de3c96a3154d   \n",
      "2731      Wildfire  906aaf1e-d456-40b9-b009-fe084cef6839   \n",
      "2732      Wildfire  f25360d1-3f78-4d16-b1ab-ee0dd12ae921   \n",
      "2733      Wildfire  713872e7-d6bb-411f-a490-6a2fe8078c82   \n",
      "\n",
      "                                           incident_url  \\\n",
      "0     https://www.fire.ca.gov/incidents/2017/10/31/b...   \n",
      "1     https://www.fire.ca.gov/incidents/2009/5/24/pa...   \n",
      "2     https://www.fire.ca.gov/incidents/2013/2/24/ri...   \n",
      "3     https://www.fire.ca.gov/incidents/2013/4/20/fa...   \n",
      "4     https://www.fire.ca.gov/incidents/2013/4/30/go...   \n",
      "...                                                 ...   \n",
      "2729  https://www.fire.ca.gov/incidents/2024/10/2/pe...   \n",
      "2730  https://www.fire.ca.gov/incidents/2024/10/2/be...   \n",
      "2731  https://www.fire.ca.gov/incidents/2024/10/2/di...   \n",
      "2732  https://www.fire.ca.gov/incidents/2024/10/2/pu...   \n",
      "2733  https://www.fire.ca.gov/incidents/2024/10/3/fe...   \n",
      "\n",
      "     incident_date_extinguished incident_dateonly_extinguished  \\\n",
      "0          2018-01-09T13:46:00Z                     2018-01-09   \n",
      "1          2009-05-25T00:00:00Z                     2009-05-25   \n",
      "2          2013-02-28T20:00:00Z                     2013-02-28   \n",
      "3          2013-04-22T09:00:00Z                     2013-04-22   \n",
      "4          2013-05-01T07:00:00Z                     2013-05-01   \n",
      "...                         ...                            ...   \n",
      "2729                        NaN                            NaN   \n",
      "2730                        NaN                            NaN   \n",
      "2731                        NaN                            NaN   \n",
      "2732                        NaN                            NaN   \n",
      "2733                        NaN                            NaN   \n",
      "\n",
      "     incident_dateonly_created is_active calfire_incident notification_desired  \n",
      "0                   2017-10-31         N            False                False  \n",
      "1                   2009-05-24         N             True                False  \n",
      "2                   2013-02-24         N             True                False  \n",
      "3                   2013-04-20         N            False                False  \n",
      "4                   2013-04-30         N             True                False  \n",
      "...                        ...       ...              ...                  ...  \n",
      "2729                2024-10-02         Y            False                False  \n",
      "2730                2024-10-02         Y             True                False  \n",
      "2731                2024-10-02         Y             True                False  \n",
      "2732                2024-10-02         Y             True                False  \n",
      "2733                2024-10-03         Y            False                False  \n",
      "\n",
      "[2734 rows x 23 columns]\n"
     ]
    }
   ],
   "source": [
    "# Your code here\n",
    "DF_raw = pd.read_csv('mapdataall.csv')\n",
    "print(DF_raw)"
   ]
  },
  {
   "cell_type": "markdown",
   "id": "941e4499-edd1-4210-b3ff-292dd2eb4df7",
   "metadata": {},
   "source": [
    "**Q1** How many variables and observations?\n",
    "\n",
    "**Q2** How many different incident types are there?\n",
    "\n",
    "**Q3** Make a histogram of the acres burned and color the bars by whether or not the incident was a calfire incident. You will probably need to make a mask to remove very small and very large fires. How many fires burned more than 100,000 acres? What is the largest fire in the data?\n",
    "\n",
    "**Extra Q** EXTRA - CHALLENGE - See if you can create a graph that answers the question: Are fires getting bigger or more frequent over time? You get complete creative control on how to answer this question!"
   ]
  },
  {
   "cell_type": "code",
   "execution_count": 21,
   "id": "df36876b-02c2-4d86-b55b-62819a368bf6",
   "metadata": {},
   "outputs": [
    {
     "name": "stdout",
     "output_type": "stream",
     "text": [
      "Q1: Observations: 2734, Variables: 24\n",
      "Q2: Incident types: 3\n"
     ]
    },
    {
     "data": {
      "application/vnd.plotly.v1+json": {
       "config": {
        "plotlyServerURL": "https://plot.ly"
       },
       "data": [
        {
         "alignmentgroup": "True",
         "bingroup": "x",
         "hovertemplate": "calfire_incident=False<br>incident_acres_burned=%{x}<br>count=%{y}<extra></extra>",
         "legendgroup": "False",
         "marker": {
          "color": "#636efa",
          "pattern": {
           "shape": ""
          }
         },
         "name": "False",
         "nbinsx": 30,
         "offsetgroup": "False",
         "orientation": "v",
         "showlegend": true,
         "type": "histogram",
         "x": [
          37,
          30,
          1984,
          500,
          572,
          22992,
          14754,
          1070,
          60,
          12503,
          243,
          27440,
          110,
          513,
          794,
          200,
          413,
          2060,
          97,
          134,
          268,
          97,
          68,
          2236,
          865,
          1952,
          125,
          5367,
          1457,
          600,
          3895,
          1651,
          15,
          1680,
          6258,
          190,
          274,
          4045,
          210,
          311,
          200,
          968,
          94,
          20,
          1542,
          415,
          100,
          200,
          75,
          167,
          6980,
          4863,
          10570,
          55,
          151623,
          1388,
          50,
          21,
          156,
          61,
          2860,
          650,
          1100,
          2304,
          1245,
          150,
          20,
          38,
          29322,
          304,
          33867,
          395,
          150,
          5443,
          2652,
          12518,
          215,
          248,
          2100,
          4824,
          4347,
          750,
          150,
          486,
          1000,
          50,
          850,
          1522,
          39,
          1503,
          168,
          760,
          670,
          562,
          55,
          13,
          50,
          18430,
          410,
          27276,
          747,
          83733,
          101,
          46,
          40,
          2312,
          19,
          135,
          4310,
          319,
          85,
          20,
          1350,
          100,
          32,
          50,
          1020,
          530,
          859,
          4736,
          41,
          8094,
          7000,
          191125,
          186,
          78698,
          2295,
          3142,
          7697,
          200,
          46,
          40,
          36556,
          54,
          12407,
          6042,
          8925,
          21846,
          30,
          5247,
          1749,
          1319,
          7194,
          18618,
          54,
          32,
          2575,
          200,
          39715,
          40,
          58,
          13417,
          22,
          18900,
          45,
          50,
          148,
          29,
          40,
          426,
          1088,
          15619,
          370,
          81,
          300,
          422,
          45,
          80,
          50,
          258,
          20,
          18,
          300,
          127,
          38,
          1352,
          12,
          175,
          96,
          20,
          646,
          1202,
          1500,
          170,
          62,
          4064,
          63,
          33,
          215,
          45,
          1350,
          2100,
          96901,
          52,
          2883,
          280,
          100,
          3674,
          34,
          38134,
          36450,
          338,
          1200,
          972,
          23136,
          117,
          2995,
          45,
          46150,
          30,
          100,
          39387,
          367,
          1014,
          88,
          166,
          172,
          15,
          125,
          1120,
          13,
          1751,
          6974,
          25,
          3380,
          261,
          53,
          150,
          32,
          63,
          160,
          38,
          88,
          1500,
          147,
          115,
          2500,
          65,
          55,
          24,
          70,
          1350,
          207,
          30,
          74,
          263,
          1165,
          193,
          128,
          208,
          83,
          35,
          156,
          14217,
          100,
          280,
          448,
          448,
          103,
          156,
          29,
          58,
          130,
          1020,
          240,
          1301,
          33,
          131,
          2438,
          3380,
          279,
          54612,
          244,
          5332,
          4840,
          5737,
          1975,
          381,
          10296,
          260,
          1872,
          227,
          280,
          250,
          200,
          503,
          91,
          167,
          220,
          52,
          30,
          52,
          40,
          91,
          8799,
          3435,
          200,
          55,
          75,
          420,
          42,
          145,
          4615,
          200,
          140,
          50,
          745,
          200,
          3126,
          102,
          57,
          211,
          275,
          47,
          2060,
          156,
          17,
          152,
          20,
          5000,
          1395,
          37,
          129,
          300,
          19,
          15,
          126,
          79,
          100,
          100,
          1100,
          300,
          533,
          696,
          83,
          165,
          15,
          563,
          210,
          263,
          280,
          2975,
          62,
          648,
          500,
          157,
          62,
          1525,
          75,
          25,
          500,
          100,
          75,
          71,
          120,
          83261,
          321,
          25,
          185,
          220,
          233,
          33424,
          684,
          178,
          6882,
          600,
          200,
          594,
          210,
          65,
          285,
          424,
          31089,
          4237,
          47029,
          3000,
          4929,
          567,
          290,
          22744,
          16390,
          1185,
          2188,
          111,
          6254,
          230,
          150,
          131,
          174,
          250,
          86,
          28,
          80,
          50,
          650,
          44,
          442,
          29,
          1202,
          300,
          25,
          1000,
          341,
          165,
          42,
          800,
          1265,
          2877,
          592,
          42,
          580,
          26409,
          1984,
          76,
          35,
          10580,
          277,
          12660,
          105670,
          868,
          1011,
          110,
          86,
          71,
          357,
          2965,
          1320,
          68637,
          55,
          2098,
          100,
          85,
          122653,
          153,
          340,
          145632,
          199359,
          50,
          55,
          8777,
          83,
          94962,
          680,
          50,
          1427,
          61,
          2421,
          16,
          54,
          70,
          464,
          71,
          116,
          8578,
          16970,
          200,
          150,
          24,
          687,
          154,
          4136,
          15,
          60,
          46,
          25,
          595,
          431,
          5856,
          93,
          60,
          36,
          95,
          100,
          2500,
          552,
          52,
          138,
          30,
          20,
          4886,
          304,
          38,
          19244,
          60138,
          222,
          31,
          85,
          51,
          34,
          149,
          325,
          150,
          113,
          5208,
          28098,
          1079,
          76788,
          5843,
          1088,
          1400,
          43,
          37,
          74,
          33,
          1044,
          70,
          421,
          93078,
          35,
          61,
          1291,
          16,
          28,
          88,
          5228,
          36,
          52,
          4198,
          473,
          95107,
          21725,
          3929,
          5464,
          50198,
          14,
          36,
          39,
          13,
          239,
          104,
          241,
          18,
          1479,
          13,
          14,
          95,
          40,
          353,
          40,
          148,
          80,
          132,
          536,
          18,
          34,
          398,
          47,
          58,
          22,
          150,
          1383,
          34,
          35,
          15,
          20,
          35,
          2840,
          187,
          827,
          125,
          109,
          18,
          98,
          201,
          14168,
          27,
          95,
          40,
          25,
          403,
          3600,
          25,
          903,
          110,
          50,
          55,
          41,
          472,
          17,
          126,
          214,
          20,
          22,
          30,
          300,
          1078,
          877,
          30,
          338,
          13,
          126,
          81,
          15,
          528,
          123,
          137,
          15,
          70,
          133,
          12,
          110,
          300,
          14023,
          356,
          890,
          2160,
          100,
          528,
          471,
          22,
          30,
          15,
          35,
          13,
          200,
          133,
          1310,
          60,
          830,
          23,
          80,
          75,
          38664,
          77,
          14,
          75,
          419,
          14,
          150,
          2936,
          4685,
          215,
          60,
          20,
          35,
          20,
          87,
          277,
          21,
          20,
          50,
          12703,
          33026,
          50,
          47,
          77,
          22,
          4032,
          348,
          298,
          175,
          35,
          258,
          142,
          16,
          37,
          272,
          301,
          43,
          125,
          527,
          70,
          3007,
          396,
          292,
          13,
          26,
          19,
          20,
          20,
          68,
          47,
          46,
          31,
          59288,
          300,
          24,
          72,
          75,
          500,
          310,
          54,
          31,
          12967,
          427,
          329,
          18,
          9130,
          60,
          15,
          14104,
          269,
          60,
          25,
          15,
          45,
          86,
          11,
          23,
          130,
          12,
          78,
          88,
          40,
          40,
          14,
          41,
          1000,
          25,
          81,
          54878,
          1960,
          20,
          23526,
          54,
          48,
          800,
          30,
          18,
          20,
          35,
          13,
          17,
          25,
          25,
          293
         ],
         "xaxis": "x",
         "yaxis": "y"
        },
        {
         "alignmentgroup": "True",
         "bingroup": "x",
         "hovertemplate": "calfire_incident=True<br>incident_acres_burned=%{x}<br>count=%{y}<extra></extra>",
         "legendgroup": "True",
         "marker": {
          "color": "#EF553B",
          "pattern": {
           "shape": ""
          }
         },
         "name": "True",
         "nbinsx": 30,
         "offsetgroup": "True",
         "orientation": "v",
         "showlegend": true,
         "type": "histogram",
         "x": [
          122,
          407,
          274,
          6896,
          75,
          125,
          2956,
          354,
          217,
          75,
          650,
          4346,
          40,
          712,
          91,
          35,
          25,
          90,
          303,
          100,
          2650,
          50,
          124,
          2500,
          149,
          170,
          100,
          298,
          28,
          124,
          30,
          30274,
          240,
          42,
          60,
          96,
          75,
          108,
          1708,
          237,
          35,
          40,
          480,
          124,
          46,
          150,
          25,
          534,
          274,
          105,
          492,
          754,
          502,
          200,
          50,
          38,
          7055,
          85,
          73,
          43,
          50,
          150,
          27531,
          75,
          25,
          92,
          150,
          60,
          612,
          45,
          500,
          195,
          158,
          163,
          40,
          15,
          31,
          1383,
          38,
          20292,
          50,
          116,
          27,
          2264,
          97,
          40,
          70,
          46,
          8073,
          196,
          11429,
          38,
          41,
          3111,
          73,
          52,
          80,
          263,
          30,
          94,
          98,
          376,
          159,
          305,
          40,
          163,
          33,
          51,
          120,
          190,
          64,
          82,
          3505,
          50,
          23,
          40,
          333,
          106,
          400,
          57,
          113,
          2143,
          29,
          1548,
          75,
          632,
          380,
          50,
          1995,
          175,
          402,
          269,
          25,
          40,
          70,
          130,
          225,
          120,
          85,
          4300,
          30,
          12661,
          6488,
          1469,
          217,
          80,
          75,
          47,
          38,
          143,
          72,
          4240,
          39736,
          13153,
          35302,
          32416,
          5503,
          25,
          612,
          101,
          20,
          84,
          461,
          1375,
          70,
          27,
          97717,
          247,
          320,
          516,
          48,
          80,
          137,
          1049,
          692,
          20,
          67,
          38,
          60,
          55,
          171,
          31359,
          158,
          920,
          135,
          60,
          533,
          19,
          35,
          170,
          23,
          150,
          40,
          18,
          54,
          95,
          21,
          214,
          181,
          25,
          4250,
          25,
          430,
          24,
          8051,
          65,
          26,
          116,
          77,
          25,
          2304,
          158,
          5702,
          114,
          40,
          16,
          400,
          69636,
          75,
          212,
          204,
          112,
          195,
          90,
          86,
          50,
          500,
          75,
          52,
          30,
          59,
          55,
          110,
          25118,
          2446,
          146,
          2850,
          22,
          215,
          128,
          673,
          72,
          30,
          108,
          35,
          40,
          170,
          70868,
          1040,
          109,
          104,
          30,
          690,
          30,
          1086,
          95,
          85,
          3876,
          278,
          120,
          91,
          30,
          150,
          25,
          132,
          169,
          70,
          112,
          86,
          33,
          43,
          88,
          25,
          30,
          32,
          139,
          2520,
          24,
          210,
          7609,
          70,
          80,
          83,
          7474,
          277,
          49,
          48019,
          52,
          1246,
          47,
          211,
          215,
          5645,
          372,
          188,
          95,
          554,
          303,
          464,
          1785,
          88,
          2944,
          30,
          310,
          87,
          145,
          103,
          45,
          15,
          341,
          35,
          84,
          221,
          78,
          138,
          123,
          100,
          69,
          26,
          2241,
          57,
          57,
          23,
          100,
          132127,
          800,
          50,
          50,
          75,
          50,
          28,
          40,
          38,
          32,
          114,
          35,
          80,
          520,
          5731,
          100,
          85,
          26,
          25,
          8110,
          45,
          36,
          7050,
          36274,
          35,
          21,
          46235,
          3929,
          23,
          40,
          158,
          25,
          389,
          36,
          147,
          599,
          2575,
          88,
          450,
          710,
          380,
          600,
          20,
          32,
          30,
          321,
          47,
          130,
          300,
          45,
          1080,
          70,
          100,
          1547,
          4474,
          176,
          28,
          30,
          45,
          380,
          15,
          4532,
          126,
          1350,
          12,
          19,
          130,
          12,
          400,
          31,
          1733,
          20,
          17,
          41,
          225,
          288,
          18,
          17,
          150,
          225,
          10000,
          20,
          14,
          70,
          12,
          2056,
          17,
          506,
          190,
          25,
          21,
          35,
          120,
          16,
          48,
          15,
          18,
          16,
          79,
          68,
          26,
          16,
          42,
          27,
          25,
          33,
          78,
          67,
          20,
          91,
          46,
          339,
          157,
          206,
          35,
          14,
          1417,
          186,
          22,
          32,
          450,
          76,
          38,
          33,
          135,
          20,
          150,
          63,
          105,
          28,
          134,
          32,
          60,
          153,
          25,
          26,
          56,
          65,
          54,
          21,
          111,
          357,
          42,
          36,
          6309,
          19,
          1626,
          35,
          38,
          25,
          28,
          85,
          15,
          558,
          1200,
          42,
          41,
          128,
          11,
          14,
          225,
          1562,
          30,
          50,
          34,
          57,
          35,
          18,
          205,
          21,
          496,
          74,
          62,
          91,
          22,
          1700,
          1626,
          28687,
          2940,
          90,
          33,
          6033,
          74,
          58,
          36,
          231,
          340,
          370,
          50,
          13,
          1816,
          29,
          48660,
          166,
          70,
          50,
          460,
          400,
          59,
          32,
          35,
          900,
          81826,
          20,
          1649,
          70,
          117,
          15,
          40,
          59,
          1083,
          180,
          72,
          58,
          2289,
          124,
          63,
          19,
          103,
          675,
          47,
          140,
          416,
          1268,
          51,
          255,
          13,
          150,
          39,
          78,
          170,
          57,
          15,
          20,
          17,
          155,
          236,
          11,
          200,
          70,
          460,
          85,
          325,
          30,
          62,
          122,
          92,
          82,
          338,
          100,
          15,
          114,
          19,
          775,
          1500,
          125,
          600,
          17,
          168,
          867,
          200,
          31,
          62,
          157,
          40,
          111,
          44,
          18,
          69,
          4016,
          55,
          28,
          392,
          27,
          102,
          34,
          85,
          130,
          34,
          25,
          1037,
          100,
          3800,
          120,
          21,
          79,
          100,
          680,
          25,
          39,
          25,
          74,
          43,
          143,
          50,
          900,
          12,
          136,
          483,
          146,
          155,
          237,
          48,
          245,
          28,
          55,
          26,
          105,
          2662,
          444,
          40,
          35,
          100,
          17,
          20,
          87,
          40,
          20,
          20,
          8500,
          51624,
          36807,
          44573,
          8283,
          6151,
          9989,
          76,
          36523,
          130,
          1660,
          50,
          2207,
          821,
          150,
          9217,
          866,
          194,
          58,
          17357,
          391,
          183,
          25,
          19,
          23,
          34,
          260,
          50,
          184,
          73,
          100,
          100,
          31,
          116,
          13,
          6049,
          40,
          43,
          40,
          86,
          21,
          47,
          100,
          99,
          4088,
          19,
          14,
          14,
          2070,
          12,
          1261,
          15,
          11,
          21,
          12,
          127,
          18,
          60,
          1756,
          70,
          15,
          1065,
          73,
          26,
          103,
          27,
          88,
          12,
          59,
          56,
          100,
          108,
          16,
          75,
          63,
          25,
          484,
          14,
          23,
          23,
          175,
          13,
          11,
          17,
          35,
          12,
          37,
          12,
          1314,
          513,
          300,
          64,
          12,
          265,
          62,
          200,
          2956,
          2290,
          215,
          60,
          155,
          154,
          70,
          20,
          20,
          60,
          4563,
          60,
          53,
          40,
          32,
          25,
          17,
          20,
          185,
          115,
          40,
          328,
          3392,
          268,
          15180,
          75,
          95,
          1678,
          163,
          80,
          68,
          90,
          11789,
          300,
          375,
          76,
          460,
          260,
          383,
          191,
          30,
          268,
          70,
          90000,
          63,
          33,
          12,
          504,
          316,
          38008,
          825,
          113,
          116,
          962,
          12,
          62,
          11,
          70,
          51,
          278,
          31,
          56,
          480,
          11,
          80,
          856,
          116,
          14,
          224,
          56,
          16,
          32,
          89,
          50,
          14,
          28,
          77,
          822,
          43,
          40,
          13,
          282,
          63,
          110,
          50,
          30,
          37,
          320,
          67,
          128,
          40,
          36,
          51,
          167,
          20,
          247,
          39,
          34,
          106,
          365,
          205,
          136,
          22,
          30,
          3156,
          100,
          48920,
          993,
          18703,
          30,
          207,
          135,
          35,
          51,
          14,
          67,
          66,
          695,
          2225,
          35,
          290,
          114,
          23,
          250,
          1900,
          2490,
          2162,
          34,
          16,
          700,
          496,
          48,
          155,
          289,
          32,
          103,
          36,
          60,
          63311,
          24,
          150,
          573,
          411,
          152,
          200,
          12,
          360,
          53,
          76,
          30,
          33,
          80,
          3889,
          15,
          167,
          12,
          58,
          120,
          550,
          17,
          35,
          153336,
          60,
          4381,
          96949,
          30,
          20,
          20,
          150,
          186,
          80,
          161,
          50,
          172,
          22,
          130,
          63,
          26,
          835,
          121,
          45,
          144,
          155,
          257,
          33,
          25,
          1075,
          23,
          27,
          581,
          2220,
          50,
          1763,
          210,
          35,
          43,
          47,
          120,
          15,
          17,
          17,
          120,
          500,
          46,
          80,
          2420,
          2546,
          90,
          17,
          148,
          20,
          28,
          214,
          210,
          12,
          283,
          25,
          24,
          30,
          38,
          244,
          1010,
          190,
          20,
          100,
          80,
          22,
          30,
          96,
          131,
          202,
          47,
          213,
          81,
          90,
          25,
          35,
          27,
          149,
          64,
          81,
          183,
          80,
          95,
          130,
          150,
          306,
          13,
          84,
          50,
          340,
          26,
          30,
          94,
          107,
          20,
          21,
          20,
          46,
          225,
          1575,
          81,
          16,
          20,
          60,
          156,
          433,
          80,
          35,
          1507,
          1300,
          139,
          600,
          34,
          80,
          35,
          25,
          12,
          19,
          756,
          66,
          11,
          167,
          15,
          85,
          1926,
          28,
          17,
          8836,
          44,
          58,
          53,
          496,
          15,
          190,
          34,
          11,
          640,
          128,
          98,
          67,
          83,
          16,
          200,
          300,
          22,
          19,
          25,
          18,
          63,
          5563,
          526,
          29,
          11,
          12,
          289,
          68,
          350,
          1011,
          42,
          75,
          30,
          15,
          25,
          137,
          11,
          77758,
          67,
          80,
          62,
          35,
          97,
          37,
          605,
          150,
          703,
          2375,
          628,
          328,
          50,
          9999,
          19,
          2534,
          75,
          308,
          15,
          75,
          154,
          180,
          20,
          26,
          55,
          20,
          60,
          60,
          237,
          670,
          39,
          141,
          107,
          1837,
          211,
          85,
          80,
          27,
          230,
          20,
          29,
          151,
          1680,
          803,
          100,
          90,
          40,
          5042,
          191,
          34,
          445,
          813,
          18,
          1455,
          95,
          89,
          68,
          110,
          130,
          13,
          217,
          89,
          11,
          195,
          52,
          1050,
          348,
          19,
          12,
          202,
          59,
          2192,
          33,
          12,
          136,
          4000,
          108,
          583,
          353,
          100,
          67,
          5513,
          298,
          150,
          32,
          31,
          108,
          33,
          91,
          29667,
          1485,
          48,
          253,
          119,
          557,
          9564,
          333,
          22614,
          30,
          135,
          145,
          138,
          250,
          51,
          788,
          100,
          3222,
          741,
          104,
          2005,
          36,
          52,
          560,
          120,
          7760,
          322,
          277,
          177,
          183,
          512,
          110,
          320,
          2121,
          20,
          727,
          48088,
          705,
          275,
          14,
          86509,
          6901,
          62,
          1783,
          820,
          19609,
          55,
          2857,
          45,
          143,
          29570,
          53,
          400,
          13,
          1100,
          1311,
          45,
          45,
          50,
          67484,
          56338,
          454,
          48,
          20,
          21,
          56,
          30,
          21,
          170,
          15,
          102,
          61,
          275,
          133,
          12466,
          13964,
          49,
          1087,
          200,
          6686,
          24,
          1954,
          23,
          20,
          15,
          22,
          865,
          43,
          184,
          20,
          37,
          873,
          23,
          35,
          25,
          200,
          93,
          65,
          160,
          32,
          5366,
          32,
          226,
          550,
          118,
          35,
          97,
          300,
          17,
          45,
          18,
          115,
          197,
          508,
          1118,
          25,
          45,
          28,
          43,
          50,
          939,
          250,
          34,
          67,
          150,
          35,
          15,
          108,
          402,
          560,
          11,
          48,
          515,
          95,
          761,
          20,
          53,
          145,
          50,
          350,
          134,
          37,
          11,
          220,
          140,
          122,
          35,
          118,
          173,
          384,
          75,
          80,
          92,
          128,
          9656,
          43,
          35,
          30,
          43,
          50,
          45,
          25,
          171,
          75,
          50,
          60,
          2619,
          20,
          184,
          22,
          127,
          50,
          295,
          639,
          160,
          59,
          100,
          44,
          46,
          411,
          257,
          42,
          80,
          24,
          447,
          132,
          59,
          148,
          21,
          88,
          120,
          113,
          12,
          171,
          200,
          682,
          28,
          120,
          36,
          135,
          90,
          48,
          570,
          159,
          54,
          517,
          72,
          865,
          65,
          577,
          593,
          70,
          20,
          66,
          120,
          71,
          26,
          349,
          90,
          110,
          12,
          63,
          113,
          317,
          387,
          904,
          328,
          34,
          4470,
          30,
          166,
          37,
          115,
          74,
          60,
          100,
          43,
          421,
          82,
          17,
          121,
          64,
          104,
          20,
          174,
          39,
          28,
          55,
          63,
          127,
          14,
          250,
          19244,
          58,
          53,
          48,
          14,
          44,
          25,
          26,
          4456,
          34,
          124,
          21,
          3939,
          73,
          13440,
          30,
          50,
          11,
          16,
          130,
          819,
          297,
          160,
          48,
          29,
          30,
          50,
          127,
          338,
          123,
          13,
          108,
          65,
          135,
          72,
          15,
          25,
          21,
          32,
          115,
          103,
          141,
          640,
          37,
          25,
          59,
          24,
          68,
          90,
          25,
          105,
          14,
          34,
          18,
          39,
          56,
          64,
          391,
          12,
          58,
          30,
          35,
          71,
          12,
          105,
          8355,
          336,
          22,
          89,
          15,
          436,
          296,
          137,
          162,
          33,
          65,
          2323,
          103,
          20,
          80,
          100,
          20,
          29,
          95,
          68,
          1120,
          184,
          531,
          68,
          301,
          75,
          695,
          838,
          72,
          109,
          466,
          28,
          32,
          55,
          23,
          243,
          44,
          24,
          2487,
          124,
          211,
          13,
          15,
          36,
          35,
          65,
          2715,
          181,
          50,
          11,
          181,
          475,
          12,
          37,
          24,
          15,
          18,
          14,
          12,
          29,
          186,
          27,
          121,
          12,
          19,
          17,
          11,
          191,
          13,
          12,
          47,
          29,
          116,
          762,
          13,
          188,
          12,
          32,
          1300,
          22,
          616,
          36,
          250,
          13,
          1575,
          86,
          17,
          1088,
          30,
          331,
          60,
          34,
          211,
          47,
          55,
          34,
          23,
          54,
          14,
          30,
          11,
          44,
          50,
          25,
          23,
          15,
          28,
          23,
          17,
          64,
          1410,
          119,
          30,
          19,
          15563,
          1056,
          642,
          18,
          15,
          890,
          1207,
          13,
          86,
          45,
          33,
          13,
          19195,
          585,
          5285,
          12,
          51,
          38,
          25,
          20,
          13,
          58,
          11,
          546,
          213,
          137,
          90,
          13,
          12,
          142,
          52,
          438,
          215,
          691,
          19,
          11,
          10616,
          12,
          54,
          20,
          250,
          210,
          85,
          36,
          27,
          41,
          202,
          11,
          255,
          344,
          16,
          400,
          80,
          43,
          1595,
          41,
          3789,
          19,
          25,
          23,
          1295,
          51,
          18,
          15520,
          16,
          98,
          11,
          11,
          323,
          17,
          32,
          18,
          908,
          65,
          14,
          57,
          71,
          60,
          19,
          11,
          77,
          49,
          55,
          11,
          27,
          31,
          98,
          411,
          53,
          509,
          93,
          85,
          130,
          50,
          29,
          260,
          101,
          161,
          5646,
          9950,
          42,
          1025,
          51,
          11,
          109,
          101,
          7224,
          14,
          43,
          104,
          11,
          203,
          80,
          1710,
          15,
          58,
          32,
          15,
          71,
          12,
          49,
          1100,
          96,
          19,
          863,
          50,
          59,
          36,
          40,
          151,
          17,
          145,
          389,
          744,
          12,
          12,
          21,
          65,
          61,
          13,
          5222,
          11,
          300,
          3815,
          11,
          15,
          22,
          12,
          12,
          14,
          41,
          55,
          80,
          60,
          60,
          63,
          21,
          110,
          11,
          108,
          11,
          68,
          20,
          17,
          25,
          13,
          103,
          85,
          65,
          88,
          23,
          172,
          16,
          22,
          16,
          33,
          15,
          11,
          25,
          16,
          34,
          33,
          12,
          27,
          86,
          27,
          17,
          76,
          22,
          16,
          42,
          38,
          22,
          15,
          18,
          19,
          12,
          33,
          16,
          45,
          22,
          11,
          20,
          48,
          517,
          91,
          3327,
          59,
          17000,
          18,
          264,
          502,
          43922,
          18,
          15,
          25,
          752,
          40,
          314,
          63,
          20,
          22,
          62,
          85,
          12,
          53,
          15,
          58,
          35,
          11,
          14,
          42,
          17,
          38,
          633,
          18,
          30,
          44
         ],
         "xaxis": "x",
         "yaxis": "y"
        }
       ],
       "layout": {
        "autosize": true,
        "barmode": "relative",
        "legend": {
         "title": {
          "text": "calfire_incident"
         },
         "tracegroupgap": 0
        },
        "template": {
         "data": {
          "bar": [
           {
            "error_x": {
             "color": "#2a3f5f"
            },
            "error_y": {
             "color": "#2a3f5f"
            },
            "marker": {
             "line": {
              "color": "#E5ECF6",
              "width": 0.5
             },
             "pattern": {
              "fillmode": "overlay",
              "size": 10,
              "solidity": 0.2
             }
            },
            "type": "bar"
           }
          ],
          "barpolar": [
           {
            "marker": {
             "line": {
              "color": "#E5ECF6",
              "width": 0.5
             },
             "pattern": {
              "fillmode": "overlay",
              "size": 10,
              "solidity": 0.2
             }
            },
            "type": "barpolar"
           }
          ],
          "carpet": [
           {
            "aaxis": {
             "endlinecolor": "#2a3f5f",
             "gridcolor": "white",
             "linecolor": "white",
             "minorgridcolor": "white",
             "startlinecolor": "#2a3f5f"
            },
            "baxis": {
             "endlinecolor": "#2a3f5f",
             "gridcolor": "white",
             "linecolor": "white",
             "minorgridcolor": "white",
             "startlinecolor": "#2a3f5f"
            },
            "type": "carpet"
           }
          ],
          "choropleth": [
           {
            "colorbar": {
             "outlinewidth": 0,
             "ticks": ""
            },
            "type": "choropleth"
           }
          ],
          "contour": [
           {
            "colorbar": {
             "outlinewidth": 0,
             "ticks": ""
            },
            "colorscale": [
             [
              0,
              "#0d0887"
             ],
             [
              0.1111111111111111,
              "#46039f"
             ],
             [
              0.2222222222222222,
              "#7201a8"
             ],
             [
              0.3333333333333333,
              "#9c179e"
             ],
             [
              0.4444444444444444,
              "#bd3786"
             ],
             [
              0.5555555555555556,
              "#d8576b"
             ],
             [
              0.6666666666666666,
              "#ed7953"
             ],
             [
              0.7777777777777778,
              "#fb9f3a"
             ],
             [
              0.8888888888888888,
              "#fdca26"
             ],
             [
              1,
              "#f0f921"
             ]
            ],
            "type": "contour"
           }
          ],
          "contourcarpet": [
           {
            "colorbar": {
             "outlinewidth": 0,
             "ticks": ""
            },
            "type": "contourcarpet"
           }
          ],
          "heatmap": [
           {
            "colorbar": {
             "outlinewidth": 0,
             "ticks": ""
            },
            "colorscale": [
             [
              0,
              "#0d0887"
             ],
             [
              0.1111111111111111,
              "#46039f"
             ],
             [
              0.2222222222222222,
              "#7201a8"
             ],
             [
              0.3333333333333333,
              "#9c179e"
             ],
             [
              0.4444444444444444,
              "#bd3786"
             ],
             [
              0.5555555555555556,
              "#d8576b"
             ],
             [
              0.6666666666666666,
              "#ed7953"
             ],
             [
              0.7777777777777778,
              "#fb9f3a"
             ],
             [
              0.8888888888888888,
              "#fdca26"
             ],
             [
              1,
              "#f0f921"
             ]
            ],
            "type": "heatmap"
           }
          ],
          "heatmapgl": [
           {
            "colorbar": {
             "outlinewidth": 0,
             "ticks": ""
            },
            "colorscale": [
             [
              0,
              "#0d0887"
             ],
             [
              0.1111111111111111,
              "#46039f"
             ],
             [
              0.2222222222222222,
              "#7201a8"
             ],
             [
              0.3333333333333333,
              "#9c179e"
             ],
             [
              0.4444444444444444,
              "#bd3786"
             ],
             [
              0.5555555555555556,
              "#d8576b"
             ],
             [
              0.6666666666666666,
              "#ed7953"
             ],
             [
              0.7777777777777778,
              "#fb9f3a"
             ],
             [
              0.8888888888888888,
              "#fdca26"
             ],
             [
              1,
              "#f0f921"
             ]
            ],
            "type": "heatmapgl"
           }
          ],
          "histogram": [
           {
            "marker": {
             "pattern": {
              "fillmode": "overlay",
              "size": 10,
              "solidity": 0.2
             }
            },
            "type": "histogram"
           }
          ],
          "histogram2d": [
           {
            "colorbar": {
             "outlinewidth": 0,
             "ticks": ""
            },
            "colorscale": [
             [
              0,
              "#0d0887"
             ],
             [
              0.1111111111111111,
              "#46039f"
             ],
             [
              0.2222222222222222,
              "#7201a8"
             ],
             [
              0.3333333333333333,
              "#9c179e"
             ],
             [
              0.4444444444444444,
              "#bd3786"
             ],
             [
              0.5555555555555556,
              "#d8576b"
             ],
             [
              0.6666666666666666,
              "#ed7953"
             ],
             [
              0.7777777777777778,
              "#fb9f3a"
             ],
             [
              0.8888888888888888,
              "#fdca26"
             ],
             [
              1,
              "#f0f921"
             ]
            ],
            "type": "histogram2d"
           }
          ],
          "histogram2dcontour": [
           {
            "colorbar": {
             "outlinewidth": 0,
             "ticks": ""
            },
            "colorscale": [
             [
              0,
              "#0d0887"
             ],
             [
              0.1111111111111111,
              "#46039f"
             ],
             [
              0.2222222222222222,
              "#7201a8"
             ],
             [
              0.3333333333333333,
              "#9c179e"
             ],
             [
              0.4444444444444444,
              "#bd3786"
             ],
             [
              0.5555555555555556,
              "#d8576b"
             ],
             [
              0.6666666666666666,
              "#ed7953"
             ],
             [
              0.7777777777777778,
              "#fb9f3a"
             ],
             [
              0.8888888888888888,
              "#fdca26"
             ],
             [
              1,
              "#f0f921"
             ]
            ],
            "type": "histogram2dcontour"
           }
          ],
          "mesh3d": [
           {
            "colorbar": {
             "outlinewidth": 0,
             "ticks": ""
            },
            "type": "mesh3d"
           }
          ],
          "parcoords": [
           {
            "line": {
             "colorbar": {
              "outlinewidth": 0,
              "ticks": ""
             }
            },
            "type": "parcoords"
           }
          ],
          "pie": [
           {
            "automargin": true,
            "type": "pie"
           }
          ],
          "scatter": [
           {
            "fillpattern": {
             "fillmode": "overlay",
             "size": 10,
             "solidity": 0.2
            },
            "type": "scatter"
           }
          ],
          "scatter3d": [
           {
            "line": {
             "colorbar": {
              "outlinewidth": 0,
              "ticks": ""
             }
            },
            "marker": {
             "colorbar": {
              "outlinewidth": 0,
              "ticks": ""
             }
            },
            "type": "scatter3d"
           }
          ],
          "scattercarpet": [
           {
            "marker": {
             "colorbar": {
              "outlinewidth": 0,
              "ticks": ""
             }
            },
            "type": "scattercarpet"
           }
          ],
          "scattergeo": [
           {
            "marker": {
             "colorbar": {
              "outlinewidth": 0,
              "ticks": ""
             }
            },
            "type": "scattergeo"
           }
          ],
          "scattergl": [
           {
            "marker": {
             "colorbar": {
              "outlinewidth": 0,
              "ticks": ""
             }
            },
            "type": "scattergl"
           }
          ],
          "scattermapbox": [
           {
            "marker": {
             "colorbar": {
              "outlinewidth": 0,
              "ticks": ""
             }
            },
            "type": "scattermapbox"
           }
          ],
          "scatterpolar": [
           {
            "marker": {
             "colorbar": {
              "outlinewidth": 0,
              "ticks": ""
             }
            },
            "type": "scatterpolar"
           }
          ],
          "scatterpolargl": [
           {
            "marker": {
             "colorbar": {
              "outlinewidth": 0,
              "ticks": ""
             }
            },
            "type": "scatterpolargl"
           }
          ],
          "scatterternary": [
           {
            "marker": {
             "colorbar": {
              "outlinewidth": 0,
              "ticks": ""
             }
            },
            "type": "scatterternary"
           }
          ],
          "surface": [
           {
            "colorbar": {
             "outlinewidth": 0,
             "ticks": ""
            },
            "colorscale": [
             [
              0,
              "#0d0887"
             ],
             [
              0.1111111111111111,
              "#46039f"
             ],
             [
              0.2222222222222222,
              "#7201a8"
             ],
             [
              0.3333333333333333,
              "#9c179e"
             ],
             [
              0.4444444444444444,
              "#bd3786"
             ],
             [
              0.5555555555555556,
              "#d8576b"
             ],
             [
              0.6666666666666666,
              "#ed7953"
             ],
             [
              0.7777777777777778,
              "#fb9f3a"
             ],
             [
              0.8888888888888888,
              "#fdca26"
             ],
             [
              1,
              "#f0f921"
             ]
            ],
            "type": "surface"
           }
          ],
          "table": [
           {
            "cells": {
             "fill": {
              "color": "#EBF0F8"
             },
             "line": {
              "color": "white"
             }
            },
            "header": {
             "fill": {
              "color": "#C8D4E3"
             },
             "line": {
              "color": "white"
             }
            },
            "type": "table"
           }
          ]
         },
         "layout": {
          "annotationdefaults": {
           "arrowcolor": "#2a3f5f",
           "arrowhead": 0,
           "arrowwidth": 1
          },
          "autotypenumbers": "strict",
          "coloraxis": {
           "colorbar": {
            "outlinewidth": 0,
            "ticks": ""
           }
          },
          "colorscale": {
           "diverging": [
            [
             0,
             "#8e0152"
            ],
            [
             0.1,
             "#c51b7d"
            ],
            [
             0.2,
             "#de77ae"
            ],
            [
             0.3,
             "#f1b6da"
            ],
            [
             0.4,
             "#fde0ef"
            ],
            [
             0.5,
             "#f7f7f7"
            ],
            [
             0.6,
             "#e6f5d0"
            ],
            [
             0.7,
             "#b8e186"
            ],
            [
             0.8,
             "#7fbc41"
            ],
            [
             0.9,
             "#4d9221"
            ],
            [
             1,
             "#276419"
            ]
           ],
           "sequential": [
            [
             0,
             "#0d0887"
            ],
            [
             0.1111111111111111,
             "#46039f"
            ],
            [
             0.2222222222222222,
             "#7201a8"
            ],
            [
             0.3333333333333333,
             "#9c179e"
            ],
            [
             0.4444444444444444,
             "#bd3786"
            ],
            [
             0.5555555555555556,
             "#d8576b"
            ],
            [
             0.6666666666666666,
             "#ed7953"
            ],
            [
             0.7777777777777778,
             "#fb9f3a"
            ],
            [
             0.8888888888888888,
             "#fdca26"
            ],
            [
             1,
             "#f0f921"
            ]
           ],
           "sequentialminus": [
            [
             0,
             "#0d0887"
            ],
            [
             0.1111111111111111,
             "#46039f"
            ],
            [
             0.2222222222222222,
             "#7201a8"
            ],
            [
             0.3333333333333333,
             "#9c179e"
            ],
            [
             0.4444444444444444,
             "#bd3786"
            ],
            [
             0.5555555555555556,
             "#d8576b"
            ],
            [
             0.6666666666666666,
             "#ed7953"
            ],
            [
             0.7777777777777778,
             "#fb9f3a"
            ],
            [
             0.8888888888888888,
             "#fdca26"
            ],
            [
             1,
             "#f0f921"
            ]
           ]
          },
          "colorway": [
           "#636efa",
           "#EF553B",
           "#00cc96",
           "#ab63fa",
           "#FFA15A",
           "#19d3f3",
           "#FF6692",
           "#B6E880",
           "#FF97FF",
           "#FECB52"
          ],
          "font": {
           "color": "#2a3f5f"
          },
          "geo": {
           "bgcolor": "white",
           "lakecolor": "white",
           "landcolor": "#E5ECF6",
           "showlakes": true,
           "showland": true,
           "subunitcolor": "white"
          },
          "hoverlabel": {
           "align": "left"
          },
          "hovermode": "closest",
          "mapbox": {
           "style": "light"
          },
          "paper_bgcolor": "white",
          "plot_bgcolor": "#E5ECF6",
          "polar": {
           "angularaxis": {
            "gridcolor": "white",
            "linecolor": "white",
            "ticks": ""
           },
           "bgcolor": "#E5ECF6",
           "radialaxis": {
            "gridcolor": "white",
            "linecolor": "white",
            "ticks": ""
           }
          },
          "scene": {
           "xaxis": {
            "backgroundcolor": "#E5ECF6",
            "gridcolor": "white",
            "gridwidth": 2,
            "linecolor": "white",
            "showbackground": true,
            "ticks": "",
            "zerolinecolor": "white"
           },
           "yaxis": {
            "backgroundcolor": "#E5ECF6",
            "gridcolor": "white",
            "gridwidth": 2,
            "linecolor": "white",
            "showbackground": true,
            "ticks": "",
            "zerolinecolor": "white"
           },
           "zaxis": {
            "backgroundcolor": "#E5ECF6",
            "gridcolor": "white",
            "gridwidth": 2,
            "linecolor": "white",
            "showbackground": true,
            "ticks": "",
            "zerolinecolor": "white"
           }
          },
          "shapedefaults": {
           "line": {
            "color": "#2a3f5f"
           }
          },
          "ternary": {
           "aaxis": {
            "gridcolor": "white",
            "linecolor": "white",
            "ticks": ""
           },
           "baxis": {
            "gridcolor": "white",
            "linecolor": "white",
            "ticks": ""
           },
           "bgcolor": "#E5ECF6",
           "caxis": {
            "gridcolor": "white",
            "linecolor": "white",
            "ticks": ""
           }
          },
          "title": {
           "x": 0.05
          },
          "xaxis": {
           "automargin": true,
           "gridcolor": "white",
           "linecolor": "white",
           "ticks": "",
           "title": {
            "standoff": 15
           },
           "zerolinecolor": "white",
           "zerolinewidth": 2
          },
          "yaxis": {
           "automargin": true,
           "gridcolor": "white",
           "linecolor": "white",
           "ticks": "",
           "title": {
            "standoff": 15
           },
           "zerolinecolor": "white",
           "zerolinewidth": 2
          }
         }
        },
        "title": {
         "text": "Histogram of Acres Burned (CalFire Incidents Colored)"
        },
        "xaxis": {
         "anchor": "y",
         "autorange": true,
         "domain": [
          0,
          1
         ],
         "range": [
          -0.5,
          199999.5
         ],
         "title": {
          "text": "incident_acres_burned"
         },
         "type": "linear"
        },
        "yaxis": {
         "anchor": "x",
         "autorange": true,
         "domain": [
          0,
          1
         ],
         "range": [
          0,
          2557.8947368421054
         ],
         "title": {
          "text": "count"
         }
        }
       }
      },
      "image/png": "[encoded data removed]",
      "text/html": [
       "<div>                            <div id=\"ee8ce1d7-6b8d-4a72-bd9c-e9afa64fe627\" class=\"plotly-graph-div\" style=\"height:525px; width:100%;\"></div>            <script type=\"text/javascript\">                require([\"plotly\"], function(Plotly) {                    window.PLOTLYENV=window.PLOTLYENV || {};                                    if (document.getElementById(\"ee8ce1d7-6b8d-4a72-bd9c-e9afa64fe627\")) {                    Plotly.newPlot(                        \"ee8ce1d7-6b8d-4a72-bd9c-e9afa64fe627\",                        [{\"alignmentgroup\":\"True\",\"bingroup\":\"x\",\"hovertemplate\":\"calfire_incident=False\\u003cbr\\u003eincident_acres_burned=%{x}\\u003cbr\\u003ecount=%{y}\\u003cextra\\u003e\\u003c\\u002fextra\\u003e\",\"legendgroup\":\"False\",\"marker\":{\"color\":\"#636efa\",\"pattern\":{\"shape\":\"\"}},\"name\":\"False\",\"nbinsx\":30,\"offsetgroup\":\"False\",\"orientation\":\"v\",\"showlegend\":true,\"x\":[37.0,30.0,1984.0,500.0,572.0,22992.0,14754.0,1070.0,60.0,12503.0,243.0,27440.0,110.0,513.0,794.0,200.0,413.0,2060.0,97.0,134.0,268.0,97.0,68.0,2236.0,865.0,1952.0,125.0,5367.0,1457.0,600.0,3895.0,1651.0,15.0,1680.0,6258.0,190.0,274.0,4045.0,210.0,311.0,200.0,968.0,94.0,20.0,1542.0,415.0,100.0,200.0,75.0,167.0,6980.0,4863.0,10570.0,55.0,151623.0,1388.0,50.0,21.0,156.0,61.0,2860.0,650.0,1100.0,2304.0,1245.0,150.0,20.0,38.0,29322.0,304.0,33867.0,395.0,150.0,5443.0,2652.0,12518.0,215.0,248.0,2100.0,4824.0,4347.0,750.0,150.0,486.0,1000.0,50.0,850.0,1522.0,39.0,1503.0,168.0,760.0,670.0,562.0,55.0,13.0,50.0,18430.0,410.0,27276.0,747.0,83733.0,101.0,46.0,40.0,2312.0,19.0,135.0,4310.0,319.0,85.0,20.0,1350.0,100.0,32.0,50.0,1020.0,530.0,859.0,4736.0,41.0,8094.0,7000.0,191125.0,186.0,78698.0,2295.0,3142.0,7697.0,200.0,46.0,40.0,36556.0,54.0,12407.0,6042.0,8925.0,21846.0,30.0,5247.0,1749.0,1319.0,7194.0,18618.0,54.0,32.0,2575.0,200.0,39715.0,40.0,58.0,13417.0,22.0,18900.0,45.0,50.0,148.0,29.0,40.0,426.0,1088.0,15619.0,370.0,81.0,300.0,422.0,45.0,80.0,50.0,258.0,20.0,18.0,300.0,127.0,38.0,1352.0,12.0,175.0,96.0,20.0,646.0,1202.0,1500.0,170.0,62.0,4064.0,63.0,33.0,215.0,45.0,1350.0,2100.0,96901.0,52.0,2883.0,280.0,100.0,3674.0,34.0,38134.0,36450.0,338.0,1200.0,972.0,23136.0,117.0,2995.0,45.0,46150.0,30.0,100.0,39387.0,367.0,1014.0,88.0,166.0,172.0,15.0,125.0,1120.0,13.0,1751.0,6974.0,25.0,3380.0,261.0,53.0,150.0,32.0,63.0,160.0,38.0,88.0,1500.0,147.0,115.0,2500.0,65.0,55.0,24.0,70.0,1350.0,207.0,30.0,74.0,263.0,1165.0,193.0,128.0,208.0,83.0,35.0,156.0,14217.0,100.0,280.0,448.0,448.0,103.0,156.0,29.0,58.0,130.0,1020.0,240.0,1301.0,33.0,131.0,2438.0,3380.0,279.0,54612.0,244.0,5332.0,4840.0,5737.0,1975.0,381.0,10296.0,260.0,1872.0,227.0,280.0,250.0,200.0,503.0,91.0,167.0,220.0,52.0,30.0,52.0,40.0,91.0,8799.0,3435.0,200.0,55.0,75.0,420.0,42.0,145.0,4615.0,200.0,140.0,50.0,745.0,200.0,3126.0,102.0,57.0,211.0,275.0,47.0,2060.0,156.0,17.0,152.0,20.0,5000.0,1395.0,37.0,129.0,300.0,19.0,15.0,126.0,79.0,100.0,100.0,1100.0,300.0,533.0,696.0,83.0,165.0,15.0,563.0,210.0,263.0,280.0,2975.0,62.0,648.0,500.0,157.0,62.0,1525.0,75.0,25.0,500.0,100.0,75.0,71.0,120.0,83261.0,321.0,25.0,185.0,220.0,233.0,33424.0,684.0,178.0,6882.0,600.0,200.0,594.0,210.0,65.0,285.0,424.0,31089.0,4237.0,47029.0,3000.0,4929.0,567.0,290.0,22744.0,16390.0,1185.0,2188.0,111.0,6254.0,230.0,150.0,131.0,174.0,250.0,86.0,28.0,80.0,50.0,650.0,44.0,442.0,29.0,1202.0,300.0,25.0,1000.0,341.0,165.0,42.0,800.0,1265.0,2877.0,592.0,42.0,580.0,26409.0,1984.0,76.0,35.0,10580.0,277.0,12660.0,105670.0,868.0,1011.0,110.0,86.0,71.0,357.0,2965.0,1320.0,68637.0,55.0,2098.0,100.0,85.0,122653.0,153.0,340.0,145632.0,199359.0,50.0,55.0,8777.0,83.0,94962.0,680.0,50.0,1427.0,61.0,2421.0,16.0,54.0,70.0,464.0,71.0,116.0,8578.0,16970.0,200.0,150.0,24.0,687.0,154.0,4136.0,15.0,60.0,46.0,25.0,595.0,431.0,5856.0,93.0,60.0,36.0,95.0,100.0,2500.0,552.0,52.0,138.0,30.0,20.0,4886.0,304.0,38.0,19244.0,60138.0,222.0,31.0,85.0,51.0,34.0,149.0,325.0,150.0,113.0,5208.0,28098.0,1079.0,76788.0,5843.0,1088.0,1400.0,43.0,37.0,74.0,33.0,1044.0,70.0,421.0,93078.0,35.0,61.0,1291.0,16.0,28.0,88.0,5228.0,36.0,52.0,4198.0,473.0,95107.0,21725.0,3929.0,5464.0,50198.0,14.0,36.0,39.0,13.0,239.0,104.0,241.0,18.0,1479.0,13.0,14.0,95.0,40.0,353.0,40.0,148.0,80.0,132.0,536.0,18.0,34.0,398.0,47.0,58.0,22.0,150.0,1383.0,34.0,35.0,15.0,20.0,35.0,2840.0,187.0,827.0,125.0,109.0,18.0,98.0,201.0,14168.0,27.0,95.0,40.0,25.0,403.0,3600.0,25.0,903.0,110.0,50.0,55.0,41.0,472.0,17.0,126.0,214.0,20.0,22.0,30.0,300.0,1078.0,877.0,30.0,338.0,13.0,126.0,81.0,15.0,528.0,123.0,137.0,15.0,70.0,133.0,12.0,110.0,300.0,14023.0,356.0,890.0,2160.0,100.0,528.0,471.0,22.0,30.0,15.0,35.0,13.0,200.0,133.0,1310.0,60.0,830.0,23.0,80.0,75.0,38664.0,77.0,14.0,75.0,419.0,14.0,150.0,2936.0,4685.0,215.0,60.0,20.0,35.0,20.0,87.0,277.0,21.0,20.0,50.0,12703.0,33026.0,50.0,47.0,77.0,22.0,4032.0,348.0,298.0,175.0,35.0,258.0,142.0,16.0,37.0,272.0,301.0,43.0,125.0,527.0,70.0,3007.0,396.0,292.0,13.0,26.0,19.0,20.0,20.0,68.0,47.0,46.0,31.0,59288.0,300.0,24.0,72.0,75.0,500.0,310.0,54.0,31.0,12967.0,427.0,329.0,18.0,9130.0,60.0,15.0,14104.0,269.0,60.0,25.0,15.0,45.0,86.0,11.0,23.0,130.0,12.0,78.0,88.0,40.0,40.0,14.0,41.0,1000.0,25.0,81.0,54878.0,1960.0,20.0,23526.0,54.0,48.0,800.0,30.0,18.0,20.0,35.0,13.0,17.0,25.0,25.0,293.0],\"xaxis\":\"x\",\"yaxis\":\"y\",\"type\":\"histogram\"},{\"alignmentgroup\":\"True\",\"bingroup\":\"x\",\"hovertemplate\":\"calfire_incident=True\\u003cbr\\u003eincident_acres_burned=%{x}\\u003cbr\\u003ecount=%{y}\\u003cextra\\u003e\\u003c\\u002fextra\\u003e\",\"legendgroup\":\"True\",\"marker\":{\"color\":\"#EF553B\",\"pattern\":{\"shape\":\"\"}},\"name\":\"True\",\"nbinsx\":30,\"offsetgroup\":\"True\",\"orientation\":\"v\",\"showlegend\":true,\"x\":[122.0,407.0,274.0,6896.0,75.0,125.0,2956.0,354.0,217.0,75.0,650.0,4346.0,40.0,712.0,91.0,35.0,25.0,90.0,303.0,100.0,2650.0,50.0,124.0,2500.0,149.0,170.0,100.0,298.0,28.0,124.0,30.0,30274.0,240.0,42.0,60.0,96.0,75.0,108.0,1708.0,237.0,35.0,40.0,480.0,124.0,46.0,150.0,25.0,534.0,274.0,105.0,492.0,754.0,502.0,200.0,50.0,38.0,7055.0,85.0,73.0,43.0,50.0,150.0,27531.0,75.0,25.0,92.0,150.0,60.0,612.0,45.0,500.0,195.0,158.0,163.0,40.0,15.0,31.0,1383.0,38.0,20292.0,50.0,116.0,27.0,2264.0,97.0,40.0,70.0,46.0,8073.0,196.0,11429.0,38.0,41.0,3111.0,73.0,52.0,80.0,263.0,30.0,94.0,98.0,376.0,159.0,305.0,40.0,163.0,33.0,51.0,120.0,190.0,64.0,82.0,3505.0,50.0,23.0,40.0,333.0,106.0,400.0,57.0,113.0,2143.0,29.0,1548.0,75.0,632.0,380.0,50.0,1995.0,175.0,402.0,269.0,25.0,40.0,70.0,130.0,225.0,120.0,85.0,4300.0,30.0,12661.0,6488.0,1469.0,217.0,80.0,75.0,47.0,38.0,143.0,72.0,4240.0,39736.0,13153.0,35302.0,32416.0,5503.0,25.0,612.0,101.0,20.0,84.0,461.0,1375.0,70.0,27.0,97717.0,247.0,320.0,516.0,48.0,80.0,137.0,1049.0,692.0,20.0,67.0,38.0,60.0,55.0,171.0,31359.0,158.0,920.0,135.0,60.0,533.0,19.0,35.0,170.0,23.0,150.0,40.0,18.0,54.0,95.0,21.0,214.0,181.0,25.0,4250.0,25.0,430.0,24.0,8051.0,65.0,26.0,116.0,77.0,25.0,2304.0,158.0,5702.0,114.0,40.0,16.0,400.0,69636.0,75.0,212.0,204.0,112.0,195.0,90.0,86.0,50.0,500.0,75.0,52.0,30.0,59.0,55.0,110.0,25118.0,2446.0,146.0,2850.0,22.0,215.0,128.0,673.0,72.0,30.0,108.0,35.0,40.0,170.0,70868.0,1040.0,109.0,104.0,30.0,690.0,30.0,1086.0,95.0,85.0,3876.0,278.0,120.0,91.0,30.0,150.0,25.0,132.0,169.0,70.0,112.0,86.0,33.0,43.0,88.0,25.0,30.0,32.0,139.0,2520.0,24.0,210.0,7609.0,70.0,80.0,83.0,7474.0,277.0,49.0,48019.0,52.0,1246.0,47.0,211.0,215.0,5645.0,372.0,188.0,95.0,554.0,303.0,464.0,1785.0,88.0,2944.0,30.0,310.0,87.0,145.0,103.0,45.0,15.0,341.0,35.0,84.0,221.0,78.0,138.0,123.0,100.0,69.0,26.0,2241.0,57.0,57.0,23.0,100.0,132127.0,800.0,50.0,50.0,75.0,50.0,28.0,40.0,38.0,32.0,114.0,35.0,80.0,520.0,5731.0,100.0,85.0,26.0,25.0,8110.0,45.0,36.0,7050.0,36274.0,35.0,21.0,46235.0,3929.0,23.0,40.0,158.0,25.0,389.0,36.0,147.0,599.0,2575.0,88.0,450.0,710.0,380.0,600.0,20.0,32.0,30.0,321.0,47.0,130.0,300.0,45.0,1080.0,70.0,100.0,1547.0,4474.0,176.0,28.0,30.0,45.0,380.0,15.0,4532.0,126.0,1350.0,12.0,19.0,130.0,12.0,400.0,31.0,1733.0,20.0,17.0,41.0,225.0,288.0,18.0,17.0,150.0,225.0,10000.0,20.0,14.0,70.0,12.0,2056.0,17.0,506.0,190.0,25.0,21.0,35.0,120.0,16.0,48.0,15.0,18.0,16.0,79.0,68.0,26.0,16.0,42.0,27.0,25.0,33.0,78.0,67.0,20.0,91.0,46.0,339.0,157.0,206.0,35.0,14.0,1417.0,186.0,22.0,32.0,450.0,76.0,38.0,33.0,135.0,20.0,150.0,63.0,105.0,28.0,134.0,32.0,60.0,153.0,25.0,26.0,56.0,65.0,54.0,21.0,111.0,357.0,42.0,36.0,6309.0,19.0,1626.0,35.0,38.0,25.0,28.0,85.0,15.0,558.0,1200.0,42.0,41.0,128.0,11.0,14.0,225.0,1562.0,30.0,50.0,34.0,57.0,35.0,18.0,205.0,21.0,496.0,74.0,62.0,91.0,22.0,1700.0,1626.0,28687.0,2940.0,90.0,33.0,6033.0,74.0,58.0,36.0,231.0,340.0,370.0,50.0,13.0,1816.0,29.0,48660.0,166.0,70.0,50.0,460.0,400.0,59.0,32.0,35.0,900.0,81826.0,20.0,1649.0,70.0,117.0,15.0,40.0,59.0,1083.0,180.0,72.0,58.0,2289.0,124.0,63.0,19.0,103.0,675.0,47.0,140.0,416.0,1268.0,51.0,255.0,13.0,150.0,39.0,78.0,170.0,57.0,15.0,20.0,17.0,155.0,236.0,11.0,200.0,70.0,460.0,85.0,325.0,30.0,62.0,122.0,92.0,82.0,338.0,100.0,15.0,114.0,19.0,775.0,1500.0,125.0,600.0,17.0,168.0,867.0,200.0,31.0,62.0,157.0,40.0,111.0,44.0,18.0,69.0,4016.0,55.0,28.0,392.0,27.0,102.0,34.0,85.0,130.0,34.0,25.0,1037.0,100.0,3800.0,120.0,21.0,79.0,100.0,680.0,25.0,39.0,25.0,74.0,43.0,143.0,50.0,900.0,12.0,136.0,483.0,146.0,155.0,237.0,48.0,245.0,28.0,55.0,26.0,105.0,2662.0,444.0,40.0,35.0,100.0,17.0,20.0,87.0,40.0,20.0,20.0,8500.0,51624.0,36807.0,44573.0,8283.0,6151.0,9989.0,76.0,36523.0,130.0,1660.0,50.0,2207.0,821.0,150.0,9217.0,866.0,194.0,58.0,17357.0,391.0,183.0,25.0,19.0,23.0,34.0,260.0,50.0,184.0,73.0,100.0,100.0,31.0,116.0,13.0,6049.0,40.0,43.0,40.0,86.0,21.0,47.0,100.0,99.0,4088.0,19.0,14.0,14.0,2070.0,12.0,1261.0,15.0,11.0,21.0,12.0,127.0,18.0,60.0,1756.0,70.0,15.0,1065.0,73.0,26.0,103.0,27.0,88.0,12.0,59.0,56.0,100.0,108.0,16.0,75.0,63.0,25.0,484.0,14.0,23.0,23.0,175.0,13.0,11.0,17.0,35.0,12.0,37.0,12.0,1314.0,513.0,300.0,64.0,12.0,265.0,62.0,200.0,2956.0,2290.0,215.0,60.0,155.0,154.0,70.0,20.0,20.0,60.0,4563.0,60.0,53.0,40.0,32.0,25.0,17.0,20.0,185.0,115.0,40.0,328.0,3392.0,268.0,15180.0,75.0,95.0,1678.0,163.0,80.0,68.0,90.0,11789.0,300.0,375.0,76.0,460.0,260.0,383.0,191.0,30.0,268.0,70.0,90000.0,63.0,33.0,12.0,504.0,316.0,38008.0,825.0,113.0,116.0,962.0,12.0,62.0,11.0,70.0,51.0,278.0,31.0,56.0,480.0,11.0,80.0,856.0,116.0,14.0,224.0,56.0,16.0,32.0,89.0,50.0,14.0,28.0,77.0,822.0,43.0,40.0,13.0,282.0,63.0,110.0,50.0,30.0,37.0,320.0,67.0,128.0,40.0,36.0,51.0,167.0,20.0,247.0,39.0,34.0,106.0,365.0,205.0,136.0,22.0,30.0,3156.0,100.0,48920.0,993.0,18703.0,30.0,207.0,135.0,35.0,51.0,14.0,67.0,66.0,695.0,2225.0,35.0,290.0,114.0,23.0,250.0,1900.0,2490.0,2162.0,34.0,16.0,700.0,496.0,48.0,155.0,289.0,32.0,103.0,36.0,60.0,63311.0,24.0,150.0,573.0,411.0,152.0,200.0,12.0,360.0,53.0,76.0,30.0,33.0,80.0,3889.0,15.0,167.0,12.0,58.0,120.0,550.0,17.0,35.0,153336.0,60.0,4381.0,96949.0,30.0,20.0,20.0,150.0,186.0,80.0,161.0,50.0,172.0,22.0,130.0,63.0,26.0,835.0,121.0,45.0,144.0,155.0,257.0,33.0,25.0,1075.0,23.0,27.0,581.0,2220.0,50.0,1763.0,210.0,35.0,43.0,47.0,120.0,15.0,17.0,17.0,120.0,500.0,46.0,80.0,2420.0,2546.0,90.0,17.0,148.0,20.0,28.0,214.0,210.0,12.0,283.0,25.0,24.0,30.0,38.0,244.0,1010.0,190.0,20.0,100.0,80.0,22.0,30.0,96.0,131.0,202.0,47.0,213.0,81.0,90.0,25.0,35.0,27.0,149.0,64.0,81.0,183.0,80.0,95.0,130.0,150.0,306.0,13.0,84.0,50.0,340.0,26.0,30.0,94.0,107.0,20.0,21.0,20.0,46.0,225.0,1575.0,81.0,16.0,20.0,60.0,156.0,433.0,80.0,35.0,1507.0,1300.0,139.0,600.0,34.0,80.0,35.0,25.0,12.0,19.0,756.0,66.0,11.0,167.0,15.0,85.0,1926.0,28.0,17.0,8836.0,44.0,58.0,53.0,496.0,15.0,190.0,34.0,11.0,640.0,128.0,98.0,67.0,83.0,16.0,200.0,300.0,22.0,19.0,25.0,18.0,63.0,5563.0,526.0,29.0,11.0,12.0,289.0,68.0,350.0,1011.0,42.0,75.0,30.0,15.0,25.0,137.0,11.0,77758.0,67.0,80.0,62.0,35.0,97.0,37.0,605.0,150.0,703.0,2375.0,628.0,328.0,50.0,9999.0,19.0,2534.0,75.0,308.0,15.0,75.0,154.0,180.0,20.0,26.0,55.0,20.0,60.0,60.0,237.0,670.0,39.0,141.0,107.0,1837.0,211.0,85.0,80.0,27.0,230.0,20.0,29.0,151.0,1680.0,803.0,100.0,90.0,40.0,5042.0,191.0,34.0,445.0,813.0,18.0,1455.0,95.0,89.0,68.0,110.0,130.0,13.0,217.0,89.0,11.0,195.0,52.0,1050.0,348.0,19.0,12.0,202.0,59.0,2192.0,33.0,12.0,136.0,4000.0,108.0,583.0,353.0,100.0,67.0,5513.0,298.0,150.0,32.0,31.0,108.0,33.0,91.0,29667.0,1485.0,48.0,253.0,119.0,557.0,9564.0,333.0,22614.0,30.0,135.0,145.0,138.0,250.0,51.0,788.0,100.0,3222.0,741.0,104.0,2005.0,36.0,52.0,560.0,120.0,7760.0,322.0,277.0,177.0,183.0,512.0,110.0,320.0,2121.0,20.0,727.0,48088.0,705.0,275.0,14.0,86509.0,6901.0,62.0,1783.0,820.0,19609.0,55.0,2857.0,45.0,143.0,29570.0,53.0,400.0,13.0,1100.0,1311.0,45.0,45.0,50.0,67484.0,56338.0,454.0,48.0,20.0,21.0,56.0,30.0,21.0,170.0,15.0,102.0,61.0,275.0,133.0,12466.0,13964.0,49.0,1087.0,200.0,6686.0,24.0,1954.0,23.0,20.0,15.0,22.0,865.0,43.0,184.0,20.0,37.0,873.0,23.0,35.0,25.0,200.0,93.0,65.0,160.0,32.0,5366.0,32.0,226.0,550.0,118.0,35.0,97.0,300.0,17.0,45.0,18.0,115.0,197.0,508.0,1118.0,25.0,45.0,28.0,43.0,50.0,939.0,250.0,34.0,67.0,150.0,35.0,15.0,108.0,402.0,560.0,11.0,48.0,515.0,95.0,761.0,20.0,53.0,145.0,50.0,350.0,134.0,37.0,11.0,220.0,140.0,122.0,35.0,118.0,173.0,384.0,75.0,80.0,92.0,128.0,9656.0,43.0,35.0,30.0,43.0,50.0,45.0,25.0,171.0,75.0,50.0,60.0,2619.0,20.0,184.0,22.0,127.0,50.0,295.0,639.0,160.0,59.0,100.0,44.0,46.0,411.0,257.0,42.0,80.0,24.0,447.0,132.0,59.0,148.0,21.0,88.0,120.0,113.0,12.0,171.0,200.0,682.0,28.0,120.0,36.0,135.0,90.0,48.0,570.0,159.0,54.0,517.0,72.0,865.0,65.0,577.0,593.0,70.0,20.0,66.0,120.0,71.0,26.0,349.0,90.0,110.0,12.0,63.0,113.0,317.0,387.0,904.0,328.0,34.0,4470.0,30.0,166.0,37.0,115.0,74.0,60.0,100.0,43.0,421.0,82.0,17.0,121.0,64.0,104.0,20.0,174.0,39.0,28.0,55.0,63.0,127.0,14.0,250.0,19244.0,58.0,53.0,48.0,14.0,44.0,25.0,26.0,4456.0,34.0,124.0,21.0,3939.0,73.0,13440.0,30.0,50.0,11.0,16.0,130.0,819.0,297.0,160.0,48.0,29.0,30.0,50.0,127.0,338.0,123.0,13.0,108.0,65.0,135.0,72.0,15.0,25.0,21.0,32.0,115.0,103.0,141.0,640.0,37.0,25.0,59.0,24.0,68.0,90.0,25.0,105.0,14.0,34.0,18.0,39.0,56.0,64.0,391.0,12.0,58.0,30.0,35.0,71.0,12.0,105.0,8355.0,336.0,22.0,89.0,15.0,436.0,296.0,137.0,162.0,33.0,65.0,2323.0,103.0,20.0,80.0,100.0,20.0,29.0,95.0,68.0,1120.0,184.0,531.0,68.0,301.0,75.0,695.0,838.0,72.0,109.0,466.0,28.0,32.0,55.0,23.0,243.0,44.0,24.0,2487.0,124.0,211.0,13.0,15.0,36.0,35.0,65.0,2715.0,181.0,50.0,11.0,181.0,475.0,12.0,37.0,24.0,15.0,18.0,14.0,12.0,29.0,186.0,27.0,121.0,12.0,19.0,17.0,11.0,191.0,13.0,12.0,47.0,29.0,116.0,762.0,13.0,188.0,12.0,32.0,1300.0,22.0,616.0,36.0,250.0,13.0,1575.0,86.0,17.0,1088.0,30.0,331.0,60.0,34.0,211.0,47.0,55.0,34.0,23.0,54.0,14.0,30.0,11.0,44.0,50.0,25.0,23.0,15.0,28.0,23.0,17.0,64.0,1410.0,119.0,30.0,19.0,15563.0,1056.0,642.0,18.0,15.0,890.0,1207.0,13.0,86.0,45.0,33.0,13.0,19195.0,585.0,5285.0,12.0,51.0,38.0,25.0,20.0,13.0,58.0,11.0,546.0,213.0,137.0,90.0,13.0,12.0,142.0,52.0,438.0,215.0,691.0,19.0,11.0,10616.0,12.0,54.0,20.0,250.0,210.0,85.0,36.0,27.0,41.0,202.0,11.0,255.0,344.0,16.0,400.0,80.0,43.0,1595.0,41.0,3789.0,19.0,25.0,23.0,1295.0,51.0,18.0,15520.0,16.0,98.0,11.0,11.0,323.0,17.0,32.0,18.0,908.0,65.0,14.0,57.0,71.0,60.0,19.0,11.0,77.0,49.0,55.0,11.0,27.0,31.0,98.0,411.0,53.0,509.0,93.0,85.0,130.0,50.0,29.0,260.0,101.0,161.0,5646.0,9950.0,42.0,1025.0,51.0,11.0,109.0,101.0,7224.0,14.0,43.0,104.0,11.0,203.0,80.0,1710.0,15.0,58.0,32.0,15.0,71.0,12.0,49.0,1100.0,96.0,19.0,863.0,50.0,59.0,36.0,40.0,151.0,17.0,145.0,389.0,744.0,12.0,12.0,21.0,65.0,61.0,13.0,5222.0,11.0,300.0,3815.0,11.0,15.0,22.0,12.0,12.0,14.0,41.0,55.0,80.0,60.0,60.0,63.0,21.0,110.0,11.0,108.0,11.0,68.0,20.0,17.0,25.0,13.0,103.0,85.0,65.0,88.0,23.0,172.0,16.0,22.0,16.0,33.0,15.0,11.0,25.0,16.0,34.0,33.0,12.0,27.0,86.0,27.0,17.0,76.0,22.0,16.0,42.0,38.0,22.0,15.0,18.0,19.0,12.0,33.0,16.0,45.0,22.0,11.0,20.0,48.0,517.0,91.0,3327.0,59.0,17000.0,18.0,264.0,502.0,43922.0,18.0,15.0,25.0,752.0,40.0,314.0,63.0,20.0,22.0,62.0,85.0,12.0,53.0,15.0,58.0,35.0,11.0,14.0,42.0,17.0,38.0,633.0,18.0,30.0,44.0],\"xaxis\":\"x\",\"yaxis\":\"y\",\"type\":\"histogram\"}],                        {\"template\":{\"data\":{\"histogram2dcontour\":[{\"type\":\"histogram2dcontour\",\"colorbar\":{\"outlinewidth\":0,\"ticks\":\"\"},\"colorscale\":[[0.0,\"#0d0887\"],[0.1111111111111111,\"#46039f\"],[0.2222222222222222,\"#7201a8\"],[0.3333333333333333,\"#9c179e\"],[0.4444444444444444,\"#bd3786\"],[0.5555555555555556,\"#d8576b\"],[0.6666666666666666,\"#ed7953\"],[0.7777777777777778,\"#fb9f3a\"],[0.8888888888888888,\"#fdca26\"],[1.0,\"#f0f921\"]]}],\"choropleth\":[{\"type\":\"choropleth\",\"colorbar\":{\"outlinewidth\":0,\"ticks\":\"\"}}],\"histogram2d\":[{\"type\":\"histogram2d\",\"colorbar\":{\"outlinewidth\":0,\"ticks\":\"\"},\"colorscale\":[[0.0,\"#0d0887\"],[0.1111111111111111,\"#46039f\"],[0.2222222222222222,\"#7201a8\"],[0.3333333333333333,\"#9c179e\"],[0.4444444444444444,\"#bd3786\"],[0.5555555555555556,\"#d8576b\"],[0.6666666666666666,\"#ed7953\"],[0.7777777777777778,\"#fb9f3a\"],[0.8888888888888888,\"#fdca26\"],[1.0,\"#f0f921\"]]}],\"heatmap\":[{\"type\":\"heatmap\",\"colorbar\":{\"outlinewidth\":0,\"ticks\":\"\"},\"colorscale\":[[0.0,\"#0d0887\"],[0.1111111111111111,\"#46039f\"],[0.2222222222222222,\"#7201a8\"],[0.3333333333333333,\"#9c179e\"],[0.4444444444444444,\"#bd3786\"],[0.5555555555555556,\"#d8576b\"],[0.6666666666666666,\"#ed7953\"],[0.7777777777777778,\"#fb9f3a\"],[0.8888888888888888,\"#fdca26\"],[1.0,\"#f0f921\"]]}],\"heatmapgl\":[{\"type\":\"heatmapgl\",\"colorbar\":{\"outlinewidth\":0,\"ticks\":\"\"},\"colorscale\":[[0.0,\"#0d0887\"],[0.1111111111111111,\"#46039f\"],[0.2222222222222222,\"#7201a8\"],[0.3333333333333333,\"#9c179e\"],[0.4444444444444444,\"#bd3786\"],[0.5555555555555556,\"#d8576b\"],[0.6666666666666666,\"#ed7953\"],[0.7777777777777778,\"#fb9f3a\"],[0.8888888888888888,\"#fdca26\"],[1.0,\"#f0f921\"]]}],\"contourcarpet\":[{\"type\":\"contourcarpet\",\"colorbar\":{\"outlinewidth\":0,\"ticks\":\"\"}}],\"contour\":[{\"type\":\"contour\",\"colorbar\":{\"outlinewidth\":0,\"ticks\":\"\"},\"colorscale\":[[0.0,\"#0d0887\"],[0.1111111111111111,\"#46039f\"],[0.2222222222222222,\"#7201a8\"],[0.3333333333333333,\"#9c179e\"],[0.4444444444444444,\"#bd3786\"],[0.5555555555555556,\"#d8576b\"],[0.6666666666666666,\"#ed7953\"],[0.7777777777777778,\"#fb9f3a\"],[0.8888888888888888,\"#fdca26\"],[1.0,\"#f0f921\"]]}],\"surface\":[{\"type\":\"surface\",\"colorbar\":{\"outlinewidth\":0,\"ticks\":\"\"},\"colorscale\":[[0.0,\"#0d0887\"],[0.1111111111111111,\"#46039f\"],[0.2222222222222222,\"#7201a8\"],[0.3333333333333333,\"#9c179e\"],[0.4444444444444444,\"#bd3786\"],[0.5555555555555556,\"#d8576b\"],[0.6666666666666666,\"#ed7953\"],[0.7777777777777778,\"#fb9f3a\"],[0.8888888888888888,\"#fdca26\"],[1.0,\"#f0f921\"]]}],\"mesh3d\":[{\"type\":\"mesh3d\",\"colorbar\":{\"outlinewidth\":0,\"ticks\":\"\"}}],\"scatter\":[{\"fillpattern\":{\"fillmode\":\"overlay\",\"size\":10,\"solidity\":0.2},\"type\":\"scatter\"}],\"parcoords\":[{\"type\":\"parcoords\",\"line\":{\"colorbar\":{\"outlinewidth\":0,\"ticks\":\"\"}}}],\"scatterpolargl\":[{\"type\":\"scatterpolargl\",\"marker\":{\"colorbar\":{\"outlinewidth\":0,\"ticks\":\"\"}}}],\"bar\":[{\"error_x\":{\"color\":\"#2a3f5f\"},\"error_y\":{\"color\":\"#2a3f5f\"},\"marker\":{\"line\":{\"color\":\"#E5ECF6\",\"width\":0.5},\"pattern\":{\"fillmode\":\"overlay\",\"size\":10,\"solidity\":0.2}},\"type\":\"bar\"}],\"scattergeo\":[{\"type\":\"scattergeo\",\"marker\":{\"colorbar\":{\"outlinewidth\":0,\"ticks\":\"\"}}}],\"scatterpolar\":[{\"type\":\"scatterpolar\",\"marker\":{\"colorbar\":{\"outlinewidth\":0,\"ticks\":\"\"}}}],\"histogram\":[{\"marker\":{\"pattern\":{\"fillmode\":\"overlay\",\"size\":10,\"solidity\":0.2}},\"type\":\"histogram\"}],\"scattergl\":[{\"type\":\"scattergl\",\"marker\":{\"colorbar\":{\"outlinewidth\":0,\"ticks\":\"\"}}}],\"scatter3d\":[{\"type\":\"scatter3d\",\"line\":{\"colorbar\":{\"outlinewidth\":0,\"ticks\":\"\"}},\"marker\":{\"colorbar\":{\"outlinewidth\":0,\"ticks\":\"\"}}}],\"scattermapbox\":[{\"type\":\"scattermapbox\",\"marker\":{\"colorbar\":{\"outlinewidth\":0,\"ticks\":\"\"}}}],\"scatterternary\":[{\"type\":\"scatterternary\",\"marker\":{\"colorbar\":{\"outlinewidth\":0,\"ticks\":\"\"}}}],\"scattercarpet\":[{\"type\":\"scattercarpet\",\"marker\":{\"colorbar\":{\"outlinewidth\":0,\"ticks\":\"\"}}}],\"carpet\":[{\"aaxis\":{\"endlinecolor\":\"#2a3f5f\",\"gridcolor\":\"white\",\"linecolor\":\"white\",\"minorgridcolor\":\"white\",\"startlinecolor\":\"#2a3f5f\"},\"baxis\":{\"endlinecolor\":\"#2a3f5f\",\"gridcolor\":\"white\",\"linecolor\":\"white\",\"minorgridcolor\":\"white\",\"startlinecolor\":\"#2a3f5f\"},\"type\":\"carpet\"}],\"table\":[{\"cells\":{\"fill\":{\"color\":\"#EBF0F8\"},\"line\":{\"color\":\"white\"}},\"header\":{\"fill\":{\"color\":\"#C8D4E3\"},\"line\":{\"color\":\"white\"}},\"type\":\"table\"}],\"barpolar\":[{\"marker\":{\"line\":{\"color\":\"#E5ECF6\",\"width\":0.5},\"pattern\":{\"fillmode\":\"overlay\",\"size\":10,\"solidity\":0.2}},\"type\":\"barpolar\"}],\"pie\":[{\"automargin\":true,\"type\":\"pie\"}]},\"layout\":{\"autotypenumbers\":\"strict\",\"colorway\":[\"#636efa\",\"#EF553B\",\"#00cc96\",\"#ab63fa\",\"#FFA15A\",\"#19d3f3\",\"#FF6692\",\"#B6E880\",\"#FF97FF\",\"#FECB52\"],\"font\":{\"color\":\"#2a3f5f\"},\"hovermode\":\"closest\",\"hoverlabel\":{\"align\":\"left\"},\"paper_bgcolor\":\"white\",\"plot_bgcolor\":\"#E5ECF6\",\"polar\":{\"bgcolor\":\"#E5ECF6\",\"angularaxis\":{\"gridcolor\":\"white\",\"linecolor\":\"white\",\"ticks\":\"\"},\"radialaxis\":{\"gridcolor\":\"white\",\"linecolor\":\"white\",\"ticks\":\"\"}},\"ternary\":{\"bgcolor\":\"#E5ECF6\",\"aaxis\":{\"gridcolor\":\"white\",\"linecolor\":\"white\",\"ticks\":\"\"},\"baxis\":{\"gridcolor\":\"white\",\"linecolor\":\"white\",\"ticks\":\"\"},\"caxis\":{\"gridcolor\":\"white\",\"linecolor\":\"white\",\"ticks\":\"\"}},\"coloraxis\":{\"colorbar\":{\"outlinewidth\":0,\"ticks\":\"\"}},\"colorscale\":{\"sequential\":[[0.0,\"#0d0887\"],[0.1111111111111111,\"#46039f\"],[0.2222222222222222,\"#7201a8\"],[0.3333333333333333,\"#9c179e\"],[0.4444444444444444,\"#bd3786\"],[0.5555555555555556,\"#d8576b\"],[0.6666666666666666,\"#ed7953\"],[0.7777777777777778,\"#fb9f3a\"],[0.8888888888888888,\"#fdca26\"],[1.0,\"#f0f921\"]],\"sequentialminus\":[[0.0,\"#0d0887\"],[0.1111111111111111,\"#46039f\"],[0.2222222222222222,\"#7201a8\"],[0.3333333333333333,\"#9c179e\"],[0.4444444444444444,\"#bd3786\"],[0.5555555555555556,\"#d8576b\"],[0.6666666666666666,\"#ed7953\"],[0.7777777777777778,\"#fb9f3a\"],[0.8888888888888888,\"#fdca26\"],[1.0,\"#f0f921\"]],\"diverging\":[[0,\"#8e0152\"],[0.1,\"#c51b7d\"],[0.2,\"#de77ae\"],[0.3,\"#f1b6da\"],[0.4,\"#fde0ef\"],[0.5,\"#f7f7f7\"],[0.6,\"#e6f5d0\"],[0.7,\"#b8e186\"],[0.8,\"#7fbc41\"],[0.9,\"#4d9221\"],[1,\"#276419\"]]},\"xaxis\":{\"gridcolor\":\"white\",\"linecolor\":\"white\",\"ticks\":\"\",\"title\":{\"standoff\":15},\"zerolinecolor\":\"white\",\"automargin\":true,\"zerolinewidth\":2},\"yaxis\":{\"gridcolor\":\"white\",\"linecolor\":\"white\",\"ticks\":\"\",\"title\":{\"standoff\":15},\"zerolinecolor\":\"white\",\"automargin\":true,\"zerolinewidth\":2},\"scene\":{\"xaxis\":{\"backgroundcolor\":\"#E5ECF6\",\"gridcolor\":\"white\",\"linecolor\":\"white\",\"showbackground\":true,\"ticks\":\"\",\"zerolinecolor\":\"white\",\"gridwidth\":2},\"yaxis\":{\"backgroundcolor\":\"#E5ECF6\",\"gridcolor\":\"white\",\"linecolor\":\"white\",\"showbackground\":true,\"ticks\":\"\",\"zerolinecolor\":\"white\",\"gridwidth\":2},\"zaxis\":{\"backgroundcolor\":\"#E5ECF6\",\"gridcolor\":\"white\",\"linecolor\":\"white\",\"showbackground\":true,\"ticks\":\"\",\"zerolinecolor\":\"white\",\"gridwidth\":2}},\"shapedefaults\":{\"line\":{\"color\":\"#2a3f5f\"}},\"annotationdefaults\":{\"arrowcolor\":\"#2a3f5f\",\"arrowhead\":0,\"arrowwidth\":1},\"geo\":{\"bgcolor\":\"white\",\"landcolor\":\"#E5ECF6\",\"subunitcolor\":\"white\",\"showland\":true,\"showlakes\":true,\"lakecolor\":\"white\"},\"title\":{\"x\":0.05},\"mapbox\":{\"style\":\"light\"}}},\"xaxis\":{\"anchor\":\"y\",\"domain\":[0.0,1.0],\"title\":{\"text\":\"incident_acres_burned\"}},\"yaxis\":{\"anchor\":\"x\",\"domain\":[0.0,1.0],\"title\":{\"text\":\"count\"}},\"legend\":{\"title\":{\"text\":\"calfire_incident\"},\"tracegroupgap\":0},\"title\":{\"text\":\"Histogram of Acres Burned (CalFire Incidents Colored)\"},\"barmode\":\"relative\"},                        {\"responsive\": true}                    ).then(function(){\n",
       "                            \n",
       "var gd = document.getElementById('ee8ce1d7-6b8d-4a72-bd9c-e9afa64fe627');\n",
       "var x = new MutationObserver(function (mutations, observer) {{\n",
       "        var display = window.getComputedStyle(gd).display;\n",
       "        if (!display || display === 'none') {{\n",
       "            console.log([gd, 'removed!']);\n",
       "            Plotly.purge(gd);\n",
       "            observer.disconnect();\n",
       "        }}\n",
       "}});\n",
       "\n",
       "// Listen for the removal of the full notebook cells\n",
       "var notebookContainer = gd.closest('#notebook-container');\n",
       "if (notebookContainer) {{\n",
       "    x.observe(notebookContainer, {childList: true});\n",
       "}}\n",
       "\n",
       "// Listen for the clearing of the current output cell\n",
       "var outputEl = gd.closest('.output');\n",
       "if (outputEl) {{\n",
       "    x.observe(outputEl, {childList: true});\n",
       "}}\n",
       "\n",
       "                        })                };                });            </script>        </div>"
      ]
     },
     "metadata": {},
     "output_type": "display_data"
    },
    {
     "name": "stdout",
     "output_type": "stream",
     "text": [
      "Q3: Burned more than 100,000 acres: 20\n",
      "Q3: Largest Fire: 1032648.0 acres.\n"
     ]
    }
   ],
   "source": [
    "# You will need to write some code to answer the questions.\n",
    "# Q1\n",
    "num_observations, num_variables = DF_raw.shape\n",
    "print(f\"Q1: Observations: {num_observations}, Variables: {num_variables}\")\n",
    "\n",
    "# Q2\n",
    "num_incident_types = DF_raw['incident_type'].nunique()\n",
    "print(f\"Q2: Incident types: {num_incident_types}\")\n",
    "\n",
    "# Q3\n",
    "mask = (DF_raw['incident_acres_burned'] > 10) & (DF_raw['incident_acres_burned'] < 200000)\n",
    "filtered_data = DF_raw[mask]\n",
    "\n",
    "fig = px.histogram(filtered_data, \n",
    "                   x='incident_acres_burned', \n",
    "                   color='calfire_incident', \n",
    "                   title='Histogram of Acres Burned (CalFire Incidents Colored)', \n",
    "                   nbins=30)\n",
    "fig.show()\n",
    "\n",
    "num_large_fires = DF_raw[DF_raw['incident_acres_burned'] > 100000].shape[0]\n",
    "print(f\"Q3: Burned more than 100,000 acres: {num_large_fires}\")\n",
    "\n",
    "largest_fire = DF_raw['incident_acres_burned'].max()\n",
    "print(f\"Q3: Largest Fire: {largest_fire} acres.\")\n",
    "\n"
   ]
  },
  {
   "cell_type": "markdown",
   "id": "0e1f769b-d87d-429a-9de8-c35af020525d",
   "metadata": {},
   "source": [
    "**(Click Here)**\n",
    "\n"
   ]
  },
  {
   "cell_type": "code",
   "execution_count": 20,
   "id": "0388222e-a80b-4392-99cd-3966254c4017",
   "metadata": {},
   "outputs": [
    {
     "data": {
      "application/vnd.plotly.v1+json": {
       "config": {
        "plotlyServerURL": "https://plot.ly"
       },
       "data": [
        {
         "hovertemplate": "year=%{x}<br>total_fires=%{y}<extra></extra>",
         "legendgroup": "",
         "line": {
          "color": "#636efa",
          "dash": "solid"
         },
         "marker": {
          "symbol": "circle"
         },
         "mode": "lines+markers",
         "name": "",
         "orientation": "v",
         "showlegend": false,
         "type": "scatter",
         "x": [
          2013,
          2014,
          2015,
          2016,
          2017,
          2018,
          2019,
          2020,
          2021,
          2022,
          2023,
          2024
         ],
         "xaxis": "x",
         "y": [
          128,
          68,
          86,
          133,
          1,
          374,
          527,
          228,
          170,
          304,
          155,
          560
         ],
         "yaxis": "y"
        }
       ],
       "layout": {
        "autosize": true,
        "legend": {
         "tracegroupgap": 0
        },
        "template": {
         "data": {
          "bar": [
           {
            "error_x": {
             "color": "#2a3f5f"
            },
            "error_y": {
             "color": "#2a3f5f"
            },
            "marker": {
             "line": {
              "color": "#E5ECF6",
              "width": 0.5
             },
             "pattern": {
              "fillmode": "overlay",
              "size": 10,
              "solidity": 0.2
             }
            },
            "type": "bar"
           }
          ],
          "barpolar": [
           {
            "marker": {
             "line": {
              "color": "#E5ECF6",
              "width": 0.5
             },
             "pattern": {
              "fillmode": "overlay",
              "size": 10,
              "solidity": 0.2
             }
            },
            "type": "barpolar"
           }
          ],
          "carpet": [
           {
            "aaxis": {
             "endlinecolor": "#2a3f5f",
             "gridcolor": "white",
             "linecolor": "white",
             "minorgridcolor": "white",
             "startlinecolor": "#2a3f5f"
            },
            "baxis": {
             "endlinecolor": "#2a3f5f",
             "gridcolor": "white",
             "linecolor": "white",
             "minorgridcolor": "white",
             "startlinecolor": "#2a3f5f"
            },
            "type": "carpet"
           }
          ],
          "choropleth": [
           {
            "colorbar": {
             "outlinewidth": 0,
             "ticks": ""
            },
            "type": "choropleth"
           }
          ],
          "contour": [
           {
            "colorbar": {
             "outlinewidth": 0,
             "ticks": ""
            },
            "colorscale": [
             [
              0,
              "#0d0887"
             ],
             [
              0.1111111111111111,
              "#46039f"
             ],
             [
              0.2222222222222222,
              "#7201a8"
             ],
             [
              0.3333333333333333,
              "#9c179e"
             ],
             [
              0.4444444444444444,
              "#bd3786"
             ],
             [
              0.5555555555555556,
              "#d8576b"
             ],
             [
              0.6666666666666666,
              "#ed7953"
             ],
             [
              0.7777777777777778,
              "#fb9f3a"
             ],
             [
              0.8888888888888888,
              "#fdca26"
             ],
             [
              1,
              "#f0f921"
             ]
            ],
            "type": "contour"
           }
          ],
          "contourcarpet": [
           {
            "colorbar": {
             "outlinewidth": 0,
             "ticks": ""
            },
            "type": "contourcarpet"
           }
          ],
          "heatmap": [
           {
            "colorbar": {
             "outlinewidth": 0,
             "ticks": ""
            },
            "colorscale": [
             [
              0,
              "#0d0887"
             ],
             [
              0.1111111111111111,
              "#46039f"
             ],
             [
              0.2222222222222222,
              "#7201a8"
             ],
             [
              0.3333333333333333,
              "#9c179e"
             ],
             [
              0.4444444444444444,
              "#bd3786"
             ],
             [
              0.5555555555555556,
              "#d8576b"
             ],
             [
              0.6666666666666666,
              "#ed7953"
             ],
             [
              0.7777777777777778,
              "#fb9f3a"
             ],
             [
              0.8888888888888888,
              "#fdca26"
             ],
             [
              1,
              "#f0f921"
             ]
            ],
            "type": "heatmap"
           }
          ],
          "heatmapgl": [
           {
            "colorbar": {
             "outlinewidth": 0,
             "ticks": ""
            },
            "colorscale": [
             [
              0,
              "#0d0887"
             ],
             [
              0.1111111111111111,
              "#46039f"
             ],
             [
              0.2222222222222222,
              "#7201a8"
             ],
             [
              0.3333333333333333,
              "#9c179e"
             ],
             [
              0.4444444444444444,
              "#bd3786"
             ],
             [
              0.5555555555555556,
              "#d8576b"
             ],
             [
              0.6666666666666666,
              "#ed7953"
             ],
             [
              0.7777777777777778,
              "#fb9f3a"
             ],
             [
              0.8888888888888888,
              "#fdca26"
             ],
             [
              1,
              "#f0f921"
             ]
            ],
            "type": "heatmapgl"
           }
          ],
          "histogram": [
           {
            "marker": {
             "pattern": {
              "fillmode": "overlay",
              "size": 10,
              "solidity": 0.2
             }
            },
            "type": "histogram"
           }
          ],
          "histogram2d": [
           {
            "colorbar": {
             "outlinewidth": 0,
             "ticks": ""
            },
            "colorscale": [
             [
              0,
              "#0d0887"
             ],
             [
              0.1111111111111111,
              "#46039f"
             ],
             [
              0.2222222222222222,
              "#7201a8"
             ],
             [
              0.3333333333333333,
              "#9c179e"
             ],
             [
              0.4444444444444444,
              "#bd3786"
             ],
             [
              0.5555555555555556,
              "#d8576b"
             ],
             [
              0.6666666666666666,
              "#ed7953"
             ],
             [
              0.7777777777777778,
              "#fb9f3a"
             ],
             [
              0.8888888888888888,
              "#fdca26"
             ],
             [
              1,
              "#f0f921"
             ]
            ],
            "type": "histogram2d"
           }
          ],
          "histogram2dcontour": [
           {
            "colorbar": {
             "outlinewidth": 0,
             "ticks": ""
            },
            "colorscale": [
             [
              0,
              "#0d0887"
             ],
             [
              0.1111111111111111,
              "#46039f"
             ],
             [
              0.2222222222222222,
              "#7201a8"
             ],
             [
              0.3333333333333333,
              "#9c179e"
             ],
             [
              0.4444444444444444,
              "#bd3786"
             ],
             [
              0.5555555555555556,
              "#d8576b"
             ],
             [
              0.6666666666666666,
              "#ed7953"
             ],
             [
              0.7777777777777778,
              "#fb9f3a"
             ],
             [
              0.8888888888888888,
              "#fdca26"
             ],
             [
              1,
              "#f0f921"
             ]
            ],
            "type": "histogram2dcontour"
           }
          ],
          "mesh3d": [
           {
            "colorbar": {
             "outlinewidth": 0,
             "ticks": ""
            },
            "type": "mesh3d"
           }
          ],
          "parcoords": [
           {
            "line": {
             "colorbar": {
              "outlinewidth": 0,
              "ticks": ""
             }
            },
            "type": "parcoords"
           }
          ],
          "pie": [
           {
            "automargin": true,
            "type": "pie"
           }
          ],
          "scatter": [
           {
            "fillpattern": {
             "fillmode": "overlay",
             "size": 10,
             "solidity": 0.2
            },
            "type": "scatter"
           }
          ],
          "scatter3d": [
           {
            "line": {
             "colorbar": {
              "outlinewidth": 0,
              "ticks": ""
             }
            },
            "marker": {
             "colorbar": {
              "outlinewidth": 0,
              "ticks": ""
             }
            },
            "type": "scatter3d"
           }
          ],
          "scattercarpet": [
           {
            "marker": {
             "colorbar": {
              "outlinewidth": 0,
              "ticks": ""
             }
            },
            "type": "scattercarpet"
           }
          ],
          "scattergeo": [
           {
            "marker": {
             "colorbar": {
              "outlinewidth": 0,
              "ticks": ""
             }
            },
            "type": "scattergeo"
           }
          ],
          "scattergl": [
           {
            "marker": {
             "colorbar": {
              "outlinewidth": 0,
              "ticks": ""
             }
            },
            "type": "scattergl"
           }
          ],
          "scattermapbox": [
           {
            "marker": {
             "colorbar": {
              "outlinewidth": 0,
              "ticks": ""
             }
            },
            "type": "scattermapbox"
           }
          ],
          "scatterpolar": [
           {
            "marker": {
             "colorbar": {
              "outlinewidth": 0,
              "ticks": ""
             }
            },
            "type": "scatterpolar"
           }
          ],
          "scatterpolargl": [
           {
            "marker": {
             "colorbar": {
              "outlinewidth": 0,
              "ticks": ""
             }
            },
            "type": "scatterpolargl"
           }
          ],
          "scatterternary": [
           {
            "marker": {
             "colorbar": {
              "outlinewidth": 0,
              "ticks": ""
             }
            },
            "type": "scatterternary"
           }
          ],
          "surface": [
           {
            "colorbar": {
             "outlinewidth": 0,
             "ticks": ""
            },
            "colorscale": [
             [
              0,
              "#0d0887"
             ],
             [
              0.1111111111111111,
              "#46039f"
             ],
             [
              0.2222222222222222,
              "#7201a8"
             ],
             [
              0.3333333333333333,
              "#9c179e"
             ],
             [
              0.4444444444444444,
              "#bd3786"
             ],
             [
              0.5555555555555556,
              "#d8576b"
             ],
             [
              0.6666666666666666,
              "#ed7953"
             ],
             [
              0.7777777777777778,
              "#fb9f3a"
             ],
             [
              0.8888888888888888,
              "#fdca26"
             ],
             [
              1,
              "#f0f921"
             ]
            ],
            "type": "surface"
           }
          ],
          "table": [
           {
            "cells": {
             "fill": {
              "color": "#EBF0F8"
             },
             "line": {
              "color": "white"
             }
            },
            "header": {
             "fill": {
              "color": "#C8D4E3"
             },
             "line": {
              "color": "white"
             }
            },
            "type": "table"
           }
          ]
         },
         "layout": {
          "annotationdefaults": {
           "arrowcolor": "#2a3f5f",
           "arrowhead": 0,
           "arrowwidth": 1
          },
          "autotypenumbers": "strict",
          "coloraxis": {
           "colorbar": {
            "outlinewidth": 0,
            "ticks": ""
           }
          },
          "colorscale": {
           "diverging": [
            [
             0,
             "#8e0152"
            ],
            [
             0.1,
             "#c51b7d"
            ],
            [
             0.2,
             "#de77ae"
            ],
            [
             0.3,
             "#f1b6da"
            ],
            [
             0.4,
             "#fde0ef"
            ],
            [
             0.5,
             "#f7f7f7"
            ],
            [
             0.6,
             "#e6f5d0"
            ],
            [
             0.7,
             "#b8e186"
            ],
            [
             0.8,
             "#7fbc41"
            ],
            [
             0.9,
             "#4d9221"
            ],
            [
             1,
             "#276419"
            ]
           ],
           "sequential": [
            [
             0,
             "#0d0887"
            ],
            [
             0.1111111111111111,
             "#46039f"
            ],
            [
             0.2222222222222222,
             "#7201a8"
            ],
            [
             0.3333333333333333,
             "#9c179e"
            ],
            [
             0.4444444444444444,
             "#bd3786"
            ],
            [
             0.5555555555555556,
             "#d8576b"
            ],
            [
             0.6666666666666666,
             "#ed7953"
            ],
            [
             0.7777777777777778,
             "#fb9f3a"
            ],
            [
             0.8888888888888888,
             "#fdca26"
            ],
            [
             1,
             "#f0f921"
            ]
           ],
           "sequentialminus": [
            [
             0,
             "#0d0887"
            ],
            [
             0.1111111111111111,
             "#46039f"
            ],
            [
             0.2222222222222222,
             "#7201a8"
            ],
            [
             0.3333333333333333,
             "#9c179e"
            ],
            [
             0.4444444444444444,
             "#bd3786"
            ],
            [
             0.5555555555555556,
             "#d8576b"
            ],
            [
             0.6666666666666666,
             "#ed7953"
            ],
            [
             0.7777777777777778,
             "#fb9f3a"
            ],
            [
             0.8888888888888888,
             "#fdca26"
            ],
            [
             1,
             "#f0f921"
            ]
           ]
          },
          "colorway": [
           "#636efa",
           "#EF553B",
           "#00cc96",
           "#ab63fa",
           "#FFA15A",
           "#19d3f3",
           "#FF6692",
           "#B6E880",
           "#FF97FF",
           "#FECB52"
          ],
          "font": {
           "color": "#2a3f5f"
          },
          "geo": {
           "bgcolor": "white",
           "lakecolor": "white",
           "landcolor": "#E5ECF6",
           "showlakes": true,
           "showland": true,
           "subunitcolor": "white"
          },
          "hoverlabel": {
           "align": "left"
          },
          "hovermode": "closest",
          "mapbox": {
           "style": "light"
          },
          "paper_bgcolor": "white",
          "plot_bgcolor": "#E5ECF6",
          "polar": {
           "angularaxis": {
            "gridcolor": "white",
            "linecolor": "white",
            "ticks": ""
           },
           "bgcolor": "#E5ECF6",
           "radialaxis": {
            "gridcolor": "white",
            "linecolor": "white",
            "ticks": ""
           }
          },
          "scene": {
           "xaxis": {
            "backgroundcolor": "#E5ECF6",
            "gridcolor": "white",
            "gridwidth": 2,
            "linecolor": "white",
            "showbackground": true,
            "ticks": "",
            "zerolinecolor": "white"
           },
           "yaxis": {
            "backgroundcolor": "#E5ECF6",
            "gridcolor": "white",
            "gridwidth": 2,
            "linecolor": "white",
            "showbackground": true,
            "ticks": "",
            "zerolinecolor": "white"
           },
           "zaxis": {
            "backgroundcolor": "#E5ECF6",
            "gridcolor": "white",
            "gridwidth": 2,
            "linecolor": "white",
            "showbackground": true,
            "ticks": "",
            "zerolinecolor": "white"
           }
          },
          "shapedefaults": {
           "line": {
            "color": "#2a3f5f"
           }
          },
          "ternary": {
           "aaxis": {
            "gridcolor": "white",
            "linecolor": "white",
            "ticks": ""
           },
           "baxis": {
            "gridcolor": "white",
            "linecolor": "white",
            "ticks": ""
           },
           "bgcolor": "#E5ECF6",
           "caxis": {
            "gridcolor": "white",
            "linecolor": "white",
            "ticks": ""
           }
          },
          "title": {
           "x": 0.05
          },
          "xaxis": {
           "automargin": true,
           "gridcolor": "white",
           "linecolor": "white",
           "ticks": "",
           "title": {
            "standoff": 15
           },
           "zerolinecolor": "white",
           "zerolinewidth": 2
          },
          "yaxis": {
           "automargin": true,
           "gridcolor": "white",
           "linecolor": "white",
           "ticks": "",
           "title": {
            "standoff": 15
           },
           "zerolinecolor": "white",
           "zerolinewidth": 2
          }
         }
        },
        "title": {
         "text": "Total Number of Fires Per Year"
        },
        "xaxis": {
         "anchor": "y",
         "autorange": true,
         "domain": [
          0,
          1
         ],
         "range": [
          2012.3171285423516,
          2024.6828714576484
         ],
         "title": {
          "text": "year"
         },
         "type": "linear"
        },
        "yaxis": {
         "anchor": "x",
         "autorange": true,
         "domain": [
          0,
          1
         ],
         "range": [
          -45.131067961165044,
          606.1310679611651
         ],
         "title": {
          "text": "total_fires"
         },
         "type": "linear"
        }
       }
      },
      "image/png": "[encoded data removed]",
      "text/html": [
       "<div>                            <div id=\"dfac22eb-142d-4806-adfc-3ce44782a895\" class=\"plotly-graph-div\" style=\"height:525px; width:100%;\"></div>            <script type=\"text/javascript\">                require([\"plotly\"], function(Plotly) {                    window.PLOTLYENV=window.PLOTLYENV || {};                                    if (document.getElementById(\"dfac22eb-142d-4806-adfc-3ce44782a895\")) {                    Plotly.newPlot(                        \"dfac22eb-142d-4806-adfc-3ce44782a895\",                        [{\"hovertemplate\":\"year=%{x}\\u003cbr\\u003etotal_fires=%{y}\\u003cextra\\u003e\\u003c\\u002fextra\\u003e\",\"legendgroup\":\"\",\"line\":{\"color\":\"#636efa\",\"dash\":\"solid\"},\"marker\":{\"symbol\":\"circle\"},\"mode\":\"lines+markers\",\"name\":\"\",\"orientation\":\"v\",\"showlegend\":false,\"x\":[2013,2014,2015,2016,2017,2018,2019,2020,2021,2022,2023,2024],\"xaxis\":\"x\",\"y\":[128,68,86,133,1,374,527,228,170,304,155,560],\"yaxis\":\"y\",\"type\":\"scatter\"}],                        {\"template\":{\"data\":{\"histogram2dcontour\":[{\"type\":\"histogram2dcontour\",\"colorbar\":{\"outlinewidth\":0,\"ticks\":\"\"},\"colorscale\":[[0.0,\"#0d0887\"],[0.1111111111111111,\"#46039f\"],[0.2222222222222222,\"#7201a8\"],[0.3333333333333333,\"#9c179e\"],[0.4444444444444444,\"#bd3786\"],[0.5555555555555556,\"#d8576b\"],[0.6666666666666666,\"#ed7953\"],[0.7777777777777778,\"#fb9f3a\"],[0.8888888888888888,\"#fdca26\"],[1.0,\"#f0f921\"]]}],\"choropleth\":[{\"type\":\"choropleth\",\"colorbar\":{\"outlinewidth\":0,\"ticks\":\"\"}}],\"histogram2d\":[{\"type\":\"histogram2d\",\"colorbar\":{\"outlinewidth\":0,\"ticks\":\"\"},\"colorscale\":[[0.0,\"#0d0887\"],[0.1111111111111111,\"#46039f\"],[0.2222222222222222,\"#7201a8\"],[0.3333333333333333,\"#9c179e\"],[0.4444444444444444,\"#bd3786\"],[0.5555555555555556,\"#d8576b\"],[0.6666666666666666,\"#ed7953\"],[0.7777777777777778,\"#fb9f3a\"],[0.8888888888888888,\"#fdca26\"],[1.0,\"#f0f921\"]]}],\"heatmap\":[{\"type\":\"heatmap\",\"colorbar\":{\"outlinewidth\":0,\"ticks\":\"\"},\"colorscale\":[[0.0,\"#0d0887\"],[0.1111111111111111,\"#46039f\"],[0.2222222222222222,\"#7201a8\"],[0.3333333333333333,\"#9c179e\"],[0.4444444444444444,\"#bd3786\"],[0.5555555555555556,\"#d8576b\"],[0.6666666666666666,\"#ed7953\"],[0.7777777777777778,\"#fb9f3a\"],[0.8888888888888888,\"#fdca26\"],[1.0,\"#f0f921\"]]}],\"heatmapgl\":[{\"type\":\"heatmapgl\",\"colorbar\":{\"outlinewidth\":0,\"ticks\":\"\"},\"colorscale\":[[0.0,\"#0d0887\"],[0.1111111111111111,\"#46039f\"],[0.2222222222222222,\"#7201a8\"],[0.3333333333333333,\"#9c179e\"],[0.4444444444444444,\"#bd3786\"],[0.5555555555555556,\"#d8576b\"],[0.6666666666666666,\"#ed7953\"],[0.7777777777777778,\"#fb9f3a\"],[0.8888888888888888,\"#fdca26\"],[1.0,\"#f0f921\"]]}],\"contourcarpet\":[{\"type\":\"contourcarpet\",\"colorbar\":{\"outlinewidth\":0,\"ticks\":\"\"}}],\"contour\":[{\"type\":\"contour\",\"colorbar\":{\"outlinewidth\":0,\"ticks\":\"\"},\"colorscale\":[[0.0,\"#0d0887\"],[0.1111111111111111,\"#46039f\"],[0.2222222222222222,\"#7201a8\"],[0.3333333333333333,\"#9c179e\"],[0.4444444444444444,\"#bd3786\"],[0.5555555555555556,\"#d8576b\"],[0.6666666666666666,\"#ed7953\"],[0.7777777777777778,\"#fb9f3a\"],[0.8888888888888888,\"#fdca26\"],[1.0,\"#f0f921\"]]}],\"surface\":[{\"type\":\"surface\",\"colorbar\":{\"outlinewidth\":0,\"ticks\":\"\"},\"colorscale\":[[0.0,\"#0d0887\"],[0.1111111111111111,\"#46039f\"],[0.2222222222222222,\"#7201a8\"],[0.3333333333333333,\"#9c179e\"],[0.4444444444444444,\"#bd3786\"],[0.5555555555555556,\"#d8576b\"],[0.6666666666666666,\"#ed7953\"],[0.7777777777777778,\"#fb9f3a\"],[0.8888888888888888,\"#fdca26\"],[1.0,\"#f0f921\"]]}],\"mesh3d\":[{\"type\":\"mesh3d\",\"colorbar\":{\"outlinewidth\":0,\"ticks\":\"\"}}],\"scatter\":[{\"fillpattern\":{\"fillmode\":\"overlay\",\"size\":10,\"solidity\":0.2},\"type\":\"scatter\"}],\"parcoords\":[{\"type\":\"parcoords\",\"line\":{\"colorbar\":{\"outlinewidth\":0,\"ticks\":\"\"}}}],\"scatterpolargl\":[{\"type\":\"scatterpolargl\",\"marker\":{\"colorbar\":{\"outlinewidth\":0,\"ticks\":\"\"}}}],\"bar\":[{\"error_x\":{\"color\":\"#2a3f5f\"},\"error_y\":{\"color\":\"#2a3f5f\"},\"marker\":{\"line\":{\"color\":\"#E5ECF6\",\"width\":0.5},\"pattern\":{\"fillmode\":\"overlay\",\"size\":10,\"solidity\":0.2}},\"type\":\"bar\"}],\"scattergeo\":[{\"type\":\"scattergeo\",\"marker\":{\"colorbar\":{\"outlinewidth\":0,\"ticks\":\"\"}}}],\"scatterpolar\":[{\"type\":\"scatterpolar\",\"marker\":{\"colorbar\":{\"outlinewidth\":0,\"ticks\":\"\"}}}],\"histogram\":[{\"marker\":{\"pattern\":{\"fillmode\":\"overlay\",\"size\":10,\"solidity\":0.2}},\"type\":\"histogram\"}],\"scattergl\":[{\"type\":\"scattergl\",\"marker\":{\"colorbar\":{\"outlinewidth\":0,\"ticks\":\"\"}}}],\"scatter3d\":[{\"type\":\"scatter3d\",\"line\":{\"colorbar\":{\"outlinewidth\":0,\"ticks\":\"\"}},\"marker\":{\"colorbar\":{\"outlinewidth\":0,\"ticks\":\"\"}}}],\"scattermapbox\":[{\"type\":\"scattermapbox\",\"marker\":{\"colorbar\":{\"outlinewidth\":0,\"ticks\":\"\"}}}],\"scatterternary\":[{\"type\":\"scatterternary\",\"marker\":{\"colorbar\":{\"outlinewidth\":0,\"ticks\":\"\"}}}],\"scattercarpet\":[{\"type\":\"scattercarpet\",\"marker\":{\"colorbar\":{\"outlinewidth\":0,\"ticks\":\"\"}}}],\"carpet\":[{\"aaxis\":{\"endlinecolor\":\"#2a3f5f\",\"gridcolor\":\"white\",\"linecolor\":\"white\",\"minorgridcolor\":\"white\",\"startlinecolor\":\"#2a3f5f\"},\"baxis\":{\"endlinecolor\":\"#2a3f5f\",\"gridcolor\":\"white\",\"linecolor\":\"white\",\"minorgridcolor\":\"white\",\"startlinecolor\":\"#2a3f5f\"},\"type\":\"carpet\"}],\"table\":[{\"cells\":{\"fill\":{\"color\":\"#EBF0F8\"},\"line\":{\"color\":\"white\"}},\"header\":{\"fill\":{\"color\":\"#C8D4E3\"},\"line\":{\"color\":\"white\"}},\"type\":\"table\"}],\"barpolar\":[{\"marker\":{\"line\":{\"color\":\"#E5ECF6\",\"width\":0.5},\"pattern\":{\"fillmode\":\"overlay\",\"size\":10,\"solidity\":0.2}},\"type\":\"barpolar\"}],\"pie\":[{\"automargin\":true,\"type\":\"pie\"}]},\"layout\":{\"autotypenumbers\":\"strict\",\"colorway\":[\"#636efa\",\"#EF553B\",\"#00cc96\",\"#ab63fa\",\"#FFA15A\",\"#19d3f3\",\"#FF6692\",\"#B6E880\",\"#FF97FF\",\"#FECB52\"],\"font\":{\"color\":\"#2a3f5f\"},\"hovermode\":\"closest\",\"hoverlabel\":{\"align\":\"left\"},\"paper_bgcolor\":\"white\",\"plot_bgcolor\":\"#E5ECF6\",\"polar\":{\"bgcolor\":\"#E5ECF6\",\"angularaxis\":{\"gridcolor\":\"white\",\"linecolor\":\"white\",\"ticks\":\"\"},\"radialaxis\":{\"gridcolor\":\"white\",\"linecolor\":\"white\",\"ticks\":\"\"}},\"ternary\":{\"bgcolor\":\"#E5ECF6\",\"aaxis\":{\"gridcolor\":\"white\",\"linecolor\":\"white\",\"ticks\":\"\"},\"baxis\":{\"gridcolor\":\"white\",\"linecolor\":\"white\",\"ticks\":\"\"},\"caxis\":{\"gridcolor\":\"white\",\"linecolor\":\"white\",\"ticks\":\"\"}},\"coloraxis\":{\"colorbar\":{\"outlinewidth\":0,\"ticks\":\"\"}},\"colorscale\":{\"sequential\":[[0.0,\"#0d0887\"],[0.1111111111111111,\"#46039f\"],[0.2222222222222222,\"#7201a8\"],[0.3333333333333333,\"#9c179e\"],[0.4444444444444444,\"#bd3786\"],[0.5555555555555556,\"#d8576b\"],[0.6666666666666666,\"#ed7953\"],[0.7777777777777778,\"#fb9f3a\"],[0.8888888888888888,\"#fdca26\"],[1.0,\"#f0f921\"]],\"sequentialminus\":[[0.0,\"#0d0887\"],[0.1111111111111111,\"#46039f\"],[0.2222222222222222,\"#7201a8\"],[0.3333333333333333,\"#9c179e\"],[0.4444444444444444,\"#bd3786\"],[0.5555555555555556,\"#d8576b\"],[0.6666666666666666,\"#ed7953\"],[0.7777777777777778,\"#fb9f3a\"],[0.8888888888888888,\"#fdca26\"],[1.0,\"#f0f921\"]],\"diverging\":[[0,\"#8e0152\"],[0.1,\"#c51b7d\"],[0.2,\"#de77ae\"],[0.3,\"#f1b6da\"],[0.4,\"#fde0ef\"],[0.5,\"#f7f7f7\"],[0.6,\"#e6f5d0\"],[0.7,\"#b8e186\"],[0.8,\"#7fbc41\"],[0.9,\"#4d9221\"],[1,\"#276419\"]]},\"xaxis\":{\"gridcolor\":\"white\",\"linecolor\":\"white\",\"ticks\":\"\",\"title\":{\"standoff\":15},\"zerolinecolor\":\"white\",\"automargin\":true,\"zerolinewidth\":2},\"yaxis\":{\"gridcolor\":\"white\",\"linecolor\":\"white\",\"ticks\":\"\",\"title\":{\"standoff\":15},\"zerolinecolor\":\"white\",\"automargin\":true,\"zerolinewidth\":2},\"scene\":{\"xaxis\":{\"backgroundcolor\":\"#E5ECF6\",\"gridcolor\":\"white\",\"linecolor\":\"white\",\"showbackground\":true,\"ticks\":\"\",\"zerolinecolor\":\"white\",\"gridwidth\":2},\"yaxis\":{\"backgroundcolor\":\"#E5ECF6\",\"gridcolor\":\"white\",\"linecolor\":\"white\",\"showbackground\":true,\"ticks\":\"\",\"zerolinecolor\":\"white\",\"gridwidth\":2},\"zaxis\":{\"backgroundcolor\":\"#E5ECF6\",\"gridcolor\":\"white\",\"linecolor\":\"white\",\"showbackground\":true,\"ticks\":\"\",\"zerolinecolor\":\"white\",\"gridwidth\":2}},\"shapedefaults\":{\"line\":{\"color\":\"#2a3f5f\"}},\"annotationdefaults\":{\"arrowcolor\":\"#2a3f5f\",\"arrowhead\":0,\"arrowwidth\":1},\"geo\":{\"bgcolor\":\"white\",\"landcolor\":\"#E5ECF6\",\"subunitcolor\":\"white\",\"showland\":true,\"showlakes\":true,\"lakecolor\":\"white\"},\"title\":{\"x\":0.05},\"mapbox\":{\"style\":\"light\"}}},\"xaxis\":{\"anchor\":\"y\",\"domain\":[0.0,1.0],\"title\":{\"text\":\"year\"}},\"yaxis\":{\"anchor\":\"x\",\"domain\":[0.0,1.0],\"title\":{\"text\":\"total_fires\"}},\"legend\":{\"tracegroupgap\":0},\"title\":{\"text\":\"Total Number of Fires Per Year\"}},                        {\"responsive\": true}                    ).then(function(){\n",
       "                            \n",
       "var gd = document.getElementById('dfac22eb-142d-4806-adfc-3ce44782a895');\n",
       "var x = new MutationObserver(function (mutations, observer) {{\n",
       "        var display = window.getComputedStyle(gd).display;\n",
       "        if (!display || display === 'none') {{\n",
       "            console.log([gd, 'removed!']);\n",
       "            Plotly.purge(gd);\n",
       "            observer.disconnect();\n",
       "        }}\n",
       "}});\n",
       "\n",
       "// Listen for the removal of the full notebook cells\n",
       "var notebookContainer = gd.closest('#notebook-container');\n",
       "if (notebookContainer) {{\n",
       "    x.observe(notebookContainer, {childList: true});\n",
       "}}\n",
       "\n",
       "// Listen for the clearing of the current output cell\n",
       "var outputEl = gd.closest('.output');\n",
       "if (outputEl) {{\n",
       "    x.observe(outputEl, {childList: true});\n",
       "}}\n",
       "\n",
       "                        })                };                });            </script>        </div>"
      ]
     },
     "metadata": {},
     "output_type": "display_data"
    },
    {
     "data": {
      "application/vnd.plotly.v1+json": {
       "config": {
        "plotlyServerURL": "https://plot.ly"
       },
       "data": [
        {
         "hovertemplate": "year=%{x}<br>average_acres_burned=%{y}<extra></extra>",
         "legendgroup": "",
         "line": {
          "color": "#636efa",
          "dash": "solid"
         },
         "marker": {
          "symbol": "circle"
         },
         "mode": "lines+markers",
         "name": "",
         "orientation": "v",
         "showlegend": false,
         "type": "scatter",
         "x": [
          2013,
          2014,
          2015,
          2016,
          2017,
          2018,
          2019,
          2020,
          2021,
          2022,
          2023,
          2024
         ],
         "xaxis": "x",
         "y": [
          3354.1640625,
          3878.794117647059,
          2970.3837209302324,
          1808.6766917293232,
          4474,
          1903.0695187165775,
          1303.2057142857143,
          7472.613953488372,
          3142.7185628742513,
          15624.813793103449,
          7710.757142857143,
          2590.8954954954957
         ],
         "yaxis": "y"
        }
       ],
       "layout": {
        "autosize": true,
        "legend": {
         "tracegroupgap": 0
        },
        "template": {
         "data": {
          "bar": [
           {
            "error_x": {
             "color": "#2a3f5f"
            },
            "error_y": {
             "color": "#2a3f5f"
            },
            "marker": {
             "line": {
              "color": "#E5ECF6",
              "width": 0.5
             },
             "pattern": {
              "fillmode": "overlay",
              "size": 10,
              "solidity": 0.2
             }
            },
            "type": "bar"
           }
          ],
          "barpolar": [
           {
            "marker": {
             "line": {
              "color": "#E5ECF6",
              "width": 0.5
             },
             "pattern": {
              "fillmode": "overlay",
              "size": 10,
              "solidity": 0.2
             }
            },
            "type": "barpolar"
           }
          ],
          "carpet": [
           {
            "aaxis": {
             "endlinecolor": "#2a3f5f",
             "gridcolor": "white",
             "linecolor": "white",
             "minorgridcolor": "white",
             "startlinecolor": "#2a3f5f"
            },
            "baxis": {
             "endlinecolor": "#2a3f5f",
             "gridcolor": "white",
             "linecolor": "white",
             "minorgridcolor": "white",
             "startlinecolor": "#2a3f5f"
            },
            "type": "carpet"
           }
          ],
          "choropleth": [
           {
            "colorbar": {
             "outlinewidth": 0,
             "ticks": ""
            },
            "type": "choropleth"
           }
          ],
          "contour": [
           {
            "colorbar": {
             "outlinewidth": 0,
             "ticks": ""
            },
            "colorscale": [
             [
              0,
              "#0d0887"
             ],
             [
              0.1111111111111111,
              "#46039f"
             ],
             [
              0.2222222222222222,
              "#7201a8"
             ],
             [
              0.3333333333333333,
              "#9c179e"
             ],
             [
              0.4444444444444444,
              "#bd3786"
             ],
             [
              0.5555555555555556,
              "#d8576b"
             ],
             [
              0.6666666666666666,
              "#ed7953"
             ],
             [
              0.7777777777777778,
              "#fb9f3a"
             ],
             [
              0.8888888888888888,
              "#fdca26"
             ],
             [
              1,
              "#f0f921"
             ]
            ],
            "type": "contour"
           }
          ],
          "contourcarpet": [
           {
            "colorbar": {
             "outlinewidth": 0,
             "ticks": ""
            },
            "type": "contourcarpet"
           }
          ],
          "heatmap": [
           {
            "colorbar": {
             "outlinewidth": 0,
             "ticks": ""
            },
            "colorscale": [
             [
              0,
              "#0d0887"
             ],
             [
              0.1111111111111111,
              "#46039f"
             ],
             [
              0.2222222222222222,
              "#7201a8"
             ],
             [
              0.3333333333333333,
              "#9c179e"
             ],
             [
              0.4444444444444444,
              "#bd3786"
             ],
             [
              0.5555555555555556,
              "#d8576b"
             ],
             [
              0.6666666666666666,
              "#ed7953"
             ],
             [
              0.7777777777777778,
              "#fb9f3a"
             ],
             [
              0.8888888888888888,
              "#fdca26"
             ],
             [
              1,
              "#f0f921"
             ]
            ],
            "type": "heatmap"
           }
          ],
          "heatmapgl": [
           {
            "colorbar": {
             "outlinewidth": 0,
             "ticks": ""
            },
            "colorscale": [
             [
              0,
              "#0d0887"
             ],
             [
              0.1111111111111111,
              "#46039f"
             ],
             [
              0.2222222222222222,
              "#7201a8"
             ],
             [
              0.3333333333333333,
              "#9c179e"
             ],
             [
              0.4444444444444444,
              "#bd3786"
             ],
             [
              0.5555555555555556,
              "#d8576b"
             ],
             [
              0.6666666666666666,
              "#ed7953"
             ],
             [
              0.7777777777777778,
              "#fb9f3a"
             ],
             [
              0.8888888888888888,
              "#fdca26"
             ],
             [
              1,
              "#f0f921"
             ]
            ],
            "type": "heatmapgl"
           }
          ],
          "histogram": [
           {
            "marker": {
             "pattern": {
              "fillmode": "overlay",
              "size": 10,
              "solidity": 0.2
             }
            },
            "type": "histogram"
           }
          ],
          "histogram2d": [
           {
            "colorbar": {
             "outlinewidth": 0,
             "ticks": ""
            },
            "colorscale": [
             [
              0,
              "#0d0887"
             ],
             [
              0.1111111111111111,
              "#46039f"
             ],
             [
              0.2222222222222222,
              "#7201a8"
             ],
             [
              0.3333333333333333,
              "#9c179e"
             ],
             [
              0.4444444444444444,
              "#bd3786"
             ],
             [
              0.5555555555555556,
              "#d8576b"
             ],
             [
              0.6666666666666666,
              "#ed7953"
             ],
             [
              0.7777777777777778,
              "#fb9f3a"
             ],
             [
              0.8888888888888888,
              "#fdca26"
             ],
             [
              1,
              "#f0f921"
             ]
            ],
            "type": "histogram2d"
           }
          ],
          "histogram2dcontour": [
           {
            "colorbar": {
             "outlinewidth": 0,
             "ticks": ""
            },
            "colorscale": [
             [
              0,
              "#0d0887"
             ],
             [
              0.1111111111111111,
              "#46039f"
             ],
             [
              0.2222222222222222,
              "#7201a8"
             ],
             [
              0.3333333333333333,
              "#9c179e"
             ],
             [
              0.4444444444444444,
              "#bd3786"
             ],
             [
              0.5555555555555556,
              "#d8576b"
             ],
             [
              0.6666666666666666,
              "#ed7953"
             ],
             [
              0.7777777777777778,
              "#fb9f3a"
             ],
             [
              0.8888888888888888,
              "#fdca26"
             ],
             [
              1,
              "#f0f921"
             ]
            ],
            "type": "histogram2dcontour"
           }
          ],
          "mesh3d": [
           {
            "colorbar": {
             "outlinewidth": 0,
             "ticks": ""
            },
            "type": "mesh3d"
           }
          ],
          "parcoords": [
           {
            "line": {
             "colorbar": {
              "outlinewidth": 0,
              "ticks": ""
             }
            },
            "type": "parcoords"
           }
          ],
          "pie": [
           {
            "automargin": true,
            "type": "pie"
           }
          ],
          "scatter": [
           {
            "fillpattern": {
             "fillmode": "overlay",
             "size": 10,
             "solidity": 0.2
            },
            "type": "scatter"
           }
          ],
          "scatter3d": [
           {
            "line": {
             "colorbar": {
              "outlinewidth": 0,
              "ticks": ""
             }
            },
            "marker": {
             "colorbar": {
              "outlinewidth": 0,
              "ticks": ""
             }
            },
            "type": "scatter3d"
           }
          ],
          "scattercarpet": [
           {
            "marker": {
             "colorbar": {
              "outlinewidth": 0,
              "ticks": ""
             }
            },
            "type": "scattercarpet"
           }
          ],
          "scattergeo": [
           {
            "marker": {
             "colorbar": {
              "outlinewidth": 0,
              "ticks": ""
             }
            },
            "type": "scattergeo"
           }
          ],
          "scattergl": [
           {
            "marker": {
             "colorbar": {
              "outlinewidth": 0,
              "ticks": ""
             }
            },
            "type": "scattergl"
           }
          ],
          "scattermapbox": [
           {
            "marker": {
             "colorbar": {
              "outlinewidth": 0,
              "ticks": ""
             }
            },
            "type": "scattermapbox"
           }
          ],
          "scatterpolar": [
           {
            "marker": {
             "colorbar": {
              "outlinewidth": 0,
              "ticks": ""
             }
            },
            "type": "scatterpolar"
           }
          ],
          "scatterpolargl": [
           {
            "marker": {
             "colorbar": {
              "outlinewidth": 0,
              "ticks": ""
             }
            },
            "type": "scatterpolargl"
           }
          ],
          "scatterternary": [
           {
            "marker": {
             "colorbar": {
              "outlinewidth": 0,
              "ticks": ""
             }
            },
            "type": "scatterternary"
           }
          ],
          "surface": [
           {
            "colorbar": {
             "outlinewidth": 0,
             "ticks": ""
            },
            "colorscale": [
             [
              0,
              "#0d0887"
             ],
             [
              0.1111111111111111,
              "#46039f"
             ],
             [
              0.2222222222222222,
              "#7201a8"
             ],
             [
              0.3333333333333333,
              "#9c179e"
             ],
             [
              0.4444444444444444,
              "#bd3786"
             ],
             [
              0.5555555555555556,
              "#d8576b"
             ],
             [
              0.6666666666666666,
              "#ed7953"
             ],
             [
              0.7777777777777778,
              "#fb9f3a"
             ],
             [
              0.8888888888888888,
              "#fdca26"
             ],
             [
              1,
              "#f0f921"
             ]
            ],
            "type": "surface"
           }
          ],
          "table": [
           {
            "cells": {
             "fill": {
              "color": "#EBF0F8"
             },
             "line": {
              "color": "white"
             }
            },
            "header": {
             "fill": {
              "color": "#C8D4E3"
             },
             "line": {
              "color": "white"
             }
            },
            "type": "table"
           }
          ]
         },
         "layout": {
          "annotationdefaults": {
           "arrowcolor": "#2a3f5f",
           "arrowhead": 0,
           "arrowwidth": 1
          },
          "autotypenumbers": "strict",
          "coloraxis": {
           "colorbar": {
            "outlinewidth": 0,
            "ticks": ""
           }
          },
          "colorscale": {
           "diverging": [
            [
             0,
             "#8e0152"
            ],
            [
             0.1,
             "#c51b7d"
            ],
            [
             0.2,
             "#de77ae"
            ],
            [
             0.3,
             "#f1b6da"
            ],
            [
             0.4,
             "#fde0ef"
            ],
            [
             0.5,
             "#f7f7f7"
            ],
            [
             0.6,
             "#e6f5d0"
            ],
            [
             0.7,
             "#b8e186"
            ],
            [
             0.8,
             "#7fbc41"
            ],
            [
             0.9,
             "#4d9221"
            ],
            [
             1,
             "#276419"
            ]
           ],
           "sequential": [
            [
             0,
             "#0d0887"
            ],
            [
             0.1111111111111111,
             "#46039f"
            ],
            [
             0.2222222222222222,
             "#7201a8"
            ],
            [
             0.3333333333333333,
             "#9c179e"
            ],
            [
             0.4444444444444444,
             "#bd3786"
            ],
            [
             0.5555555555555556,
             "#d8576b"
            ],
            [
             0.6666666666666666,
             "#ed7953"
            ],
            [
             0.7777777777777778,
             "#fb9f3a"
            ],
            [
             0.8888888888888888,
             "#fdca26"
            ],
            [
             1,
             "#f0f921"
            ]
           ],
           "sequentialminus": [
            [
             0,
             "#0d0887"
            ],
            [
             0.1111111111111111,
             "#46039f"
            ],
            [
             0.2222222222222222,
             "#7201a8"
            ],
            [
             0.3333333333333333,
             "#9c179e"
            ],
            [
             0.4444444444444444,
             "#bd3786"
            ],
            [
             0.5555555555555556,
             "#d8576b"
            ],
            [
             0.6666666666666666,
             "#ed7953"
            ],
            [
             0.7777777777777778,
             "#fb9f3a"
            ],
            [
             0.8888888888888888,
             "#fdca26"
            ],
            [
             1,
             "#f0f921"
            ]
           ]
          },
          "colorway": [
           "#636efa",
           "#EF553B",
           "#00cc96",
           "#ab63fa",
           "#FFA15A",
           "#19d3f3",
           "#FF6692",
           "#B6E880",
           "#FF97FF",
           "#FECB52"
          ],
          "font": {
           "color": "#2a3f5f"
          },
          "geo": {
           "bgcolor": "white",
           "lakecolor": "white",
           "landcolor": "#E5ECF6",
           "showlakes": true,
           "showland": true,
           "subunitcolor": "white"
          },
          "hoverlabel": {
           "align": "left"
          },
          "hovermode": "closest",
          "mapbox": {
           "style": "light"
          },
          "paper_bgcolor": "white",
          "plot_bgcolor": "#E5ECF6",
          "polar": {
           "angularaxis": {
            "gridcolor": "white",
            "linecolor": "white",
            "ticks": ""
           },
           "bgcolor": "#E5ECF6",
           "radialaxis": {
            "gridcolor": "white",
            "linecolor": "white",
            "ticks": ""
           }
          },
          "scene": {
           "xaxis": {
            "backgroundcolor": "#E5ECF6",
            "gridcolor": "white",
            "gridwidth": 2,
            "linecolor": "white",
            "showbackground": true,
            "ticks": "",
            "zerolinecolor": "white"
           },
           "yaxis": {
            "backgroundcolor": "#E5ECF6",
            "gridcolor": "white",
            "gridwidth": 2,
            "linecolor": "white",
            "showbackground": true,
            "ticks": "",
            "zerolinecolor": "white"
           },
           "zaxis": {
            "backgroundcolor": "#E5ECF6",
            "gridcolor": "white",
            "gridwidth": 2,
            "linecolor": "white",
            "showbackground": true,
            "ticks": "",
            "zerolinecolor": "white"
           }
          },
          "shapedefaults": {
           "line": {
            "color": "#2a3f5f"
           }
          },
          "ternary": {
           "aaxis": {
            "gridcolor": "white",
            "linecolor": "white",
            "ticks": ""
           },
           "baxis": {
            "gridcolor": "white",
            "linecolor": "white",
            "ticks": ""
           },
           "bgcolor": "#E5ECF6",
           "caxis": {
            "gridcolor": "white",
            "linecolor": "white",
            "ticks": ""
           }
          },
          "title": {
           "x": 0.05
          },
          "xaxis": {
           "automargin": true,
           "gridcolor": "white",
           "linecolor": "white",
           "ticks": "",
           "title": {
            "standoff": 15
           },
           "zerolinecolor": "white",
           "zerolinewidth": 2
          },
          "yaxis": {
           "automargin": true,
           "gridcolor": "white",
           "linecolor": "white",
           "ticks": "",
           "title": {
            "standoff": 15
           },
           "zerolinecolor": "white",
           "zerolinewidth": 2
          }
         }
        },
        "title": {
         "text": "Average Acres Burned Per Year"
        },
        "xaxis": {
         "anchor": "y",
         "autorange": true,
         "domain": [
          0,
          1
         ],
         "range": [
          2012.3171285423516,
          2024.6828714576484
         ],
         "title": {
          "text": "year"
         },
         "type": "linear"
        },
        "yaxis": {
         "anchor": "x",
         "autorange": true,
         "domain": [
          0,
          1
         ],
         "range": [
          121.32543593667788,
          16806.694071452486
         ],
         "title": {
          "text": "average_acres_burned"
         },
         "type": "linear"
        }
       }
      },
      "image/png": "[encoded data removed]",
      "text/html": [
       "<div>                            <div id=\"13975b89-634e-4910-89b2-64e274efc58b\" class=\"plotly-graph-div\" style=\"height:525px; width:100%;\"></div>            <script type=\"text/javascript\">                require([\"plotly\"], function(Plotly) {                    window.PLOTLYENV=window.PLOTLYENV || {};                                    if (document.getElementById(\"13975b89-634e-4910-89b2-64e274efc58b\")) {                    Plotly.newPlot(                        \"13975b89-634e-4910-89b2-64e274efc58b\",                        [{\"hovertemplate\":\"year=%{x}\\u003cbr\\u003eaverage_acres_burned=%{y}\\u003cextra\\u003e\\u003c\\u002fextra\\u003e\",\"legendgroup\":\"\",\"line\":{\"color\":\"#636efa\",\"dash\":\"solid\"},\"marker\":{\"symbol\":\"circle\"},\"mode\":\"lines+markers\",\"name\":\"\",\"orientation\":\"v\",\"showlegend\":false,\"x\":[2013,2014,2015,2016,2017,2018,2019,2020,2021,2022,2023,2024],\"xaxis\":\"x\",\"y\":[3354.1640625,3878.794117647059,2970.3837209302324,1808.6766917293232,4474.0,1903.0695187165775,1303.2057142857143,7472.613953488372,3142.7185628742513,15624.813793103449,7710.757142857143,2590.8954954954957],\"yaxis\":\"y\",\"type\":\"scatter\"}],                        {\"template\":{\"data\":{\"histogram2dcontour\":[{\"type\":\"histogram2dcontour\",\"colorbar\":{\"outlinewidth\":0,\"ticks\":\"\"},\"colorscale\":[[0.0,\"#0d0887\"],[0.1111111111111111,\"#46039f\"],[0.2222222222222222,\"#7201a8\"],[0.3333333333333333,\"#9c179e\"],[0.4444444444444444,\"#bd3786\"],[0.5555555555555556,\"#d8576b\"],[0.6666666666666666,\"#ed7953\"],[0.7777777777777778,\"#fb9f3a\"],[0.8888888888888888,\"#fdca26\"],[1.0,\"#f0f921\"]]}],\"choropleth\":[{\"type\":\"choropleth\",\"colorbar\":{\"outlinewidth\":0,\"ticks\":\"\"}}],\"histogram2d\":[{\"type\":\"histogram2d\",\"colorbar\":{\"outlinewidth\":0,\"ticks\":\"\"},\"colorscale\":[[0.0,\"#0d0887\"],[0.1111111111111111,\"#46039f\"],[0.2222222222222222,\"#7201a8\"],[0.3333333333333333,\"#9c179e\"],[0.4444444444444444,\"#bd3786\"],[0.5555555555555556,\"#d8576b\"],[0.6666666666666666,\"#ed7953\"],[0.7777777777777778,\"#fb9f3a\"],[0.8888888888888888,\"#fdca26\"],[1.0,\"#f0f921\"]]}],\"heatmap\":[{\"type\":\"heatmap\",\"colorbar\":{\"outlinewidth\":0,\"ticks\":\"\"},\"colorscale\":[[0.0,\"#0d0887\"],[0.1111111111111111,\"#46039f\"],[0.2222222222222222,\"#7201a8\"],[0.3333333333333333,\"#9c179e\"],[0.4444444444444444,\"#bd3786\"],[0.5555555555555556,\"#d8576b\"],[0.6666666666666666,\"#ed7953\"],[0.7777777777777778,\"#fb9f3a\"],[0.8888888888888888,\"#fdca26\"],[1.0,\"#f0f921\"]]}],\"heatmapgl\":[{\"type\":\"heatmapgl\",\"colorbar\":{\"outlinewidth\":0,\"ticks\":\"\"},\"colorscale\":[[0.0,\"#0d0887\"],[0.1111111111111111,\"#46039f\"],[0.2222222222222222,\"#7201a8\"],[0.3333333333333333,\"#9c179e\"],[0.4444444444444444,\"#bd3786\"],[0.5555555555555556,\"#d8576b\"],[0.6666666666666666,\"#ed7953\"],[0.7777777777777778,\"#fb9f3a\"],[0.8888888888888888,\"#fdca26\"],[1.0,\"#f0f921\"]]}],\"contourcarpet\":[{\"type\":\"contourcarpet\",\"colorbar\":{\"outlinewidth\":0,\"ticks\":\"\"}}],\"contour\":[{\"type\":\"contour\",\"colorbar\":{\"outlinewidth\":0,\"ticks\":\"\"},\"colorscale\":[[0.0,\"#0d0887\"],[0.1111111111111111,\"#46039f\"],[0.2222222222222222,\"#7201a8\"],[0.3333333333333333,\"#9c179e\"],[0.4444444444444444,\"#bd3786\"],[0.5555555555555556,\"#d8576b\"],[0.6666666666666666,\"#ed7953\"],[0.7777777777777778,\"#fb9f3a\"],[0.8888888888888888,\"#fdca26\"],[1.0,\"#f0f921\"]]}],\"surface\":[{\"type\":\"surface\",\"colorbar\":{\"outlinewidth\":0,\"ticks\":\"\"},\"colorscale\":[[0.0,\"#0d0887\"],[0.1111111111111111,\"#46039f\"],[0.2222222222222222,\"#7201a8\"],[0.3333333333333333,\"#9c179e\"],[0.4444444444444444,\"#bd3786\"],[0.5555555555555556,\"#d8576b\"],[0.6666666666666666,\"#ed7953\"],[0.7777777777777778,\"#fb9f3a\"],[0.8888888888888888,\"#fdca26\"],[1.0,\"#f0f921\"]]}],\"mesh3d\":[{\"type\":\"mesh3d\",\"colorbar\":{\"outlinewidth\":0,\"ticks\":\"\"}}],\"scatter\":[{\"fillpattern\":{\"fillmode\":\"overlay\",\"size\":10,\"solidity\":0.2},\"type\":\"scatter\"}],\"parcoords\":[{\"type\":\"parcoords\",\"line\":{\"colorbar\":{\"outlinewidth\":0,\"ticks\":\"\"}}}],\"scatterpolargl\":[{\"type\":\"scatterpolargl\",\"marker\":{\"colorbar\":{\"outlinewidth\":0,\"ticks\":\"\"}}}],\"bar\":[{\"error_x\":{\"color\":\"#2a3f5f\"},\"error_y\":{\"color\":\"#2a3f5f\"},\"marker\":{\"line\":{\"color\":\"#E5ECF6\",\"width\":0.5},\"pattern\":{\"fillmode\":\"overlay\",\"size\":10,\"solidity\":0.2}},\"type\":\"bar\"}],\"scattergeo\":[{\"type\":\"scattergeo\",\"marker\":{\"colorbar\":{\"outlinewidth\":0,\"ticks\":\"\"}}}],\"scatterpolar\":[{\"type\":\"scatterpolar\",\"marker\":{\"colorbar\":{\"outlinewidth\":0,\"ticks\":\"\"}}}],\"histogram\":[{\"marker\":{\"pattern\":{\"fillmode\":\"overlay\",\"size\":10,\"solidity\":0.2}},\"type\":\"histogram\"}],\"scattergl\":[{\"type\":\"scattergl\",\"marker\":{\"colorbar\":{\"outlinewidth\":0,\"ticks\":\"\"}}}],\"scatter3d\":[{\"type\":\"scatter3d\",\"line\":{\"colorbar\":{\"outlinewidth\":0,\"ticks\":\"\"}},\"marker\":{\"colorbar\":{\"outlinewidth\":0,\"ticks\":\"\"}}}],\"scattermapbox\":[{\"type\":\"scattermapbox\",\"marker\":{\"colorbar\":{\"outlinewidth\":0,\"ticks\":\"\"}}}],\"scatterternary\":[{\"type\":\"scatterternary\",\"marker\":{\"colorbar\":{\"outlinewidth\":0,\"ticks\":\"\"}}}],\"scattercarpet\":[{\"type\":\"scattercarpet\",\"marker\":{\"colorbar\":{\"outlinewidth\":0,\"ticks\":\"\"}}}],\"carpet\":[{\"aaxis\":{\"endlinecolor\":\"#2a3f5f\",\"gridcolor\":\"white\",\"linecolor\":\"white\",\"minorgridcolor\":\"white\",\"startlinecolor\":\"#2a3f5f\"},\"baxis\":{\"endlinecolor\":\"#2a3f5f\",\"gridcolor\":\"white\",\"linecolor\":\"white\",\"minorgridcolor\":\"white\",\"startlinecolor\":\"#2a3f5f\"},\"type\":\"carpet\"}],\"table\":[{\"cells\":{\"fill\":{\"color\":\"#EBF0F8\"},\"line\":{\"color\":\"white\"}},\"header\":{\"fill\":{\"color\":\"#C8D4E3\"},\"line\":{\"color\":\"white\"}},\"type\":\"table\"}],\"barpolar\":[{\"marker\":{\"line\":{\"color\":\"#E5ECF6\",\"width\":0.5},\"pattern\":{\"fillmode\":\"overlay\",\"size\":10,\"solidity\":0.2}},\"type\":\"barpolar\"}],\"pie\":[{\"automargin\":true,\"type\":\"pie\"}]},\"layout\":{\"autotypenumbers\":\"strict\",\"colorway\":[\"#636efa\",\"#EF553B\",\"#00cc96\",\"#ab63fa\",\"#FFA15A\",\"#19d3f3\",\"#FF6692\",\"#B6E880\",\"#FF97FF\",\"#FECB52\"],\"font\":{\"color\":\"#2a3f5f\"},\"hovermode\":\"closest\",\"hoverlabel\":{\"align\":\"left\"},\"paper_bgcolor\":\"white\",\"plot_bgcolor\":\"#E5ECF6\",\"polar\":{\"bgcolor\":\"#E5ECF6\",\"angularaxis\":{\"gridcolor\":\"white\",\"linecolor\":\"white\",\"ticks\":\"\"},\"radialaxis\":{\"gridcolor\":\"white\",\"linecolor\":\"white\",\"ticks\":\"\"}},\"ternary\":{\"bgcolor\":\"#E5ECF6\",\"aaxis\":{\"gridcolor\":\"white\",\"linecolor\":\"white\",\"ticks\":\"\"},\"baxis\":{\"gridcolor\":\"white\",\"linecolor\":\"white\",\"ticks\":\"\"},\"caxis\":{\"gridcolor\":\"white\",\"linecolor\":\"white\",\"ticks\":\"\"}},\"coloraxis\":{\"colorbar\":{\"outlinewidth\":0,\"ticks\":\"\"}},\"colorscale\":{\"sequential\":[[0.0,\"#0d0887\"],[0.1111111111111111,\"#46039f\"],[0.2222222222222222,\"#7201a8\"],[0.3333333333333333,\"#9c179e\"],[0.4444444444444444,\"#bd3786\"],[0.5555555555555556,\"#d8576b\"],[0.6666666666666666,\"#ed7953\"],[0.7777777777777778,\"#fb9f3a\"],[0.8888888888888888,\"#fdca26\"],[1.0,\"#f0f921\"]],\"sequentialminus\":[[0.0,\"#0d0887\"],[0.1111111111111111,\"#46039f\"],[0.2222222222222222,\"#7201a8\"],[0.3333333333333333,\"#9c179e\"],[0.4444444444444444,\"#bd3786\"],[0.5555555555555556,\"#d8576b\"],[0.6666666666666666,\"#ed7953\"],[0.7777777777777778,\"#fb9f3a\"],[0.8888888888888888,\"#fdca26\"],[1.0,\"#f0f921\"]],\"diverging\":[[0,\"#8e0152\"],[0.1,\"#c51b7d\"],[0.2,\"#de77ae\"],[0.3,\"#f1b6da\"],[0.4,\"#fde0ef\"],[0.5,\"#f7f7f7\"],[0.6,\"#e6f5d0\"],[0.7,\"#b8e186\"],[0.8,\"#7fbc41\"],[0.9,\"#4d9221\"],[1,\"#276419\"]]},\"xaxis\":{\"gridcolor\":\"white\",\"linecolor\":\"white\",\"ticks\":\"\",\"title\":{\"standoff\":15},\"zerolinecolor\":\"white\",\"automargin\":true,\"zerolinewidth\":2},\"yaxis\":{\"gridcolor\":\"white\",\"linecolor\":\"white\",\"ticks\":\"\",\"title\":{\"standoff\":15},\"zerolinecolor\":\"white\",\"automargin\":true,\"zerolinewidth\":2},\"scene\":{\"xaxis\":{\"backgroundcolor\":\"#E5ECF6\",\"gridcolor\":\"white\",\"linecolor\":\"white\",\"showbackground\":true,\"ticks\":\"\",\"zerolinecolor\":\"white\",\"gridwidth\":2},\"yaxis\":{\"backgroundcolor\":\"#E5ECF6\",\"gridcolor\":\"white\",\"linecolor\":\"white\",\"showbackground\":true,\"ticks\":\"\",\"zerolinecolor\":\"white\",\"gridwidth\":2},\"zaxis\":{\"backgroundcolor\":\"#E5ECF6\",\"gridcolor\":\"white\",\"linecolor\":\"white\",\"showbackground\":true,\"ticks\":\"\",\"zerolinecolor\":\"white\",\"gridwidth\":2}},\"shapedefaults\":{\"line\":{\"color\":\"#2a3f5f\"}},\"annotationdefaults\":{\"arrowcolor\":\"#2a3f5f\",\"arrowhead\":0,\"arrowwidth\":1},\"geo\":{\"bgcolor\":\"white\",\"landcolor\":\"#E5ECF6\",\"subunitcolor\":\"white\",\"showland\":true,\"showlakes\":true,\"lakecolor\":\"white\"},\"title\":{\"x\":0.05},\"mapbox\":{\"style\":\"light\"}}},\"xaxis\":{\"anchor\":\"y\",\"domain\":[0.0,1.0],\"title\":{\"text\":\"year\"}},\"yaxis\":{\"anchor\":\"x\",\"domain\":[0.0,1.0],\"title\":{\"text\":\"average_acres_burned\"}},\"legend\":{\"tracegroupgap\":0},\"title\":{\"text\":\"Average Acres Burned Per Year\"}},                        {\"responsive\": true}                    ).then(function(){\n",
       "                            \n",
       "var gd = document.getElementById('13975b89-634e-4910-89b2-64e274efc58b');\n",
       "var x = new MutationObserver(function (mutations, observer) {{\n",
       "        var display = window.getComputedStyle(gd).display;\n",
       "        if (!display || display === 'none') {{\n",
       "            console.log([gd, 'removed!']);\n",
       "            Plotly.purge(gd);\n",
       "            observer.disconnect();\n",
       "        }}\n",
       "}});\n",
       "\n",
       "// Listen for the removal of the full notebook cells\n",
       "var notebookContainer = gd.closest('#notebook-container');\n",
       "if (notebookContainer) {{\n",
       "    x.observe(notebookContainer, {childList: true});\n",
       "}}\n",
       "\n",
       "// Listen for the clearing of the current output cell\n",
       "var outputEl = gd.closest('.output');\n",
       "if (outputEl) {{\n",
       "    x.observe(outputEl, {childList: true});\n",
       "}}\n",
       "\n",
       "                        })                };                });            </script>        </div>"
      ]
     },
     "metadata": {},
     "output_type": "display_data"
    }
   ],
   "source": [
    "# Extra Code\n",
    "DF_raw['incident_date_last_update'] = pd.to_datetime(DF_raw['incident_date_last_update'], utc=True, errors='coerce')\n",
    "\n",
    "DF_raw['year'] = DF_raw['incident_date_last_update'].dt.year\n",
    "\n",
    "annual_data = DF_raw.groupby('year').agg(\n",
    "    total_fires=('incident_name', 'count'),\n",
    "    average_acres_burned=('incident_acres_burned', 'mean')\n",
    ").reset_index()\n",
    "\n",
    "fig1 = px.line(annual_data, x='year', y='total_fires', title='Total Number of Fires Per Year', markers=True)\n",
    "fig1.show()\n",
    "\n",
    "fig2 = px.line(annual_data, x='year', y='average_acres_burned', title='Average Acres Burned Per Year', markers=True)\n",
    "fig2.show()\n"
   ]
  },
  {
   "cell_type": "markdown",
   "id": "fa09683e-ac6a-4cb5-a47d-6cbf580524d2",
   "metadata": {},
   "source": [
    "## Try reading in some data from Wikipedia - html\n",
    "\n",
    "Here we will explore academy award winning films. Go to the [Wiki for the List of Academy Award Winning Films](https://en.wikipedia.org/wiki/List_of_Academy_Award%E2%80%93winning_films). Look at what type of data is there. How many tables? Any weird looking data?\n",
    "\n",
    "Now read the html data into Python and show the data in DF[0]"
   ]
  },
  {
   "cell_type": "code",
   "execution_count": 29,
   "id": "7822c202-f226-4a55-ae1f-eceacc81531f",
   "metadata": {},
   "outputs": [
    {
     "data": {
      "text/html": [
       "<table id=\"itables_bc9cbead_b422_421b_ab20_437c30519458\" class=\"display nowrap\" data-quarto-disable-processing=\"true\" style=\"table-layout:auto;width:auto;margin:auto;caption-side:bottom\">\n",
       "<thead>\n",
       "    <tr style=\"text-align: right;\">\n",
       "      \n",
       "      <th>Film</th>\n",
       "      <th>Year</th>\n",
       "      <th>Awards</th>\n",
       "      <th>Nominations</th>\n",
       "    </tr>\n",
       "  </thead><tbody><tr>\n",
       "<td style=\"vertical-align:middle; text-align:left\">\n",
       "<div style=\"float:left; margin-right: 10px;\">\n",
       "<a href=https://mwouts.github.io/itables/><svg class=\"main-svg\" xmlns=\"http://www.w3.org/2000/svg\" xmlns:xlink=\"http://www.w3.org/1999/xlink\"\n",
       "width=\"64\" viewBox=\"0 0 500 400\" style=\"font-family: 'Droid Sans', sans-serif;\">\n",
       "    <g style=\"fill:#d9d7fc\">\n",
       "        <path d=\"M100,400H500V357H100Z\" />\n",
       "        <path d=\"M100,300H400V257H100Z\" />\n",
       "        <path d=\"M0,200H400V157H0Z\" />\n",
       "        <path d=\"M100,100H500V57H100Z\" />\n",
       "        <path d=\"M100,350H500V307H100Z\" />\n",
       "        <path d=\"M100,250H400V207H100Z\" />\n",
       "        <path d=\"M0,150H400V107H0Z\" />\n",
       "        <path d=\"M100,50H500V7H100Z\" />\n",
       "    </g>\n",
       "    <g style=\"fill:#1a1366;stroke:#1a1366;\">\n",
       "   <rect x=\"100\" y=\"7\" width=\"400\" height=\"43\">\n",
       "    <animate\n",
       "      attributeName=\"width\"\n",
       "      values=\"0;400;0\"\n",
       "      dur=\"5s\"\n",
       "      repeatCount=\"indefinite\" />\n",
       "      <animate\n",
       "      attributeName=\"x\"\n",
       "      values=\"100;100;500\"\n",
       "      dur=\"5s\"\n",
       "      repeatCount=\"indefinite\" />\n",
       "  </rect>\n",
       "        <rect x=\"0\" y=\"107\" width=\"400\" height=\"43\">\n",
       "    <animate\n",
       "      attributeName=\"width\"\n",
       "      values=\"0;400;0\"\n",
       "      dur=\"3.5s\"\n",
       "      repeatCount=\"indefinite\" />\n",
       "    <animate\n",
       "      attributeName=\"x\"\n",
       "      values=\"0;0;400\"\n",
       "      dur=\"3.5s\"\n",
       "      repeatCount=\"indefinite\" />\n",
       "  </rect>\n",
       "        <rect x=\"100\" y=\"207\" width=\"300\" height=\"43\">\n",
       "    <animate\n",
       "      attributeName=\"width\"\n",
       "      values=\"0;300;0\"\n",
       "      dur=\"3s\"\n",
       "      repeatCount=\"indefinite\" />\n",
       "    <animate\n",
       "      attributeName=\"x\"\n",
       "      values=\"100;100;400\"\n",
       "      dur=\"3s\"\n",
       "      repeatCount=\"indefinite\" />\n",
       "  </rect>\n",
       "        <rect x=\"100\" y=\"307\" width=\"400\" height=\"43\">\n",
       "    <animate\n",
       "      attributeName=\"width\"\n",
       "      values=\"0;400;0\"\n",
       "      dur=\"4s\"\n",
       "      repeatCount=\"indefinite\" />\n",
       "      <animate\n",
       "      attributeName=\"x\"\n",
       "      values=\"100;100;500\"\n",
       "      dur=\"4s\"\n",
       "      repeatCount=\"indefinite\" />\n",
       "  </rect>\n",
       "        <g style=\"fill:transparent;stroke-width:8; stroke-linejoin:round\" rx=\"5\">\n",
       "            <g transform=\"translate(45 50) rotate(-45)\">\n",
       "                <circle r=\"33\" cx=\"0\" cy=\"0\" />\n",
       "                <rect x=\"-8\" y=\"32\" width=\"16\" height=\"30\" />\n",
       "            </g>\n",
       "\n",
       "            <g transform=\"translate(450 152)\">\n",
       "                <polyline points=\"-15,-20 -35,-20 -35,40 25,40 25,20\" />\n",
       "                <rect x=\"-15\" y=\"-40\" width=\"60\" height=\"60\" />\n",
       "            </g>\n",
       "\n",
       "            <g transform=\"translate(50 352)\">\n",
       "                <polygon points=\"-35,-5 0,-40 35,-5\" />\n",
       "                <polygon points=\"-35,10 0,45 35,10\" />\n",
       "            </g>\n",
       "\n",
       "            <g transform=\"translate(75 250)\">\n",
       "                <polyline points=\"-30,30 -60,0 -30,-30\" />\n",
       "                <polyline points=\"0,30 -30,0 0,-30\" />\n",
       "            </g>\n",
       "\n",
       "            <g transform=\"translate(425 250) rotate(180)\">\n",
       "                <polyline points=\"-30,30 -60,0 -30,-30\" />\n",
       "                <polyline points=\"0,30 -30,0 0,-30\" />\n",
       "            </g>\n",
       "        </g>\n",
       "    </g>\n",
       "</svg>\n",
       "</a>\n",
       "</div>\n",
       "<div>\n",
       "Loading ITables v2.1.5 from the internet...\n",
       "(need <a href=https://mwouts.github.io/itables/troubleshooting.html>help</a>?)</td>\n",
       "</div>\n",
       "</tr></tbody>\n",
       "\n",
       "</table>\n",
       "<link href=\"https://www.unpkg.com/dt_for_itables@2.0.12/dt_bundle.css\" rel=\"stylesheet\">\n",
       "<script type=\"module\">\n",
       "    import {DataTable, jQuery as $} from 'https://www.unpkg.com/dt_for_itables@2.0.12/dt_bundle.js';\n",
       "\n",
       "    document.querySelectorAll(\"#itables_bc9cbead_b422_421b_ab20_437c30519458:not(.dataTable)\").forEach(table => {\n",
       "        // Define the table data\n",
       "        const data = [[\"Oppenheimer\", \"2023\", \"7\", \"13\"], [\"Poor Things\", \"2023\", \"4\", \"11\"], [\"The Zone of Interest\", \"2023\", \"2\", \"5\"], [\"American Fiction\", \"2023\", \"1\", \"5\"], [\"Anatomy of a Fall\", \"2023\", \"1\", \"5\"], [\"Barbie\", \"2023\", \"1\", \"8\"], [\"The Boy and the Heron\", \"2023\", \"1\", \"1\"], [\"Godzilla Minus One\", \"2023\", \"1\", \"1\"], [\"The Holdovers\", \"2023\", \"1\", \"5\"], [\"The Last Repair Shop\", \"2023\", \"1\", \"1\"], [\"20 Days in Mariupol\", \"2023\", \"1\", \"1\"], [\"War Is Over! Inspired by the Music of John and Yoko\", \"2023\", \"1\", \"1\"], [\"The Wonderful Story of Henry Sugar\", \"2023\", \"1\", \"1\"], [\"Everything Everywhere All at Once\", \"2022\", \"7\", \"11\"], [\"All Quiet on the Western Front\", \"2022\", \"4\", \"9\"], [\"The Whale\", \"2022\", \"2\", \"3\"], [\"Top Gun: Maverick\", \"2022\", \"1\", \"6\"], [\"Black Panther: Wakanda Forever\", \"2022\", \"1\", \"5\"], [\"Avatar: The Way of Water\", \"2022\", \"1\", \"4\"], [\"Women Talking\", \"2022\", \"1\", \"2\"], [\"Guillermo del Toro's Pinocchio\", \"2022\", \"1\", \"1\"], [\"Navalny\", \"2022\", \"1\", \"1\"], [\"The Elephant Whisperers\", \"2022\", \"1\", \"1\"], [\"An Irish Goodbye\", \"2022\", \"1\", \"1\"], [\"The Boy, the Mole, the Fox and the Horse\", \"2022\", \"1\", \"1\"], [\"RRR\", \"2022\", \"1\", \"1\"], [\"CODA\", \"2021\", \"3\", \"3\"], [\"Dune\", \"2021\", \"6\", \"10\"], [\"The Eyes of Tammy Faye\", \"2021\", \"2\", \"2\"], [\"No Time to Die\", \"2021\", \"1\", \"3\"], [\"The Windshield Wiper\", \"2021\", \"1\", \"1\"], [\"The Long Goodbye\", \"2021\", \"1\", \"1\"], [\"The Queen of Basketball\", \"2021\", \"1\", \"1\"], [\"Summer of Soul\", \"2021\", \"1\", \"1\"], [\"Drive My Car\", \"2021\", \"1\", \"4\"], [\"Encanto\", \"2021\", \"1\", \"3\"], [\"West Side Story\", \"2021\", \"1\", \"7\"], [\"Belfast\", \"2021\", \"1\", \"7\"], [\"The Power of the Dog\", \"2021\", \"1\", \"12\"], [\"King Richard\", \"2021\", \"1\", \"6\"], [\"Cruella\", \"2021\", \"1\", \"2\"], [\"Nomadland\", \"2020/21\", \"3\", \"6\"], [\"The Father\", \"2020/21\", \"2\", \"6\"], [\"Judas and the Black Messiah\", \"2020/21\", \"2\", \"6\"], [\"Minari\", \"2020/21\", \"1\", \"6\"], [\"Mank\", \"2020/21\", \"2\", \"10\"], [\"Sound of Metal\", \"2020/21\", \"2\", \"6\"], [\"Ma Rainey's Black Bottom\", \"2020/21\", \"2\", \"5\"], [\"Promising Young Woman\", \"2020/21\", \"1\", \"5\"], [\"Tenet\", \"2020/21\", \"1\", \"2\"], [\"Soul\", \"2020/21\", \"2\", \"3\"], [\"Another Round\", \"2020/21\", \"1\", \"2\"], [\"My Octopus Teacher\", \"2020/21\", \"1\", \"1\"], [\"Colette\", \"2020/21\", \"1\", \"1\"], [\"If Anything Happens I Love You\", \"2020/21\", \"1\", \"1\"], [\"Two Distant Strangers\", \"2020/21\", \"1\", \"1\"], [\"Parasite\", \"2019\", \"4\", \"6\"], [\"Ford v Ferrari\", \"2019\", \"2\", \"4\"], [\"Learning to Skateboard in a Warzone (If You're a Girl)\", \"2019\", \"1\", \"1\"], [\"The Neighbors' Window\", \"2019\", \"1\", \"1\"], [\"Little Women\", \"2019\", \"1\", \"6\"], [\"Marriage Story\", \"2019\", \"1\", \"6\"], [\"Jojo Rabbit\", \"2019\", \"1\", \"6\"], [\"Toy Story 4\", \"2019\", \"1\", \"2\"], [\"Joker\", \"2019\", \"2\", \"11\"], [\"Once Upon a Time in Hollywood\", \"2019\", \"2\", \"10\"], [\"1917\", \"2019\", \"3\", \"10\"], [\"Judy\", \"2019\", \"1\", \"2\"], [\"Bombshell\", \"2019\", \"1\", \"3\"], [\"Rocketman\", \"2019\", \"1\", \"1\"], [\"American Factory\", \"2019\", \"1\", \"1\"], [\"Hair Love\", \"2019\", \"1\", \"1\"], [\"Green Book\", \"2018\", \"3\", \"5\"], [\"Bohemian Rhapsody\", \"2018\", \"4\", \"5\"], [\"Roma\", \"2018\", \"3\", \"10\"], [\"Black Panther\", \"2018\", \"3\", \"7\"], [\"The Favourite\", \"2018\", \"1\", \"10\"], [\"A Star Is Born\", \"2018\", \"1\", \"8\"], [\"Vice\", \"2018\", \"1\", \"8\"], [\"BlacKkKlansman\", \"2018\", \"1\", \"6\"], [\"First Man\", \"2018\", \"1\", \"4\"], [\"If Beale Street Could Talk\", \"2018\", \"1\", \"3\"], [\"Bao\", \"2018\", \"1\", \"1\"], [\"Free Solo\", \"2018\", \"1\", \"1\"], [\"Period. End of Sentence.\", \"2018\", \"1\", \"1\"], [\"Skin\", \"2018\", \"1\", \"1\"], [\"Spider-Man: Into the Spider-Verse\", \"2018\", \"1\", \"1\"], [\"The Shape of Water\", \"2017\", \"4\", \"13\"], [\"Dunkirk\", \"2017\", \"3\", \"8\"], [\"Three Billboards Outside Ebbing, Missouri\", \"2017\", \"2\", \"7\"], [\"Darkest Hour\", \"2017\", \"2\", \"6\"], [\"Blade Runner 2049\", \"2017\", \"2\", \"5\"], [\"Coco\", \"2017\", \"2\", \"2\"], [\"Phantom Thread\", \"2017\", \"1\", \"6\"], [\"Call Me by Your Name\", \"2017\", \"1\", \"4\"], [\"Get Out\", \"2017\", \"1\", \"4\"], [\"I, Tonya\", \"2017\", \"1\", \"3\"], [\"Dear Basketball\", \"2017\", \"1\", \"1\"], [\"A Fantastic Woman\", \"2017\", \"1\", \"1\"], [\"Heaven Is a Traffic Jam on the 405\", \"2017\", \"1\", \"1\"], [\"Icarus\", \"2017\", \"1\", \"1\"], [\"The Silent Child\", \"2017\", \"1\", \"1\"], [\"Flesh and Sand (Carne y arena)\", \"2017\", \"0 (1)[1]\", \"0\"], [\"Moonlight\", \"2016\", \"3\", \"8\"], [\"La La Land\", \"2016\", \"6\", \"14\"], [\"Hacksaw Ridge\", \"2016\", \"2\", \"6\"], [\"Manchester by the Sea\", \"2016\", \"2\", \"6\"], [\"Arrival\", \"2016\", \"1\", \"8\"], [\"Fences\", \"2016\", \"1\", \"4\"], [\"Fantastic Beasts and Where to Find Them\", \"2016\", \"1\", \"2\"], [\"The Jungle Book\", \"2016\", \"1\", \"1\"], [\"O.J.: Made in America\", \"2016\", \"1\", \"1\"], [\"Piper\", \"2016\", \"1\", \"1\"], [\"The Salesman\", \"2016\", \"1\", \"1\"], [\"Sing\", \"2016\", \"1\", \"1\"], [\"Suicide Squad\", \"2016\", \"1\", \"1\"], [\"The White Helmets\", \"2016\", \"1\", \"1\"], [\"Zootopia\", \"2016\", \"1\", \"1\"], [\"Spotlight\", \"2015\", \"2\", \"6\"], [\"Mad Max: Fury Road\", \"2015\", \"6\", \"10\"], [\"The Revenant\", \"2015\", \"3\", \"12\"], [\"Bridge of Spies\", \"2015\", \"1\", \"6\"], [\"The Big Short\", \"2015\", \"1\", \"5\"], [\"The Danish Girl\", \"2015\", \"1\", \"4\"], [\"Room\", \"2015\", \"1\", \"4\"], [\"The Hateful Eight\", \"2015\", \"1\", \"3\"], [\"Ex Machina\", \"2015\", \"1\", \"2\"], [\"Inside Out\", \"2015\", \"1\", \"2\"], [\"Amy\", \"2015\", \"1\", \"1\"], [\"Bear Story\", \"2015\", \"1\", \"1\"], [\"A Girl in the River: The Price of Forgiveness\", \"2015\", \"1\", \"1\"], [\"Son of Saul\", \"2015\", \"1\", \"1\"], [\"Spectre\", \"2015\", \"1\", \"1\"], [\"Stutterer\", \"2015\", \"1\", \"1\"], [\"Birdman or (The Unexpected Virtue of Ignorance)\", \"2014\", \"4\", \"9\"], [\"The Grand Budapest Hotel\", \"2014\", \"4\", \"9\"], [\"Whiplash\", \"2014\", \"3\", \"5\"], [\"The Imitation Game\", \"2014\", \"1\", \"8\"], [\"American Sniper\", \"2014\", \"1\", \"6\"], [\"Boyhood\", \"2014\", \"1\", \"6\"], [\"Interstellar\", \"2014\", \"1\", \"5\"], [\"The Theory of Everything\", \"2014\", \"1\", \"5\"], [\"Ida\", \"2014\", \"1\", \"2\"], [\"Selma\", \"2014\", \"1\", \"2\"], [\"Citizenfour\", \"2014\", \"1\", \"1\"], [\"Big Hero 6\", \"2014\", \"1\", \"1\"], [\"Crisis Hotline: Veterans Press 1\", \"2014\", \"1\", \"1\"], [\"The Phone Call\", \"2014\", \"1\", \"1\"], [\"Still Alice\", \"2014\", \"1\", \"1\"], [\"Feast\", \"2014\", \"1\", \"1\"], [\"12 Years a Slave\", \"2013\", \"3\", \"9\"], [\"Gravity\", \"2013\", \"7\", \"10\"], [\"Dallas Buyers Club\", \"2013\", \"3\", \"6\"], [\"Frozen\", \"2013\", \"2\", \"2\"], [\"The Great Gatsby\", \"2013\", \"2\", \"2\"], [\"Her\", \"2013\", \"1\", \"5\"], [\"Blue Jasmine\", \"2013\", \"1\", \"3\"], [\"Mr Hublot\", \"2013\", \"1\", \"1\"], [\"The Lady in Number 6\", \"2013\", \"1\", \"1\"], [\"Helium\", \"2013\", \"1\", \"1\"], [\"The Great Beauty\", \"2013\", \"1\", \"1\"], [\"20 Feet from Stardom\", \"2013\", \"1\", \"1\"], [\"Argo\", \"2012\", \"3\", \"7\"], [\"Life of Pi\", \"2012\", \"4\", \"11\"], [\"Les Mis\\u00e9rables\", \"2012\", \"3\", \"8\"], [\"Lincoln\", \"2012\", \"2\", \"12\"], [\"Django Unchained\", \"2012\", \"2\", \"5\"], [\"Skyfall\", \"2012\", \"2\", \"5\"], [\"Silver Linings Playbook\", \"2012\", \"1\", \"8\"], [\"Zero Dark Thirty\", \"2012\", \"1\", \"5\"], [\"Amour\", \"2012\", \"1\", \"5\"], [\"Anna Karenina\", \"2012\", \"1\", \"4\"], [\"Paperman\", \"2012\", \"1\", \"1\"], [\"Brave\", \"2012\", \"1\", \"1\"], [\"Searching for Sugar Man\", \"2012\", \"1\", \"1\"], [\"Inocente\", \"2012\", \"1\", \"1\"], [\"Curfew\", \"2012\", \"1\", \"1\"], [\"The Artist\", \"2011\", \"5\", \"10\"], [\"Hugo\", \"2011\", \"5\", \"11\"], [\"The Iron Lady\", \"2011\", \"2\", \"2\"], [\"The Descendants\", \"2011\", \"1\", \"5\"], [\"The Girl with the Dragon Tattoo\", \"2011\", \"1\", \"5\"], [\"Midnight in Paris\", \"2011\", \"1\", \"4\"], [\"The Help\", \"2011\", \"1\", \"4\"], [\"A Separation\", \"2011\", \"1\", \"2\"], [\"The Fantastic Flying Books of Mr. Morris Lessmore\", \"2011\", \"1\", \"1\"], [\"The Shore\", \"2011\", \"1\", \"1\"], [\"Undefeated\", \"2011\", \"1\", \"1\"], [\"The Muppets\", \"2011\", \"1\", \"1\"], [\"Saving Face\", \"2011\", \"1\", \"1\"], [\"Beginners\", \"2011\", \"1\", \"1\"], [\"Rango\", \"2011\", \"1\", \"1\"], [\"The King's Speech\", \"2010\", \"4\", \"12\"], [\"Inception\", \"2010\", \"4\", \"8\"], [\"The Social Network\", \"2010\", \"3\", \"8\"], [\"The Fighter\", \"2010\", \"2\", \"7\"], [\"Toy Story 3\", \"2010\", \"2\", \"5\"], [\"Alice in Wonderland\", \"2010\", \"2\", \"3\"], [\"Black Swan\", \"2010\", \"1\", \"5\"], [\"In a Better World\", \"2010\", \"1\", \"1\"], [\"The Lost Thing\", \"2010\", \"1\", \"1\"], [\"God of Love\", \"2010\", \"1\", \"1\"], [\"The Wolfman\", \"2010\", \"1\", \"1\"], [\"Strangers No More\", \"2010\", \"1\", \"1\"], [\"Inside Job\", \"2010\", \"1\", \"1\"], [\"The Hurt Locker\", \"2009\", \"6\", \"9\"], [\"Avatar\", \"2009\", \"3\", \"9\"], [\"Precious\", \"2009\", \"2\", \"6\"], [\"Up\", \"2009\", \"2\", \"5\"], [\"Crazy Heart\", \"2009\", \"2\", \"3\"], [\"Inglourious Basterds\", \"2009\", \"1\", \"8\"], [\"Star Trek\", \"2009\", \"1\", \"4\"], [\"The Young Victoria\", \"2009\", \"1\", \"3\"], [\"The Blind Side\", \"2009\", \"1\", \"2\"], [\"Music by Prudence\", \"2009\", \"1\", \"1\"], [\"The Secret in Their Eyes\", \"2009\", \"1\", \"1\"], [\"The Cove\", \"2009\", \"1\", \"1\"], [\"The New Tenants\", \"2009\", \"1\", \"1\"], [\"Logorama\", \"2009\", \"1\", \"1\"], [\"Slumdog Millionaire\", \"2008\", \"8\", \"10\"], [\"The Curious Case of Benjamin Button\", \"2008\", \"3\", \"13\"], [\"Milk\", \"2008\", \"2\", \"8\"], [\"The Dark Knight\", \"2008\", \"2\", \"8\"], [\"WALL-E\", \"2008\", \"1\", \"6\"], [\"The Reader\", \"2008\", \"1\", \"5\"], [\"The Duchess\", \"2008\", \"1\", \"2\"], [\"Departures\", \"2008\", \"1\", \"1\"], [\"Vicky Cristina Barcelona\", \"2008\", \"1\", \"1\"], [\"Smile Pinki\", \"2008\", \"1\", \"1\"], [\"Man on Wire\", \"2008\", \"1\", \"1\"], [\"Toyland\", \"2008\", \"1\", \"1\"], [\"La Maison en Petits Cubes\", \"2008\", \"1\", \"1\"], [\"No Country for Old Men\", \"2007\", \"4\", \"8\"], [\"The Bourne Ultimatum\", \"2007\", \"3\", \"3\"], [\"There Will Be Blood\", \"2007\", \"2\", \"8\"], [\"La Vie en rose\", \"2007\", \"2\", \"3\"], [\"Atonement\", \"2007\", \"1\", \"7\"], [\"Michael Clayton\", \"2007\", \"1\", \"7\"], [\"Ratatouille\", \"2007\", \"1\", \"5\"], [\"Juno\", \"2007\", \"1\", \"4\"], [\"Sweeney Todd: The Demon Barber of Fleet Street\", \"2007\", \"1\", \"3\"], [\"The Golden Compass\", \"2007\", \"1\", \"2\"], [\"Elizabeth: The Golden Age\", \"2007\", \"1\", \"2\"], [\"Taxi to the Dark Side\", \"2007\", \"1\", \"1\"], [\"Peter & the Wolf\", \"2007\", \"1\", \"1\"], [\"Once\", \"2007\", \"1\", \"1\"], [\"Le Mozart des pickpockets\", \"2007\", \"1\", \"1\"], [\"The Counterfeiters (Die F\\u00e4lscher)\", \"2007\", \"1\", \"1\"], [\"Freeheld\", \"2007\", \"1\", \"1\"], [\"The Departed\", \"2006\", \"4\", \"5\"], [\"Pan's Labyrinth (El laberinto del fauno)\", \"2006\", \"3\", \"6\"], [\"Dreamgirls\", \"2006\", \"2\", \"8\"], [\"Little Miss Sunshine\", \"2006\", \"2\", \"4\"], [\"An Inconvenient Truth\", \"2006\", \"2\", \"2\"], [\"Babel\", \"2006\", \"1\", \"7\"], [\"The Queen\", \"2006\", \"1\", \"6\"], [\"Letters from Iwo Jima\", \"2006\", \"1\", \"4\"], [\"Pirates of the Caribbean: Dead Man's Chest\", \"2006\", \"1\", \"4\"], [\"The Danish Poet\", \"2006\", \"1\", \"1\"], [\"Happy Feet\", \"2006\", \"1\", \"1\"], [\"The Last King of Scotland\", \"2006\", \"1\", \"1\"], [\"The Lives of Others (Das Leben der Anderen)\", \"2006\", \"1\", \"1\"], [\"Marie Antoinette\", \"2006\", \"1\", \"1\"], [\"West Bank Story\", \"2006\", \"1\", \"1\"], [\"The Blood of Yingzhou District\", \"2006\", \"1\", \"1\"], [\"Crash\", \"2005\", \"3\", \"6\"], [\"Brokeback Mountain\", \"2005\", \"3\", \"8\"], [\"Memoirs of a Geisha\", \"2005\", \"3\", \"6\"], [\"King Kong\", \"2005\", \"3\", \"4\"], [\"Capote\", \"2005\", \"1\", \"5\"], [\"Walk the Line\", \"2005\", \"1\", \"5\"], [\"The Constant Gardener\", \"2005\", \"1\", \"4\"], [\"The Chronicles of Narnia: The Lion, the Witch and the Wardrobe\", \"2005\", \"1\", \"3\"], [\"Hustle & Flow\", \"2005\", \"1\", \"2\"], [\"Syriana\", \"2005\", \"1\", \"2\"], [\"March of the Penguins (La Marche de l'empereur)\", \"2005\", \"1\", \"1\"], [\"Six Shooter\", \"2005\", \"1\", \"1\"], [\"The Moon and the Son: An Imagined Conversation\", \"2005\", \"1\", \"1\"], [\"A Note of Triumph: The Golden Age of Norman Corwin\", \"2005\", \"1\", \"1\"], [\"Tsotsi\", \"2005\", \"1\", \"1\"], [\"Wallace & Gromit: The Curse of the Were-Rabbit\", \"2005\", \"1\", \"1\"], [\"Million Dollar Baby\", \"2004\", \"4\", \"7\"], [\"The Aviator\", \"2004\", \"5\", \"11\"], [\"Ray\", \"2004\", \"2\", \"6\"], [\"The Incredibles\", \"2004\", \"2\", \"4\"], [\"Finding Neverland\", \"2004\", \"1\", \"7\"], [\"Sideways\", \"2004\", \"1\", \"5\"], [\"Lemony Snicket's A Series of Unfortunate Events\", \"2004\", \"1\", \"4\"], [\"Spider-Man 2\", \"2004\", \"1\", \"3\"], [\"Eternal Sunshine of the Spotless Mind\", \"2004\", \"1\", \"2\"], [\"The Motorcycle Diaries\", \"2004\", \"1\", \"2\"], [\"The Sea Inside\", \"2004\", \"1\", \"2\"], [\"Born into Brothels\", \"2004\", \"1\", \"1\"], [\"Mighty Times: The Children's March\", \"2004\", \"1\", \"1\"], [\"Wasp\", \"2004\", \"1\", \"1\"], [\"Ryan\", \"2004\", \"1\", \"1\"], [\"The Lord of the Rings: The Return of the King\", \"2003\", \"11\", \"11\"], [\"Master and Commander: The Far Side of the World\", \"2003\", \"2\", \"10\"], [\"Mystic River\", \"2003\", \"2\", \"6\"], [\"Cold Mountain\", \"2003\", \"1\", \"7\"], [\"Lost in Translation\", \"2003\", \"1\", \"4\"], [\"Finding Nemo\", \"2003\", \"1\", \"4\"], [\"The Barbarian Invasions\", \"2003\", \"1\", \"2\"], [\"Two Soldiers\", \"2003\", \"1\", \"1\"], [\"Monster\", \"2003\", \"1\", \"1\"], [\"Harvie Krumpet\", \"2003\", \"1\", \"1\"], [\"Chernobyl Heart\", \"2003\", \"1\", \"1\"], [\"The Fog of War\", \"2003\", \"1\", \"1\"], [\"Chicago\", \"2002\", \"6\", \"13\"], [\"The Pianist\", \"2002\", \"3\", \"7\"], [\"The Lord of the Rings: The Two Towers\", \"2002\", \"2\", \"6\"], [\"Frida\", \"2002\", \"2\", \"6\"], [\"The Hours\", \"2002\", \"1\", \"9\"], [\"Road to Perdition\", \"2002\", \"1\", \"6\"], [\"Adaptation\", \"2002\", \"1\", \"4\"], [\"Talk to Her (Hable con ella)\", \"2002\", \"1\", \"2\"], [\"This Charming Man (Der Er En Yndig Mand)\", \"2002\", \"1\", \"1\"], [\"Spirited Away\", \"2002\", \"1\", \"1\"], [\"Nowhere in Africa (Nirgendwo in Afrika)\", \"2002\", \"1\", \"1\"], [\"The ChubbChubbs!\", \"2002\", \"1\", \"1\"], [\"Twin Towers\", \"2002\", \"1\", \"1\"], [\"Bowling for Columbine\", \"2002\", \"1\", \"1\"], [\"8 Mile\", \"2002\", \"1\", \"1\"], [\"A Beautiful Mind\", \"2001\", \"4\", \"8\"], [\"The Lord of the Rings: The Fellowship of the Ring\", \"2001\", \"4\", \"13\"], [\"Moulin Rouge!\", \"2001\", \"2\", \"8\"], [\"Black Hawk Down\", \"2001\", \"2\", \"4\"], [\"Gosford Park\", \"2001\", \"1\", \"7\"], [\"Monsters, Inc.\", \"2001\", \"1\", \"4\"], [\"Pearl Harbor\", \"2001\", \"1\", \"4\"], [\"Iris\", \"2001\", \"1\", \"3\"], [\"Shrek\", \"2001\", \"1\", \"2\"], [\"Training Day\", \"2001\", \"1\", \"2\"], [\"Monster's Ball\", \"2001\", \"1\", \"2\"], [\"Thoth\", \"2001\", \"1\", \"1\"], [\"For the Birds\", \"2001\", \"1\", \"1\"], [\"No Man's Land\", \"2001\", \"1\", \"1\"], [\"Murder on a Sunday Morning (Un coupable id\\u00e9al)\", \"2001\", \"1\", \"1\"], [\"The Accountant\", \"2001\", \"1\", \"1\"], [\"Gladiator\", \"2000\", \"5\", \"12\"], [\"Crouching Tiger, Hidden Dragon\", \"2000\", \"4\", \"10\"], [\"Traffic\", \"2000\", \"4\", \"5\"], [\"Erin Brockovich\", \"2000\", \"1\", \"5\"], [\"Almost Famous\", \"2000\", \"1\", \"4\"], [\"Wonder Boys\", \"2000\", \"1\", \"3\"], [\"How the Grinch Stole Christmas\", \"2000\", \"1\", \"3\"], [\"U-571\", \"2000\", \"1\", \"2\"], [\"Pollock\", \"2000\", \"1\", \"2\"], [\"Father and Daughter\", \"2000\", \"1\", \"1\"], [\"Into the Arms of Strangers: Stories of the Kindertransport\", \"2000\", \"1\", \"1\"], [\"Quiero ser (I want to be...)\", \"2000\", \"1\", \"1\"], [\"Big Mama\", \"2000\", \"1\", \"1\"], [\"American Beauty\", \"1999\", \"5\", \"8\"], [\"The Matrix\", \"1999\", \"4\", \"4\"], [\"The Cider House Rules\", \"1999\", \"2\", \"7\"], [\"Topsy-Turvy\", \"1999\", \"2\", \"4\"], [\"Sleepy Hollow\", \"1999\", \"1\", \"3\"], [\"Boys Don't Cry\", \"1999\", \"1\", \"2\"], [\"Tarzan\", \"1999\", \"1\", \"1\"], [\"One Day in September\", \"1999\", \"1\", \"1\"], [\"The Red Violin (Le violon rouge)\", \"1999\", \"1\", \"1\"], [\"The Old Man and the Sea\", \"1999\", \"1\", \"1\"], [\"My Mother Dreams the Satan's Disciples in New York\", \"1999\", \"1\", \"1\"], [\"King Gimp\", \"1999\", \"1\", \"1\"], [\"Girl, Interrupted\", \"1999\", \"1\", \"1\"], [\"All About My Mother (Todo sobre mi madre)\", \"1999\", \"1\", \"1\"], [\"Shakespeare in Love\", \"1998\", \"7\", \"13\"], [\"Saving Private Ryan\", \"1998\", \"5\", \"11\"], [\"Life Is Beautiful (La vita \\u00e8 bella)\", \"1998\", \"3\", \"7\"], [\"Elizabeth\", \"1998\", \"1\", \"7\"], [\"Gods and Monsters\", \"1998\", \"1\", \"3\"], [\"The Prince of Egypt\", \"1998\", \"1\", \"2\"], [\"Affliction\", \"1998\", \"1\", \"2\"], [\"What Dreams May Come\", \"1998\", \"1\", \"2\"], [\"The Personals\", \"1998\", \"1\", \"1\"], [\"The Last Days\", \"1998\", \"1\", \"1\"], [\"Election Night (Valgaften)\", \"1998\", \"1\", \"1\"], [\"Bunny\", \"1998\", \"1\", \"1\"], [\"Titanic\", \"1997\", \"11\", \"14\"], [\"Good Will Hunting\", \"1997\", \"2\", \"9\"], [\"L.A. Confidential\", \"1997\", \"2\", \"9\"], [\"As Good as It Gets\", \"1997\", \"2\", \"7\"], [\"The Full Monty\", \"1997\", \"1\", \"4\"], [\"Men in Black\", \"1997\", \"1\", \"3\"], [\"Visas and Virtue\", \"1997\", \"1\", \"1\"], [\"Character (Karakter)\", \"1997\", \"1\", \"1\"], [\"Geri's Game\", \"1997\", \"1\", \"1\"], [\"A Story of Healing\", \"1997\", \"1\", \"1\"], [\"The Long Way Home\", \"1997\", \"1\", \"1\"], [\"The English Patient\", \"1996\", \"9\", \"12\"], [\"Fargo\", \"1996\", \"2\", \"7\"], [\"Shine\", \"1996\", \"1\", \"7\"], [\"Evita\", \"1996\", \"1\", \"5\"], [\"Jerry Maguire\", \"1996\", \"1\", \"5\"], [\"Independence Day\", \"1996\", \"1\", \"2\"], [\"Emma\", \"1996\", \"1\", \"2\"], [\"Sling Blade\", \"1996\", \"1\", \"2\"], [\"The Ghost and the Darkness\", \"1996\", \"1\", \"1\"], [\"Kolya\", \"1996\", \"1\", \"1\"], [\"The Nutty Professor\", \"1996\", \"1\", \"1\"], [\"Quest\", \"1996\", \"1\", \"1\"], [\"When We Were Kings\", \"1996\", \"1\", \"1\"], [\"Breathing Lessons: The Life and Work of Mark O'Brien\", \"1996\", \"1\", \"1\"], [\"Dear Diary\", \"1996\", \"1\", \"1\"], [\"Braveheart\", \"1995\", \"5\", \"10\"], [\"Apollo 13\", \"1995\", \"2\", \"9\"], [\"Pocahontas\", \"1995\", \"2\", \"2\"], [\"The Usual Suspects\", \"1995\", \"2\", \"2\"], [\"Restoration\", \"1995\", \"2\", \"2\"], [\"Babe\", \"1995\", \"1\", \"7\"], [\"Sense and Sensibility\", \"1995\", \"1\", \"7\"], [\"Il Postino: The Postman\", \"1995\", \"1\", \"5\"], [\"Dead Man Walking\", \"1995\", \"1\", \"4\"], [\"Leaving Las Vegas\", \"1995\", \"1\", \"4\"], [\"Mighty Aphrodite\", \"1995\", \"1\", \"2\"], [\"Anne Frank Remembered\", \"1995\", \"1\", \"1\"], [\"A Close Shave\", \"1995\", \"1\", \"1\"], [\"Lieberman in Love\", \"1995\", \"1\", \"1\"], [\"One Survivor Remembers\", \"1995\", \"1\", \"1\"], [\"Antonia's Line (Antonia)\", \"1995\", \"1\", \"1\"], [\"Toy Story\", \"1995\", \"0 (1)\", \"3\"], [\"Forrest Gump\", \"1994\", \"6\", \"13\"], [\"The Lion King\", \"1994\", \"2\", \"4\"], [\"Speed\", \"1994\", \"2\", \"3\"], [\"Ed Wood\", \"1994\", \"2\", \"2\"], [\"Pulp Fiction\", \"1994\", \"1\", \"7\"], [\"Bullets Over Broadway\", \"1994\", \"1\", \"7\"], [\"The Madness of King George\", \"1994\", \"1\", \"4\"], [\"Legends of the Fall\", \"1994\", \"1\", \"3\"], [\"A Time for Justice\", \"1994\", \"1\", \"1\"], [\"Franz Kafka's It's a Wonderful Life\", \"1994\", \"1\", \"1\"], [\"Maya Lin: A Strong Clear Vision\", \"1994\", \"1\", \"1\"], [\"Burnt by the Sun (Utomlyonnye solntsem)\", \"1994\", \"1\", \"1\"], [\"Trevor\", \"1994\", \"1\", \"1\"], [\"The Adventures of Priscilla, Queen of the Desert\", \"1994\", \"1\", \"1\"], [\"Bob's Birthday\", \"1994\", \"1\", \"1\"], [\"Blue Sky\", \"1994\", \"1\", \"1\"], [\"Schindler's List\", \"1993\", \"7\", \"12\"], [\"The Piano\", \"1993\", \"3\", \"8\"], [\"Jurassic Park\", \"1993\", \"3\", \"3\"], [\"Philadelphia\", \"1993\", \"2\", \"5\"], [\"The Fugitive\", \"1993\", \"1\", \"7\"], [\"The Age of Innocence\", \"1993\", \"1\", \"5\"], [\"The Wrong Trousers\", \"1993\", \"1\", \"1\"], [\"Belle Epoque (The Beautiful Era)\", \"1993\", \"1\", \"1\"], [\"I Am a Promise: The Children of Stanton Elementary School\", \"1993\", \"1\", \"1\"], [\"Mrs. Doubtfire\", \"1993\", \"1\", \"1\"], [\"Black Rider (Schwarzfahrer)\", \"1993\", \"1\", \"1\"], [\"Defending Our Lives\", \"1993\", \"1\", \"1\"], [\"Unforgiven\", \"1992\", \"4\", \"9\"], [\"Howards End\", \"1992\", \"3\", \"9\"], [\"Bram Stoker's Dracula\", \"1992\", \"3\", \"4\"], [\"Aladdin\", \"1992\", \"2\", \"5\"], [\"The Crying Game\", \"1992\", \"1\", \"6\"], [\"Scent of a Woman\", \"1992\", \"1\", \"4\"], [\"A River Runs Through It\", \"1992\", \"1\", \"3\"], [\"Indochine\", \"1992\", \"1\", \"2\"], [\"My Cousin Vinny\", \"1992\", \"1\", \"1\"], [\"The Panama Deception\", \"1992\", \"1\", \"1\"], [\"Educating Peter\", \"1992\", \"1\", \"1\"], [\"The Last of the Mohicans\", \"1992\", \"1\", \"1\"], [\"Death Becomes Her\", \"1992\", \"1\", \"1\"], [\"Omnibus\", \"1992\", \"1\", \"1\"], [\"Mona Lisa Descending a Staircase\", \"1992\", \"1\", \"1\"], [\"The Silence of the Lambs\", \"1991\", \"5\", \"7\"], [\"Terminator 2: Judgment Day\", \"1991\", \"4\", \"6\"], [\"Bugsy\", \"1991\", \"2\", \"10\"], [\"JFK\", \"1991\", \"2\", \"8\"], [\"Beauty and the Beast\", \"1991\", \"2\", \"6\"], [\"Thelma & Louise\", \"1991\", \"1\", \"6\"], [\"The Fisher King\", \"1991\", \"1\", \"5\"], [\"In the Shadow of the Stars\", \"1991\", \"1\", \"1\"], [\"Manipulation\", \"1991\", \"1\", \"1\"], [\"Mediterraneo\", \"1991\", \"1\", \"1\"], [\"Session Man\", \"1991\", \"1\", \"1\"], [\"City Slickers\", \"1991\", \"1\", \"1\"], [\"Deadly Deception: General Electric, Nuclear Weapons and Our Environment\", \"1991\", \"1\", \"1\"], [\"Dances with Wolves\", \"1990\", \"7\", \"12\"], [\"Dick Tracy\", \"1990\", \"3\", \"7\"], [\"Ghost\", \"1990\", \"2\", \"5\"], [\"Goodfellas\", \"1990\", \"1\", \"6\"], [\"The Hunt for Red October\", \"1990\", \"1\", \"3\"], [\"Reversal of Fortune\", \"1990\", \"1\", \"3\"], [\"Cyrano de Bergerac\", \"1990\", \"1\", \"5\"], [\"American Dream\", \"1990\", \"1\", \"1\"], [\"Journey of Hope (Reise der Hoffnung)\", \"1990\", \"1\", \"1\"], [\"Days of Waiting\", \"1990\", \"1\", \"1\"], [\"Creature Comforts\", \"1990\", \"1\", \"1\"], [\"The Lunch Date\", \"1990\", \"1\", \"1\"], [\"Misery\", \"1990\", \"1\", \"1\"], [\"Total Recall\", \"1990\", \"0 (1)\", \"2\"], [\"Driving Miss Daisy\", \"1989\", \"4\", \"9\"], [\"Glory\", \"1989\", \"3\", \"5\"], [\"Born on the Fourth of July\", \"1989\", \"2\", \"8\"], [\"My Left Foot\", \"1989\", \"2\", \"5\"], [\"The Little Mermaid\", \"1989\", \"2\", \"3\"], [\"Dead Poets Society\", \"1989\", \"1\", \"4\"], [\"The Abyss\", \"1989\", \"1\", \"4\"], [\"Indiana Jones and the Last Crusade\", \"1989\", \"1\", \"3\"], [\"Henry V\", \"1989\", \"1\", \"3\"], [\"The Johnstown Flood\", \"1989\", \"1\", \"1\"], [\"Common Threads: Stories from the Quilt\", \"1989\", \"1\", \"1\"], [\"Cinema Paradiso\", \"1989\", \"1\", \"1\"], [\"Work Experience\", \"1989\", \"1\", \"1\"], [\"Batman\", \"1989\", \"1\", \"1\"], [\"Balance\", \"1989\", \"1\", \"1\"], [\"Rain Man\", \"1988\", \"4\", \"8\"], [\"Dangerous Liaisons\", \"1988\", \"3\", \"7\"], [\"Who Framed Roger Rabbit\", \"1988\", \"3 (1)\", \"6\"], [\"Mississippi Burning\", \"1988\", \"1\", \"7\"], [\"Working Girl\", \"1988\", \"1\", \"6\"], [\"The Accidental Tourist\", \"1988\", \"1\", \"4\"], [\"A Fish Called Wanda\", \"1988\", \"1\", \"3\"], [\"Pelle the Conqueror (Pelle erobreren)\", \"1988\", \"1\", \"2\"], [\"The Accused\", \"1988\", \"1\", \"1\"], [\"The Appointments of Dennis Jennings\", \"1988\", \"1\", \"1\"], [\"Beetlejuice\", \"1988\", \"1\", \"1\"], [\"Bird\", \"1988\", \"1\", \"1\"], [\"H\\u00f4tel Terminus: The Life and Times of Klaus Barbie\", \"1988\", \"1\", \"1\"], [\"The Milagro Beanfield War\", \"1988\", \"1\", \"1\"], [\"Tin Toy\", \"1988\", \"1\", \"1\"], [\"You Don't Have to Die\", \"1988\", \"1\", \"1\"], [\"The Last Emperor\", \"1987\", \"9\", \"9\"], [\"Moonstruck\", \"1987\", \"3\", \"6\"], [\"The Untouchables\", \"1987\", \"1\", \"4\"], [\"Babette's Feast (Babettes g\\u00e6stebud)\", \"1987\", \"1\", \"1\"], [\"Dirty Dancing\", \"1987\", \"1\", \"1\"], [\"Harry and the Hendersons\", \"1987\", \"1\", \"1\"], [\"Innerspace\", \"1987\", \"1\", \"1\"], [\"The Man Who Planted Trees (L' Homme qui plantait des arbres)\", \"1987\", \"1\", \"1\"], [\"Ray's Male Heterosexual Dance Hall\", \"1987\", \"1\", \"1\"], [\"The Ten-Year Lunch\", \"1987\", \"1\", \"1\"], [\"Wall Street\", \"1987\", \"1\", \"1\"], [\"Young at Heart\", \"1987\", \"1\", \"1\"], [\"RoboCop\", \"1987\", \"0 (1)\", \"2\"], [\"Platoon\", \"1986\", \"4\", \"8\"], [\"A Room with a View\", \"1986\", \"3\", \"8\"], [\"Hannah and Her Sisters\", \"1986\", \"3\", \"7\"], [\"Aliens\", \"1986\", \"2\", \"7\"], [\"The Mission\", \"1986\", \"1\", \"7\"], [\"Children of a Lesser God\", \"1986\", \"1\", \"5\"], [\"The Color of Money\", \"1986\", \"1\", \"4\"], [\"Top Gun\", \"1986\", \"1\", \"4\"], [\"Round Midnight\", \"1986\", \"1\", \"2\"], [\"Artie Shaw: Time Is All You've Got\", \"1986\", \"1\", \"1\"], [\"The Assault (De Aanslag)\", \"1986\", \"1\", \"1\"], [\"Down and Out in America\", \"1986\", \"1\", \"1\"], [\"The Fly\", \"1986\", \"1\", \"1\"], [\"A Greek Tragedy\", \"1986\", \"1\", \"1\"], [\"Precious Images\", \"1986\", \"1\", \"1\"], [\"Women \\u2013 for America, for the World\", \"1986\", \"1\", \"1\"], [\"Out of Africa\", \"1985\", \"7\", \"11\"], [\"Witness\", \"1985\", \"2\", \"8\"], [\"Cocoon\", \"1985\", \"2\", \"2\"], [\"Prizzi's Honor\", \"1985\", \"1\", \"8\"], [\"Back to the Future\", \"1985\", \"1\", \"4\"], [\"Kiss of the Spider Woman\", \"1985\", \"1\", \"4\"], [\"Ran\", \"1985\", \"1\", \"4\"], [\"The Official Story (La Historia Oficial)\", \"1985\", \"1\", \"2\"], [\"The Trip to Bountiful\", \"1985\", \"1\", \"2\"], [\"White Nights\", \"1985\", \"1\", \"2\"], [\"Anna & Bella\", \"1985\", \"1\", \"1\"], [\"Broken Rainbow\", \"1985\", \"1\", \"1\"], [\"Mask\", \"1985\", \"1\", \"1\"], [\"Molly's Pilgrim\", \"1985\", \"1\", \"1\"], [\"Witness to War: Dr. Charlie Clements\", \"1985\", \"1\", \"1\"], [\"Amadeus\", \"1984\", \"8\", \"11\"], [\"The Killing Fields\", \"1984\", \"3\", \"7\"], [\"A Passage to India\", \"1984\", \"2\", \"11\"], [\"Places in the Heart\", \"1984\", \"2\", \"7\"], [\"Indiana Jones and the Temple of Doom\", \"1984\", \"1\", \"2\"], [\"Charade\", \"1984\", \"1\", \"1\"], [\"Dangerous Moves (La Diagonale du fou)\", \"1984\", \"1\", \"1\"], [\"Purple Rain\", \"1984\", \"1\", \"1\"], [\"The Stone Carvers\", \"1984\", \"1\", \"1\"], [\"The Times of Harvey Milk\", \"1984\", \"1\", \"1\"], [\"Up\", \"1984\", \"1\", \"1\"], [\"The Woman in Red\", \"1984\", \"1\", \"1\"], [\"The River\", \"1984\", \"0 (1)\", \"4\"], [\"Terms of Endearment\", \"1983\", \"5\", \"11\"], [\"The Right Stuff\", \"1983\", \"4\", \"8\"], [\"Fanny & Alexander (Fanny och Alexander)\", \"1983\", \"4\", \"6\"], [\"Tender Mercies\", \"1983\", \"2\", \"5\"], [\"Yentl\", \"1983\", \"1\", \"5\"], [\"Flashdance\", \"1983\", \"1\", \"4\"], [\"Boys and Girls\", \"1983\", \"1\", \"1\"], [\"Flamenco at 5:15\", \"1983\", \"1\", \"1\"], [\"He Makes Me Feel Like Dancin'\", \"1983\", \"1\", \"1\"], [\"Sundae in New York\", \"1983\", \"1\", \"1\"], [\"The Year of Living Dangerously\", \"1983\", \"1\", \"1\"], [\"Return of the Jedi\", \"1983\", \"0 (1)\", \"4\"], [\"Gandhi\", \"1982\", \"8\", \"11\"], [\"E.T.: The Extra-Terrestrial\", \"1982\", \"4\", \"9\"], [\"An Officer and a Gentleman\", \"1982\", \"2\", \"6\"], [\"Tootsie\", \"1982\", \"1\", \"10\"], [\"Victor/Victoria\", \"1982\", \"1\", \"7\"], [\"Sophie's Choice\", \"1982\", \"1\", \"5\"], [\"Missing\", \"1982\", \"1\", \"4\"], [\"If You Love This Planet\", \"1982\", \"1\", \"1\"], [\"Just Another Missing Kid\", \"1982\", \"1\", \"1[2]\"], [\"A Shocking Accident\", \"1982\", \"1\", \"1\"], [\"Tango\", \"1982\", \"1\", \"1\"], [\"To Begin Again (Volver a empezar)\", \"1982\", \"1\", \"1\"], [\"Quest for Fire\", \"1982\", \"1\", \"1\"], [\"Chariots of Fire\", \"1981\", \"4\", \"7\"], [\"Raiders of the Lost Ark\", \"1981\", \"4 (1)\", \"8\"], [\"Reds\", \"1981\", \"3\", \"12\"], [\"On Golden Pond\", \"1981\", \"3\", \"10\"], [\"Arthur\", \"1981\", \"2\", \"4\"], [\"An American Werewolf in London\", \"1981\", \"1\", \"1\"], [\"Close Harmony\", \"1981\", \"1\", \"1\"], [\"Crac\", \"1981\", \"1\", \"1\"], [\"Genocide\", \"1981\", \"1\", \"1\"], [\"Mephisto\", \"1981\", \"1\", \"1\"], [\"Violet\", \"1981\", \"1\", \"1\"], [\"Ordinary People\", \"1980\", \"4\", \"6\"], [\"Tess\", \"1980\", \"3\", \"6\"], [\"Raging Bull\", \"1980\", \"2\", \"8\"], [\"Fame\", \"1980\", \"2\", \"6\"], [\"Melvin and Howard\", \"1980\", \"2\", \"3\"], [\"Coal Miner's Daughter\", \"1980\", \"1\", \"7\"], [\"The Empire Strikes Back\", \"1980\", \"1 (1)\", \"3\"], [\"The Dollar Bottom\", \"1980\", \"1\", \"1\"], [\"The Fly (A L\\u00e9gy)\", \"1980\", \"1\", \"1\"], [\"From Mao to Mozart: Isaac Stern in China\", \"1980\", \"1\", \"1\"], [\"Karl Hess: Toward Liberty\", \"1980\", \"1\", \"1\"], [\"Moscow Does Not Believe in Tears\", \"1980\", \"1\", \"1\"], [\"Kramer vs. Kramer\", \"1979\", \"5\", \"9\"], [\"All That Jazz\", \"1979\", \"4\", \"9\"], [\"Apocalypse Now\", \"1979\", \"2\", \"8\"], [\"Norma Rae\", \"1979\", \"2\", \"4\"], [\"Breaking Away\", \"1979\", \"1\", \"5\"], [\"Alien\", \"1979\", \"1\", \"2\"], [\"Being There\", \"1979\", \"1\", \"2\"], [\"A Little Romance\", \"1979\", \"1\", \"2\"], [\"Best Boy\", \"1979\", \"1\", \"1\"], [\"Board and Care\", \"1979\", \"1\", \"1\"], [\"Every Child\", \"1979\", \"1\", \"1\"], [\"Paul Robeson: Tribute to an Artist\", \"1979\", \"1\", \"1\"], [\"The Tin Drum (Die Blechtrommel)\", \"1979\", \"1\", \"1\"], [\"The Black Stallion\", \"1979\", \"0 (1)\", \"2\"], [\"The Deer Hunter\", \"1978\", \"5\", \"9\"], [\"Coming Home\", \"1978\", \"3\", \"8\"], [\"Midnight Express\", \"1978\", \"2\", \"6\"], [\"Heaven Can Wait\", \"1978\", \"1\", \"9\"], [\"Days of Heaven\", \"1978\", \"1\", \"4\"], [\"California Suite\", \"1978\", \"1\", \"3\"], [\"The Buddy Holly Story\", \"1978\", \"1\", \"3\"], [\"Death on the Nile\", \"1978\", \"1\", \"1\"], [\"The Flight of the Gossamer Condor\", \"1978\", \"1\", \"1\"], [\"Get Out Your Handkerchiefs (Pr\\u00e9parez vos mouchoirs)\", \"1978\", \"1\", \"1\"], [\"Scared Straight!\", \"1978\", \"1\", \"1\"], [\"Special Delivery\", \"1978\", \"1\", \"1\"], [\"Teenage Father\", \"1978\", \"1\", \"1\"], [\"Thank God It's Friday\", \"1978\", \"1\", \"1\"], [\"Superman\", \"1978\", \"0 (1)\", \"3\"], [\"Annie Hall\", \"1977\", \"4\", \"5\"], [\"Star Wars\", \"1977\", \"6 (1)\", \"10\"], [\"Julia\", \"1977\", \"3\", \"11\"], [\"Close Encounters of the Third Kind\", \"1977\", \"1 (1)\", \"8\"], [\"The Goodbye Girl\", \"1977\", \"1\", \"5\"], [\"A Little Night Music\", \"1977\", \"1\", \"2\"], [\"Gravity Is My Enemy\", \"1977\", \"1\", \"1\"], [\"I'll Find a Way\", \"1977\", \"1\", \"1\"], [\"Madame Rosa (La Vie devant soi)\", \"1977\", \"1\", \"1\"], [\"The Sand Castle (Le Ch\\u00e2teau de sable)\", \"1977\", \"1\", \"1\"], [\"Who Are the DeBolts? And Where Did They Get Nineteen Kids?\", \"1977\", \"1\", \"1\"], [\"You Light Up My Life\", \"1977\", \"1\", \"1\"], [\"Rocky\", \"1976\", \"3\", \"10\"], [\"Network\", \"1976\", \"4\", \"10\"], [\"All the President's Men\", \"1976\", \"4\", \"8\"], [\"Bound for Glory\", \"1976\", \"2\", \"6\"], [\"A Star Is Born\", \"1976\", \"1\", \"4\"], [\"Fellini's Casanova (Il Casanova di Federico Fellini)\", \"1976\", \"1\", \"2\"], [\"The Omen\", \"1976\", \"1\", \"2\"], [\"Black and White in Color (Noirs et blancs en couleur)\", \"1976\", \"1\", \"1\"], [\"Harlan County, USA\", \"1976\", \"1\", \"1\"], [\"In the Region of Ice\", \"1976\", \"1\", \"1\"], [\"Leisure\", \"1976\", \"1\", \"1\"], [\"Number Our Days\", \"1976\", \"1\", \"1\"], [\"King Kong\", \"1976\", \"0 (1)\", \"2\"], [\"Logan's Run\", \"1976\", \"0 (1)\", \"2\"], [\"One Flew Over the Cuckoo's Nest\", \"1975\", \"5\", \"9\"], [\"Barry Lyndon\", \"1975\", \"4\", \"7\"], [\"Jaws\", \"1975\", \"3\", \"4\"], [\"Dog Day Afternoon\", \"1975\", \"1\", \"6\"], [\"Nashville\", \"1975\", \"1\", \"5\"], [\"Shampoo\", \"1975\", \"1\", \"4\"], [\"The Sunshine Boys\", \"1975\", \"1\", \"4\"], [\"Angel and Big Joe\", \"1975\", \"1\", \"1\"], [\"Dersu Uzala\", \"1975\", \"1\", \"1\"], [\"The End of the Game\", \"1975\", \"1\", \"1\"], [\"Great (Great (Isambard Kingdom Brunel))\", \"1975\", \"1\", \"1\"], [\"The Man Who Skied Down Everest\", \"1975\", \"1\", \"1\"], [\"The Hindenburg\", \"1975\", \"0 (2)\", \"3\"], [\"The Godfather: Part II\", \"1974\", \"6\", \"11\"], [\"The Towering Inferno\", \"1974\", \"3\", \"8\"], [\"The Great Gatsby\", \"1974\", \"2\", \"2\"], [\"Chinatown\", \"1974\", \"1\", \"11\"], [\"Murder on the Orient Express\", \"1974\", \"1\", \"6\"], [\"Earthquake\", \"1974\", \"1 (1)\", \"4\"], [\"Alice Doesn't Live Here Anymore\", \"1974\", \"1\", \"3\"], [\"Amarcord\", \"1974\", \"1\", \"3[3]\"], [\"Harry and Tonto\", \"1974\", \"1\", \"2\"], [\"Closed Mondays\", \"1974\", \"1\", \"1\"], [\"Don't\", \"1974\", \"1\", \"1\"], [\"Hearts and Minds\", \"1974\", \"1\", \"1\"], [\"One-Eyed Men Are Kings (...borgnes sont rois, Les)\", \"1974\", \"1\", \"1\"], [\"The Sting\", \"1973\", \"7\", \"10\"], [\"The Exorcist\", \"1973\", \"2\", \"10\"], [\"The Way We Were\", \"1973\", \"2\", \"6\"], [\"Cries and Whispers (Viskningar och rop)\", \"1973\", \"1\", \"5\"], [\"A Touch of Class\", \"1973\", \"1\", \"5\"], [\"Day for Night (La Nuit am\\u00e9ricaine)\", \"1973\", \"1\", \"4\"], [\"Paper Moon\", \"1973\", \"1\", \"4\"], [\"The Paper Chase\", \"1973\", \"1\", \"3\"], [\"Save the Tiger\", \"1973\", \"1\", \"3\"], [\"The Bolero\", \"1973\", \"1\", \"1\"], [\"Frank Film\", \"1973\", \"1\", \"1\"], [\"The Great American Cowboy\", \"1973\", \"1\", \"1\"], [\"Princeton: A Search for Answers\", \"1973\", \"1\", \"1\"], [\"The Godfather\", \"1972\", \"3\", \"10[4]\"], [\"Cabaret\", \"1972\", \"8\", \"10\"], [\"The Poseidon Adventure\", \"1972\", \"1 (1)\", \"8\"], [\"Travels with My Aunt\", \"1972\", \"1\", \"4\"], [\"Butterflies Are Free\", \"1972\", \"1\", \"3\"], [\"The Candidate\", \"1972\", \"1\", \"2\"], [\"The Discreet Charm of the Bourgeoisie (Le charme discret de la bourgeoisie)\", \"1972\", \"1\", \"2\"], [\"A Christmas Carol\", \"1972\", \"1\", \"1[5]\"], [\"Limelight\", \"1972\", \"1\", \"1[6]\"], [\"Marjoe\", \"1972\", \"1\", \"1\"], [\"Norman Rockwell's World... An American Dream\", \"1972\", \"1\", \"1\"], [\"This Tiny World\", \"1972\", \"1\", \"1\"], [\"The French Connection\", \"1971\", \"5\", \"8\"], [\"Fiddler on the Roof\", \"1971\", \"3\", \"8\"], [\"The Last Picture Show\", \"1971\", \"2\", \"8\"], [\"Nicholas and Alexandra\", \"1971\", \"2\", \"6\"], [\"Sentinels of Silence\", \"1971\", \"2\", \"2\"], [\"Bedknobs and Broomsticks\", \"1971\", \"1\", \"5\"], [\"Summer of '42\", \"1971\", \"1\", \"4\"], [\"The Garden of the Finzi-Continis (Il Giardino dei Finzi-Contini)\", \"1971\", \"1\", \"2\"], [\"The Hospital\", \"1971\", \"1\", \"2\"], [\"Klute\", \"1971\", \"1\", \"2\"], [\"Shaft\", \"1971\", \"1\", \"2\"], [\"The Crunch Bird\", \"1971\", \"1\", \"1\"], [\"The Hellstrom Chronicle\", \"1971\", \"1\", \"1\"], [\"Patton\", \"1970\", \"7\", \"10\"], [\"Ryan's Daughter\", \"1970\", \"2\", \"4\"], [\"Airport\", \"1970\", \"1\", \"10\"], [\"Love Story\", \"1970\", \"1\", \"7\"], [\"M*A*S*H\", \"1970\", \"1\", \"5\"], [\"Tora! Tora! Tora!\", \"1970\", \"1\", \"5\"], [\"Women in Love\", \"1970\", \"1\", \"4\"], [\"Lovers and Other Strangers\", \"1970\", \"1\", \"3\"], [\"Woodstock\", \"1970\", \"1\", \"3\"], [\"Cromwell\", \"1970\", \"1\", \"2\"], [\"Investigation of a Citizen Above Suspicion (Indagine su un cittadino al di sopra di ogni sospetto)\", \"1970\", \"1\", \"2\"], [\"Interviews with My Lai Veterans\", \"1970\", \"1\", \"1\"], [\"Is It Always Right to Be Right?\", \"1970\", \"1\", \"1\"], [\"Let It Be\", \"1970\", \"1\", \"1\"], [\"The Resurrection of Broncho Billy\", \"1970\", \"1\", \"1\"], [\"Midnight Cowboy\", \"1969\", \"3\", \"7\"], [\"Butch Cassidy and the Sundance Kid\", \"1969\", \"4\", \"7\"], [\"Hello, Dolly!\", \"1969\", \"3\", \"7\"], [\"Z\", \"1969\", \"2\", \"5\"], [\"Anne of the Thousand Days\", \"1969\", \"1\", \"10\"], [\"They Shoot Horses, Don't They?\", \"1969\", \"1\", \"9\"], [\"Marooned\", \"1969\", \"1\", \"3\"], [\"The Magic Machines\", \"1969\", \"1\", \"2\"], [\"The Prime of Miss Jean Brodie\", \"1969\", \"1\", \"2\"], [\"True Grit\", \"1969\", \"1\", \"2\"], [\"Arthur Rubinstein \\u2013 The Love of Life (L'amour de la vie - Artur Rubinstein)\", \"1969\", \"1\", \"1\"], [\"Cactus Flower\", \"1969\", \"1\", \"1\"], [\"Czechoslovakia 1968\", \"1969\", \"1\", \"1\"], [\"It's Tough to Be a Bird\", \"1969\", \"1\", \"1\"], [\"Oliver!\", \"1968\", \"5 (1)\", \"11\"], [\"The Lion in Winter\", \"1968\", \"3\", \"7\"], [\"Romeo and Juliet\", \"1968\", \"2\", \"4\"], [\"Funny Girl\", \"1968\", \"1\", \"8\"], [\"2001: A Space Odyssey\", \"1968\", \"1\", \"4\"], [\"Bullitt\", \"1968\", \"1\", \"2\"], [\"The Producers\", \"1967\", \"1\", \"2\"], [\"Rosemary's Baby\", \"1968\", \"1\", \"2\"], [\"The Subject Was Roses\", \"1968\", \"1\", \"2\"], [\"The Thomas Crown Affair\", \"1968\", \"1\", \"2\"], [\"War and Peace (Voyna i mir)\", \"1968\", \"1\", \"2\"], [\"Charly\", \"1968\", \"1\", \"1\"], [\"Journey into Self\", \"1968\", \"1\", \"1\"], [\"Robert Kennedy Remembered\", \"1968\", \"1\", \"1\"], [\"Why Man Creates\", \"1968\", \"1\", \"1\"], [\"Winnie the Pooh and the Blustery Day\", \"1968\", \"1\", \"1\"], [\"Planet of the Apes\", \"1968\", \"0 (1)\", \"2\"], [\"In the Heat of the Night\", \"1967\", \"5\", \"7\"], [\"Camelot\", \"1967\", \"3\", \"5\"], [\"Bonnie and Clyde\", \"1967\", \"2\", \"10\"], [\"Guess Who's Coming to Dinner\", \"1967\", \"2\", \"10\"], [\"Doctor Dolittle\", \"1967\", \"2\", \"9\"], [\"The Graduate\", \"1967\", \"1\", \"7\"], [\"Thoroughly Modern Millie\", \"1967\", \"1\", \"7\"], [\"Cool Hand Luke\", \"1967\", \"1\", \"4\"], [\"The Dirty Dozen\", \"1967\", \"1\", \"4\"], [\"A Place to Stand\", \"1967\", \"1\", \"2\"], [\"The Anderson Platoon (La Section Anderson)\", \"1967\", \"1\", \"1\"], [\"The Box\", \"1967\", \"1\", \"1\"], [\"Closely Watched Trains (Ostre sledovan\\u00e9 vlaky)\", \"1967\", \"1\", \"1\"], [\"The Redwoods\", \"1967\", \"1\", \"1\"], [\"A Man for All Seasons\", \"1966\", \"6\", \"8\"], [\"Who's Afraid of Virginia Woolf?\", \"1966\", \"5\", \"13\"], [\"Grand Prix\", \"1966\", \"3\", \"3\"], [\"Fantastic Voyage\", \"1966\", \"2\", \"5\"], [\"A Man and a Woman\", \"1966\", \"2\", \"4\"], [\"Born Free\", \"1966\", \"2\", \"2\"], [\"The Fortune Cookie\", \"1966\", \"1\", \"4\"], [\"A Funny Thing Happened on the Way to the Forum\", \"1966\", \"1\", \"1\"], [\"A Herb Alpert and the Tijuana Brass Double Feature\", \"1966\", \"1\", \"1\"], [\"The War Game\", \"1966\", \"1\", \"1\"], [\"Wild Wings\", \"1966\", \"1\", \"1\"], [\"A Year Toward Tomorrow\", \"1966\", \"1\", \"1\"], [\"The Sound of Music\", \"1965\", \"5\", \"10\"], [\"Doctor Zhivago\", \"1965\", \"5\", \"10\"], [\"Darling\", \"1965\", \"3\", \"5\"], [\"Ship of Fools\", \"1965\", \"2\", \"8\"], [\"Cat Ballou\", \"1965\", \"1\", \"5\"], [\"The Great Race\", \"1965\", \"1\", \"5\"], [\"A Patch of Blue\", \"1965\", \"1\", \"5\"], [\"A Thousand Clowns\", \"1965\", \"1\", \"4\"], [\"The Shop on Main Street (Obchod na korze)\", \"1965\", \"1\", \"2\"], [\"The Sandpiper\", \"1965\", \"1\", \"1\"], [\"The Eleanor Roosevelt Story\", \"1965\", \"1\", \"1\"], [\"To Be Alive!\", \"1965\", \"1\", \"1\"], [\"7 Faces of Dr. Lao\", \"1964\", \"0 (1)\", \"1\"], [\"7th Heaven\", \"1927/28\", \"3\", \"5\"], [\"20,000 Leagues Under the Sea\", \"1954\", \"2\", \"3\"], [\"Adventures of Don Juan\", \"1949\", \"1\", \"2\"], [\"The Adventures of Robin Hood\", \"1938\", \"3\", \"4\"], [\"The African Queen\", \"1951\", \"1\", \"4\"], [\"Air Force\", \"1943\", \"1\", \"4\"], [\"The Alamo\", \"1960\", \"1\", \"7\"], [\"The Alaskan Eskimo\", \"1953\", \"1\", \"1\"], [\"Albert Schweitzer\", \"1957\", \"1\", \"1\"], [\"Alexander's Ragtime Band\", \"1938\", \"1\", \"6\"], [\"All About Eve\", \"1950\", \"6\", \"14\"], [\"All Quiet on the Western Front\", \"1929/30\", \"2\", \"4\"], [\"All That Money Can Buy\", \"1941\", \"1\", \"2\"], [\"All the King's Men\", \"1949\", \"3\", \"7\"], [\"Ama Girls\", \"1958\", \"1\", \"1\"], [\"America America\", \"1963\", \"1\", \"4\"], [\"An American in Paris\", \"1951\", \"6\", \"8\"], [\"Amphibious Fighters\", \"1943\", \"1\", \"1\"], [\"Anastasia\", \"1956\", \"1\", \"2\"], [\"Anchors Aweigh\", \"1945\", \"1\", \"5\"], [\"Anna and the King of Siam\", \"1946\", \"2\", \"5\"], [\"Annie Get Your Gun\", \"1950\", \"1\", \"4\"], [\"Anthony Adverse\", \"1936\", \"4\", \"7\"], [\"The Apartment\", \"1960\", \"5\", \"10\"], [\"Aquatic House Party\", \"1949\", \"1\", \"1\"], [\"Arise, My Love\", \"1940\", \"1\", \"4\"], [\"Around the World in 80 Days\", \"1956\", \"5\", \"8\"], [\"The Awful Truth\", \"1937\", \"1\", \"6\"], [\"The Bachelor and the Bobby-Soxer\", \"1947\", \"1\", \"1\"], [\"The Bad and the Beautiful\", \"1952\", \"5\", \"6\"], [\"Bad Girl\", \"1931/32\", \"2\", \"3\"], [\"The Barefoot Contessa\", \"1954\", \"1\", \"2\"], [\"The Battle of Midway\", \"1942\", \"1\", \"1\"], [\"Battleground\", \"1949\", \"2\", \"6\"], [\"Bear Country\", \"1953\", \"1\", \"1\"], [\"Becket\", \"1964\", \"1\", \"12\"], [\"The Bells of St. Mary's\", \"1945\", \"1\", \"8\"], [\"Ben-Hur\", \"1959\", \"11\", \"12\"], [\"Benjy\", \"1951\", \"1\", \"1\"], [\"The Bespoke Overcoat\", \"1956\", \"1\", \"1\"], [\"The Best Years of Our Lives\", \"1946\", \"7 (1)\", \"8\"], [\"Beyond the Line of Duty\", \"1942\", \"1\", \"1\"], [\"Bicycle Thieves\", \"1949\", \"0 (1)\", \"1\"], [\"The Big Broadcast of 1938\", \"1938\", \"1\", \"1\"], [\"The Big Country\", \"1958\", \"1\", \"2\"], [\"The Big House\", \"1929/30\", \"2\", \"4\"], [\"Bill and Coo\", \"1948\", \"0 (1)\", \"0\"], [\"Birds Anonymous\", \"1957\", \"1\", \"1\"], [\"The Bishop's Wife\", \"1947\", \"1\", \"5\"], [\"Black Fox: The Rise and Fall of Adolf Hitler (The Black Fox)\", \"1962\", \"1\", \"1\"], [\"Black Narcissus\", \"1947\", \"2\", \"2\"], [\"Black Orpheus (Orfeu Negro)\", \"1959\", \"1\", \"1\"], [\"The Black Swan\", \"1942\", \"1\", \"3\"], [\"Blithe Spirit\", \"1946\", \"1\", \"1\"], [\"Blood and Sand\", \"1941\", \"1\", \"2\"], [\"Blood on the Sun\", \"1945\", \"1\", \"1\"], [\"Blossoms in the Dust\", \"1941\", \"1\", \"4\"], [\"Body and Soul\", \"1947\", \"1\", \"3\"], [\"Bored of Education\", \"1936\", \"1\", \"1\"], [\"Born Yesterday\", \"1950\", \"1\", \"5\"], [\"A Boy and His Dog\", \"1946\", \"1\", \"1\"], [\"Boys Town\", \"1938\", \"2\", \"5\"], [\"The Brave One\", \"1956\", \"1\", \"3\"], [\"Breakfast at Tiffany's\", \"1961\", \"2\", \"5\"], [\"Breaking the Sound Barrier\", \"1952\", \"1\", \"2\"], [\"The Bridge of San Luis Rey\", \"1928/29\", \"1\", \"1\"], [\"The Bridge on the River Kwai\", \"1957\", \"7\", \"8\"], [\"The Bridges at Toko-Ri\", \"1955\", \"1\", \"2\"], [\"Broadway Melody of 1936\", \"1935\", \"1\", \"3\"], [\"The Broadway Melody\", \"1928/29\", \"1\", \"3\"], [\"Broken Lance\", \"1954\", \"1\", \"2\"], [\"Busy Little Bears\", \"1939\", \"1\", \"1\"], [\"BUtterfield 8\", \"1960\", \"1\", \"2\"], [\"Calamity Jane\", \"1953\", \"1\", \"3\"], [\"Call Me Madam\", \"1953\", \"1\", \"2\"], [\"Captain Carey, U.S.A.\", \"1950\", \"1\", \"1\"], [\"Captains Courageous\", \"1937\", \"1\", \"4\"], [\"Casablanca\", \"1943\", \"3\", \"8\"], [\"Casals Conducts: 1964\", \"1964\", \"1\", \"1\"], [\"The Cat Concerto\", \"1946\", \"1\", \"1\"], [\"Cavalcade\", \"1932/33\", \"3\", \"4\"], [\"Chagall\", \"1963\", \"1\", \"1\"], [\"The Champ\", \"1931/32\", \"2\", \"4\"], [\"Champion\", \"1949\", \"1\", \"6\"], [\"A Chance to Live\", \"1949\", \"1\", \"1\"], [\"The Charge of the Light Brigade\", \"1936\", \"1\", \"3\"], [\"The Chicken (Le Poulet)\", \"1965\", \"1\", \"1\"], [\"Churchill's Island\", \"1941\", \"1\", \"1\"], [\"Cimarron\", \"1930/31\", \"3\", \"7\"], [\"The Circus\", \"1927/28\", \"0 (1)\", \"0\"], [\"Citizen Kane\", \"1941\", \"1\", \"9\"], [\"City of Wax\", \"1934\", \"1\", \"1\"], [\"Cleopatra\", \"1934\", \"1\", \"5\"], [\"Cleopatra\", \"1963\", \"4\", \"9\"], [\"Climbing the Matterhorn\", \"1947\", \"1\", \"1\"], [\"Come and Get It\", \"1936\", \"1\", \"2\"], [\"Come Back, Little Sheba\", \"1952\", \"1\", \"3\"], [\"Coquette\", \"1928/29\", \"1\", \"1\"], [\"The Country Cousin\", \"1936\", \"1\", \"1\"], [\"The Country Girl\", \"1954\", \"2\", \"7\"], [\"Cover Girl\", \"1944\", \"1\", \"5\"], [\"The Cowboy and the Lady\", \"1938\", \"1\", \"3\"], [\"Crash Dive\", \"1943\", \"1\", \"1\"], [\"Crashing the Water Barrier\", \"1956\", \"1\", \"1\"], [\"The Critic\", \"1963\", \"1\", \"1\"], [\"La Cucaracha\", \"1934\", \"1\", \"1\"], [\"Cyrano de Bergerac\", \"1950\", \"1\", \"1\"], [\"A Damsel in Distress\", \"1937\", \"1\", \"2\"], [\"Dangerous\", \"1935\", \"1\", \"1\"], [\"The Dark Angel\", \"1935\", \"1\", \"3\"], [\"The Dawn Patrol\", \"1930/31\", \"1\", \"1\"], [\"Day of the Painter\", \"1960\", \"1\", \"1\"], [\"Daybreak in Udi\", \"1949\", \"1\", \"1\"], [\"Days of Wine and Roses\", \"1962\", \"1\", \"5\"], [\"December 7th\", \"1943\", \"1\", \"1\"], [\"Declaration of Independence\", \"1938\", \"1\", \"1\"], [\"The Defiant Ones\", \"1958\", \"2\", \"9\"], [\"Der Fuehrer's Face\", \"1942\", \"1\", \"1\"], [\"Desert Victory\", \"1943\", \"1\", \"1\"], [\"Design for Death\", \"1947\", \"1\", \"1\"], [\"Designing Woman\", \"1957\", \"1\", \"1\"], [\"Destination Moon\", \"1950\", \"1\", \"2\"], [\"The Diary of Anne Frank\", \"1959\", \"3\", \"8\"], [\"Disraeli\", \"1929/30\", \"1\", \"3\"], [\"The Divine Lady\", \"1928/29\", \"1\", \"3\"], [\"Divorce Italian Style\", \"1962\", \"1\", \"3\"], [\"The Divorcee\", \"1929/30\", \"1\", \"4\"], [\"Dodsworth\", \"1936\", \"1\", \"7\"], [\"The Dot and the Line (The Dot and the Line: A Romance in Lower Mathematics)\", \"1965\", \"1\", \"1\"], [\"A Double Life\", \"1947\", \"2\", \"4\"], [\"The Dove\", \"1927/28\", \"1\", \"1\"], [\"Dr. Jekyll and Mr. Hyde\", \"1931/32\", \"1\", \"3\"], [\"Dumbo\", \"1941\", \"1\", \"2\"], [\"Dylan Thomas\", \"1962\", \"1\", \"1\"], [\"East of Eden\", \"1955\", \"1\", \"4\"], [\"Easter Parade\", \"1948\", \"1\", \"1\"], [\"Elmer Gantry\", \"1960\", \"3\", \"5\"], [\"The Enemy Below\", \"1957\", \"1\", \"1\"], [\"Eskimo\", \"1934\", \"1\", \"1\"], [\"Exodus\", \"1960\", \"1\", \"3\"], [\"The Face of Lincoln\", \"1955\", \"1\", \"2\"], [\"Facing Your Danger\", \"1946\", \"1\", \"1\"], [\"The Facts of Life\", \"1960\", \"1\", \"5\"], [\"Fantasia\", \"1940\", \"0 (2)\", \"0\"], [\"A Farewell to Arms\", \"1932/33\", \"2\", \"4\"], [\"The Farmer's Daughter\", \"1947\", \"1\", \"2\"], [\"Father Goose\", \"1964\", \"1\", \"3\"], [\"Federico Fellini's 8\\u00bd\", \"1963\", \"2\", \"5\"], [\"Ferdinand the Bull\", \"1938\", \"1\", \"1\"], [\"The Fighting Lady\", \"1944\", \"1\", \"1\"], [\"First Steps\", \"1947\", \"1\", \"1\"], [\"Flowers and Trees\", \"1931/32\", \"1\", \"1\"], [\"Folies Bergere\", \"1935\", \"1\", \"1\"], [\"For Scent-imental Reasons\", \"1949\", \"1\", \"1\"], [\"For Whom the Bell Tolls\", \"1943\", \"1\", \"9\"], [\"Forbidden Games\", \"1952\", \"0 (1)\", \"1\"], [\"A Force in Readiness\", \"1961\", \"0 (1)\", \"0\"], [\"A Free Soul\", \"1930/31\", \"1\", \"3\"], [\"Frenchman's Creek\", \"1945\", \"1\", \"1\"], [\"From Here to Eternity\", \"1953\", \"8\", \"13\"], [\"The Garden of Allah\", \"1936\", \"0 (1)\", \"2\"], [\"Gaslight\", \"1944\", \"2\", \"7\"], [\"Gate of Hell (Jigokumon)\", \"1954\", \"1 (1)\", \"1\"], [\"The Gay Divorcee\", \"1934\", \"1\", \"5\"], [\"Gentleman's Agreement\", \"1947\", \"3\", \"8\"], [\"Gerald McBoing-Boing\", \"1950\", \"1\", \"1\"], [\"Giant\", \"1956\", \"1\", \"10\"], [\"Gigi\", \"1958\", \"9\", \"9\"], [\"Giuseppina\", \"1960\", \"1\", \"1\"], [\"Give Me Liberty\", \"1936\", \"1\", \"1\"], [\"Glass (Glas)\", \"1959\", \"1\", \"1\"], [\"The Glenn Miller Story\", \"1954\", \"1\", \"3\"], [\"Going My Way\", \"1944\", \"7\", \"10\"], [\"Gold Diggers of 1935\", \"1935\", \"1\", \"2\"], [\"The Golden Fish (Histoire d'un poisson rouge)\", \"1959\", \"1\", \"1\"], [\"Goldfinger\", \"1964\", \"1\", \"1\"], [\"Gone with the Wind\", \"1939\", \"8 (2)\", \"13\"], [\"The Good Earth\", \"1937\", \"2\", \"5\"], [\"Goodbye, Miss Turlock\", \"1947\", \"1\", \"1\"], [\"Goodbye, Mr. Chips\", \"1939\", \"1\", \"7\"], [\"Grand Canyon\", \"1958\", \"1\", \"1\"], [\"Grand Hotel\", \"1931/32\", \"1\", \"1\"], [\"Grandad of Races\", \"1950\", \"1\", \"1\"], [\"The Grapes of Wrath\", \"1940\", \"2\", \"7\"], [\"The Great Caruso\", \"1951\", \"1\", \"3\"], [\"Great Expectations\", \"1947\", \"2\", \"5\"], [\"The Great Lie\", \"1941\", \"1\", \"1\"], [\"The Great McGinty\", \"1940\", \"1\", \"1\"], [\"The Great Waltz\", \"1938\", \"1\", \"3\"], [\"The Great Ziegfeld\", \"1936\", \"3\", \"7\"], [\"The Greatest Show on Earth\", \"1952\", \"2\", \"5\"], [\"Green Dolphin Street\", \"1947\", \"1\", \"4\"], [\"The Guns of Navarone\", \"1961\", \"1\", \"7\"], [\"Hamlet\", \"1948\", \"4\", \"7\"], [\"Happy Anniversary (Heureux Anniversaire)\", \"1962\", \"1\", \"1\"], [\"Harvey\", \"1950\", \"1\", \"2\"], [\"The Harvey Girls\", \"1946\", \"1\", \"2\"], [\"Heavenly Music\", \"1943\", \"1\", \"1\"], [\"The Heiress\", \"1949\", \"4\", \"8\"], [\"Helen Keller in Her Story (The Unconquered)\", \"1955\", \"1\", \"1\"], [\"Hello, Frisco, Hello\", \"1943\", \"1\", \"2\"], [\"Henry V\", \"1946\", \"0 (1)\", \"4\"], [\"Here Comes Mr. Jordan\", \"1941\", \"2\", \"7\"], [\"Here Comes the Groom\", \"1951\", \"1\", \"2\"], [\"The High and the Mighty\", \"1954\", \"1\", \"6\"], [\"High Noon\", \"1952\", \"4\", \"7\"], [\"Hitler Lives\", \"1945\", \"1\", \"1\"], [\"A Hole in the Head\", \"1959\", \"1\", \"1\"], [\"The Hole\", \"1962\", \"1\", \"1\"], [\"Holiday Inn\", \"1942\", \"1\", \"3\"], [\"The Horse with the Flying Tail\", \"1960\", \"1\", \"1\"], [\"The House I Live In\", \"1945\", \"0 (1)\", \"0\"], [\"The House on 92nd Street\", \"1945\", \"1\", \"1\"], [\"How Green Was My Valley\", \"1941\", \"5\", \"10\"], [\"How the West Was Won\", \"1963\", \"3\", \"8\"], [\"How to Sleep\", \"1935\", \"1\", \"1\"], [\"Hud\", \"1963\", \"3\", \"7\"], [\"The Human Comedy\", \"1943\", \"1\", \"5\"], [\"The Hurricane\", \"1937\", \"1\", \"3\"], [\"The Hustler\", \"1961\", \"2\", \"9\"], [\"I Want to Live!\", \"1958\", \"1\", \"6\"], [\"I Wanted Wings\", \"1941\", \"1\", \"1\"], [\"I Won't Play\", \"1944\", \"1\", \"1\"], [\"I'll Cry Tomorrow\", \"1955\", \"1\", \"4\"], [\"In Beaver Valley\", \"1950\", \"1\", \"1\"], [\"In Old Arizona\", \"1928/29\", \"1\", \"5\"], [\"In Old Chicago\", \"1937\", \"2\", \"6\"], [\"In Which We Serve\", \"1942\", \"0 (1)\", \"2\"], [\"The Informer\", \"1935\", \"4\", \"6\"], [\"Interrupted Melody\", \"1955\", \"1\", \"3\"], [\"The Invaders\", \"1942\", \"1\", \"3\"], [\"Irma la Douce\", \"1963\", \"1\", \"3\"], [\"It Happened One Night\", \"1934\", \"5\", \"5\"], [\"It's a Mad, Mad, Mad, Mad World\", \"1963\", \"1\", \"6\"], [\"The Jazz Singer\", \"1927/28\", \"0 (1)\", \"1\"], [\"Jezebel\", \"1938\", \"2\", \"5\"], [\"Joan of Arc\", \"1948\", \"2 (1)\", \"7\"], [\"Johann Mouse\", \"1952\", \"1\", \"1\"], [\"Johnny Belinda\", \"1948\", \"1\", \"12\"], [\"Johnny Eager\", \"1942\", \"1\", \"1\"], [\"The Joker Is Wild\", \"1957\", \"1\", \"1\"], [\"The Jolson Story\", \"1946\", \"2\", \"6\"], [\"Judgment at Nuremberg\", \"1961\", \"2\", \"11\"], [\"Julius Caesar\", \"1953\", \"1\", \"5\"], [\"Kentucky\", \"1938\", \"1\", \"1\"], [\"Key Largo\", \"1948\", \"1\", \"1\"], [\"The King and I\", \"1956\", \"5\", \"9\"], [\"King of Jazz\", \"1929/30\", \"1\", \"1\"], [\"King Solomon's Mines\", \"1950\", \"2\", \"3\"], [\"Kitty Foyle (Kitty Foyle: The Natural History of a Woman)\", \"1940\", \"1\", \"5\"], [\"Knighty Knight Bugs\", \"1958\", \"1\", \"1\"], [\"Kokoda Front Line!\", \"1942\", \"1\", \"1\"], [\"Kon-Tiki\", \"1950\", \"1\", \"1\"], [\"Krakatoa\", \"1932/33\", \"1\", \"1\"], [\"Kukan\", \"1941\", \"0 (1)\", \"0\"], [\"La Strada (The Road)\", \"1956\", \"1\", \"2\"], [\"La Dolce Vita\", \"1961\", \"1\", \"4\"], [\"Lady Be Good\", \"1941\", \"1\", \"1\"], [\"The Last Command\", \"1927/28\", \"1\", \"2\"], [\"Laura\", \"1944\", \"1\", \"5\"], [\"The Lavender Hill Mob\", \"1952\", \"1\", \"2\"], [\"Lawrence of Arabia\", \"1962\", \"7\", \"10\"], [\"Leave Her to Heaven\", \"1945\", \"1\", \"4\"], [\"Lend a Paw\", \"1941\", \"1\", \"1\"], [\"Les Girls\", \"1957\", \"1\", \"3\"], [\"A Letter to Three Wives\", \"1949\", \"2\", \"3\"], [\"The Life of Emile Zola\", \"1937\", \"3\", \"10\"], [\"Light in the Window\", \"1952\", \"1\", \"1\"], [\"Lili\", \"1953\", \"1\", \"6\"], [\"Lilies of the Field\", \"1963\", \"1\", \"5\"], [\"The Little Kidnappers (The Kidnappers)\", \"1954\", \"0 (2)\", \"0\"], [\"The Little Orphan\", \"1948\", \"1\", \"1\"], [\"Little Women\", \"1932/33\", \"1\", \"3\"], [\"Little Women\", \"1949\", \"1\", \"2\"], [\"The Lives of a Bengal Lancer\", \"1935\", \"1\", \"7\"], [\"The Living Desert\", \"1953\", \"1\", \"1\"], [\"The Longest Day\", \"1962\", \"2\", \"5\"], [\"Lost Horizon\", \"1937\", \"2\", \"7\"], [\"The Lost Weekend\", \"1945\", \"4\", \"7\"], [\"Love Is a Many-Splendored Thing\", \"1955\", \"3\", \"8\"], [\"Love Me or Leave Me\", \"1955\", \"1\", \"6\"], [\"Lust for Life\", \"1956\", \"1\", \"4\"], [\"Magoo's Puddle Jumper\", \"1956\", \"1\", \"1\"], [\"Main Street on the March!\", \"1941\", \"1\", \"1\"], [\"The Man Who Knew Too Much\", \"1956\", \"1\", \"1\"], [\"Manhattan Melodrama\", \"1934\", \"1\", \"1\"], [\"Marie-Louise\", \"1945\", \"1\", \"1\"], [\"Marty\", \"1955\", \"4\", \"8\"], [\"Mary Poppins\", \"1964\", \"5\", \"13\"], [\"Men Against the Arctic\", \"1955\", \"1\", \"1\"], [\"The Merry Widow\", \"1934\", \"1\", \"1\"], [\"A Midsummer Night's Dream\", \"1935\", \"2\", \"4[7]\"], [\"Mighty Joe Young\", \"1949\", \"1\", \"1\"], [\"Mildred Pierce\", \"1945\", \"1\", \"6\"], [\"The Milky Way\", \"1940\", \"1\", \"1\"], [\"Min and Bill\", \"1930/31\", \"1\", \"1\"], [\"Miracle on 34th Street\", \"1947\", \"3\", \"4\"], [\"The Miracle Worker\", \"1962\", \"2\", \"5\"], [\"Mister Roberts\", \"1955\", \"1\", \"3\"], [\"Monsieur Vincent\", \"1948\", \"0 (1)\", \"0\"], [\"Moonbird\", \"1959\", \"1\", \"1\"], [\"The More the Merrier\", \"1943\", \"1\", \"6\"], [\"Morning Glory\", \"1932/33\", \"1\", \"1\"], [\"Moscow Strikes Back\", \"1942\", \"1\", \"1\"], [\"Mother Wore Tights\", \"1947\", \"1\", \"3\"], [\"Moulin Rouge\", \"1952\", \"2\", \"7\"], [\"Mouse Trouble\", \"1944\", \"1\", \"1\"], [\"Mr. Deeds Goes to Town\", \"1936\", \"1\", \"5\"], [\"Mr. Smith Goes to Washington\", \"1939\", \"1\", \"11\"], [\"Mrs. Miniver\", \"1942\", \"6\", \"12\"], [\"Munro\", \"1960\", \"1\", \"1\"], [\"The Music Box\", \"1931/32\", \"1\", \"1\"], [\"The Music Man\", \"1962\", \"1\", \"6\"], [\"Mutiny on the Bounty\", \"1935\", \"1\", \"8\"], [\"My Fair Lady\", \"1964\", \"8\", \"12\"], [\"My Uncle (Mon oncle)\", \"1958\", \"1\", \"1\"], [\"My Gal Sal\", \"1942\", \"1\", \"2\"], [\"The Naked City\", \"1948\", \"2\", \"3\"], [\"National Velvet\", \"1945\", \"2\", \"5\"], [\"Nature's Half Acre\", \"1951\", \"1\", \"1\"], [\"Naughty Marietta\", \"1935\", \"1\", \"2\"], [\"Neighbours\", \"1952\", \"1\", \"2\"], [\"Neptune's Daughter\", \"1949\", \"1\", \"1\"], [\"Never on Sunday (Pote tin Kyriaki)\", \"1960\", \"1\", \"5\"], [\"The Night of the Iguana\", \"1964\", \"1\", \"4\"], [\"Nights of Cabiria (Le Notti di Cabiria)\", \"1957\", \"1\", \"1\"], [\"Nine from Little Rock\", \"1964\", \"1\", \"1\"], [\"None But the Lonely Heart\", \"1944\", \"1\", \"4\"], [\"North West Mounted Police\", \"1940\", \"1\", \"5\"], [\"Now, Voyager\", \"1942\", \"1\", \"3\"], [\"An Occurrence at Owl Creek Bridge\", \"1963\", \"1\", \"1\"], [\"Of Pups and Puzzles\", \"1941\", \"1\", \"1\"], [\"Oklahoma!\", \"1955\", \"2\", \"4\"], [\"The Old Man and the Sea\", \"1958\", \"1\", \"3\"], [\"The Old Mill\", \"1937\", \"1\", \"1\"], [\"On the Town\", \"1949\", \"1\", \"1\"], [\"On the Waterfront\", \"1954\", \"8\", \"12\"], [\"One Hundred Men and a Girl\", \"1937\", \"1\", \"5\"], [\"One Night of Love\", \"1934\", \"2\", \"6\"], [\"One Way Passage\", \"1932/33\", \"1\", \"1\"], [\"Overture to The Merry Wives of Windsor\", \"1953\", \"1\", \"1\"], [\"The Paleface\", \"1948\", \"1\", \"1\"], [\"Panic in the Streets\", \"1950\", \"1\", \"1\"], [\"Papa's Delicate Condition\", \"1963\", \"1\", \"1\"], [\"The Patriot\", \"1928/29\", \"1\", \"5\"], [\"Penny Wisdom\", \"1937\", \"1\", \"1\"], [\"Phantom of the Opera\", \"1943\", \"2\", \"4\"], [\"The Philadelphia Story\", \"1940\", \"2\", \"6\"], [\"Picnic\", \"1955\", \"2\", \"6\"], [\"The Picture of Dorian Gray\", \"1945\", \"1\", \"3\"], [\"Pillow Talk\", \"1959\", \"1\", \"5\"], [\"The Pink Phink\", \"1964\", \"1\", \"1\"], [\"Pinocchio\", \"1940\", \"2\", \"2\"], [\"A Place in the Sun\", \"1951\", \"6\", \"9\"], [\"Plymouth Adventure\", \"1952\", \"1\", \"1\"], [\"Pollyanna\", \"1960\", \"0 (1)\", \"0\"], [\"Porgy and Bess\", \"1959\", \"1\", \"4\"], [\"Portrait of Jennie\", \"1948\", \"1\", \"2\"], [\"Prelude to War\", \"1942\", \"1\", \"1\"], [\"Pride and Prejudice\", \"1940\", \"1\", \"1\"], [\"The Pride of the Yankees\", \"1942\", \"1\", \"11\"], [\"Princess O'Rourke\", \"1943\", \"1\", \"1\"], [\"The Private Life of Henry VIII\", \"1932/33\", \"1\", \"2\"], [\"The Private Life of the Gannets\", \"1937\", \"1\", \"1\"], [\"Project Hope\", \"1961\", \"1\", \"1\"], [\"The Public Pays\", \"1936\", \"1\", \"1\"], [\"Pygmalion\", \"1938\", \"1\", \"4\"], [\"Quicker'n a Wink\", \"1940\", \"1\", \"1\"], [\"The Quiet Man\", \"1952\", \"2\", \"7\"], [\"Quiet Please!\", \"1945\", \"1\", \"1\"], [\"The Rains Came\", \"1939\", \"1\", \"6[8]\"], [\"Rashomon\", \"1951\", \"0 (1)\", \"1\"], [\"The Razor's Edge\", \"1946\", \"1\", \"4\"], [\"Reap the Wild Wind\", \"1942\", \"1\", \"3\"], [\"Rebecca\", \"1940\", \"2\", \"11\"], [\"The Red Balloon (Le ballon rouge)\", \"1956\", \"1\", \"1\"], [\"The Red Shoes\", \"1948\", \"2\", \"5\"], [\"The Robe\", \"1953\", \"2\", \"5\"], [\"Robert Frost: A Lover's Quarrel with the World\", \"1963\", \"1\", \"1\"], [\"Roman Holiday\", \"1953\", \"3\", \"10\"], [\"Room at the Top\", \"1959\", \"2\", \"6\"], [\"The Rose Tattoo\", \"1955\", \"3\", \"8\"], [\"Sabrina\", \"1954\", \"1\", \"6\"], [\"Samson and Delilah\", \"1950\", \"2\", \"5\"], [\"Samurai I: Musashi Miyamoto (Miyamoto Musashi)\", \"1955\", \"0 (1)\", \"0\"], [\"San Francisco\", \"1936\", \"1\", \"6\"], [\"Sayonara\", \"1957\", \"4\", \"10\"], [\"The Scoundrel\", \"1935\", \"1\", \"1\"], [\"The Sea Around Us\", \"1952\", \"1\", \"1\"], [\"Seal Island\", \"1948\", \"1\", \"1\"], [\"The Search\", \"1948\", \"1 (1)\", \"4\"], [\"Seawards the Great Ships\", \"1961\", \"1\", \"1\"], [\"The Secret Land\", \"1948\", \"1\", \"1\"], [\"Seeds of Destiny\", \"1946\", \"1\", \"1\"], [\"Separate Tables\", \"1958\", \"2\", \"7\"], [\"Serengeti Shall Not Die (Serengeti darf nicht sterben)\", \"1959\", \"1\", \"1\"], [\"Sergeant York\", \"1941\", \"2\", \"11\"], [\"Seven Brides for Seven Brothers\", \"1954\", \"1\", \"5\"], [\"Seven Days to Noon\", \"1951\", \"1\", \"1\"], [\"The Seventh Veil\", \"1946\", \"1\", \"1\"], [\"Shane\", \"1953\", \"1\", \"6\"], [\"Shanghai Express\", \"1931/32\", \"1\", \"3\"], [\"She Wore a Yellow Ribbon\", \"1949\", \"1\", \"1\"], [\"Shoeshine (Sciusci\\u00e0)\", \"1947\", \"0 (1)\", \"1\"], [\"The Silent World (Le Monde du silence)\", \"1956\", \"1\", \"1\"], [\"The Sin of Madelon Claudet\", \"1931/32\", \"1\", \"1\"], [\"Since You Went Away\", \"1944\", \"1\", \"9\"], [\"Skippy\", \"1930/31\", \"1\", \"4\"], [\"Sky Above and Mud Beneath (Le Ciel et la boue)\", \"1961\", \"1\", \"1\"], [\"The Snake Pit\", \"1948\", \"1\", \"6\"], [\"Snow White and the Seven Dwarfs\", \"1937\", \"0 (1)\", \"1\"], [\"So Much for So Little\", \"1949\", \"1\", \"1\"], [\"So This Is Harris!\", \"1932/33\", \"1\", \"1\"], [\"The Solid Gold Cadillac\", \"1956\", \"1\", \"2\"], [\"Some Like It Hot\", \"1959\", \"1\", \"6\"], [\"Somebody Up There Likes Me\", \"1956\", \"2\", \"3\"], [\"The Song of Bernadette\", \"1943\", \"4\", \"12\"], [\"Song of the South\", \"1947\", \"1 (1)\", \"2\"], [\"Song Without End\", \"1960\", \"1\", \"1\"], [\"Sons and Lovers\", \"1960\", \"1\", \"7\"], [\"Sons of Liberty\", \"1939\", \"1\", \"1\"], [\"South Pacific\", \"1958\", \"1\", \"3\"], [\"Spartacus\", \"1960\", \"4\", \"6\"], [\"Spawn of the North\", \"1938\", \"0 (1)\", \"0\"], [\"Speaking of Animals and Their Families\", \"1942\", \"1\", \"1\"], [\"Speedy Gonzales\", \"1955\", \"1\", \"1\"], [\"Spellbound\", \"1945\", \"1\", \"6\"], [\"Splendor in the Grass\", \"1961\", \"1\", \"2\"], [\"Stagecoach\", \"1939\", \"2\", \"7\"], [\"Stairway to Light\", \"1945\", \"1\", \"1\"], [\"Stalag 17\", \"1953\", \"1\", \"3\"], [\"Star in the Night\", \"1945\", \"1\", \"1\"], [\"A Star Is Born\", \"1937\", \"1 (1)\", \"7\"], [\"State Fair\", \"1945\", \"1\", \"2\"], [\"The Story of Louis Pasteur\", \"1936\", \"3\", \"4\"], [\"The Stratton Story\", \"1949\", \"1\", \"1\"], [\"Street Angel\", \"1927/28\", \"1\", \"3\"], [\"A Streetcar Named Desire\", \"1951\", \"4\", \"12\"], [\"Strike Up the Band\", \"1940\", \"1\", \"3\"], [\"The Substitute\", \"1961\", \"1\", \"1\"], [\"Sundays and Cybele (Le Dimanches de Ville d'Avray)\", \"1962\", \"1\", \"3\"], [\"Sunrise\", \"1927/28\", \"3\", \"4[9]\"], [\"Sunset Boulevard\", \"1950\", \"3\", \"11\"], [\"Survival City\", \"1955\", \"1\", \"1\"], [\"Suspicion\", \"1941\", \"1\", \"3\"], [\"Sweet Bird of Youth\", \"1962\", \"1\", \"3\"], [\"Sweethearts\", \"1938\", \"0 (1)\", \"2\"], [\"Swing Time\", \"1936\", \"1\", \"2\"], [\"Symphony of a City\", \"1948\", \"1\", \"1\"], [\"Tabu\", \"1930/31\", \"1\", \"1\"], [\"Target for Tonight\", \"1941\", \"0 (1)\", \"0\"], [\"Teddy, the Rough Rider\", \"1940\", \"1\", \"1\"], [\"Tempest\", \"1927/28\", \"1\", \"1\"], [\"The Ten Commandments\", \"1956\", \"1\", \"7\"], [\"That Hamilton Woman\", \"1941\", \"1\", \"4\"], [\"That Mothers Might Live\", \"1938\", \"1\", \"1\"], [\"The Thief of Bagdad\", \"1940\", \"3\", \"4\"], [\"The Third Man\", \"1950\", \"1\", \"3\"], [\"Thirty Seconds Over Tokyo\", \"1944\", \"1\", \"2\"], [\"This Above All\", \"1942\", \"1\", \"4\"], [\"This Is the Army\", \"1943\", \"1\", \"3\"], [\"This Land Is Mine\", \"1943\", \"1\", \"1\"], [\"This Mechanical Age\", \"1954\", \"1\", \"1\"], [\"Three Coins in the Fountain\", \"1954\", \"2\", \"3\"], [\"The Three Faces of Eve\", \"1957\", \"1\", \"1\"], [\"Three Little Pigs\", \"1932/33\", \"1\", \"1\"], [\"Three Orphan Kittens\", \"1935\", \"1\", \"1\"], [\"Through a Glass Darkly (S\\u00e5som i en spegel)\", \"1961\", \"1\", \"2\"], [\"Thunderball\", \"1965\", \"1\", \"1\"], [\"Thursday's Children\", \"1954\", \"1\", \"1\"], [\"The Time Machine\", \"1960\", \"1\", \"1\"], [\"A Time Out of War\", \"1954\", \"1\", \"1\"], [\"Tin Pan Alley\", \"1940\", \"1\", \"1\"], [\"The Titan: Story of Michelangelo\", \"1950\", \"1\", \"1\"], [\"Titanic\", \"1953\", \"1\", \"2\"], [\"To Catch a Thief\", \"1955\", \"1\", \"3\"], [\"To Each His Own\", \"1946\", \"1\", \"2\"], [\"To Kill a Mockingbird\", \"1962\", \"3\", \"8\"], [\"Tom Jones\", \"1963\", \"4\", \"10\"], [\"tom thumb\", \"1958\", \"1\", \"1\"], [\"Toot, Whistle, Plunk and Boom\", \"1953\", \"1\", \"1\"], [\"Topkapi\", \"1964\", \"1\", \"1\"], [\"The Tortoise and the Hare\", \"1934\", \"1\", \"1\"], [\"Torture Money\", \"1937\", \"1\", \"1\"], [\"Toward Independence\", \"1948\", \"1\", \"1\"], [\"Transatlantic\", \"1931/32\", \"1\", \"1\"], [\"The Treasure of the Sierra Madre\", \"1948\", \"3\", \"4\"], [\"A Tree Grows in Brooklyn\", \"1945\", \"1\", \"2\"], [\"The True Glory\", \"1945\", \"1\", \"1\"], [\"The True Story of the Civil War\", \"1956\", \"1\", \"1\"], [\"Tweetie Pie\", \"1947\", \"1\", \"1\"], [\"Twelve O'Clock High\", \"1949\", \"2\", \"4\"], [\"Two Arabian Knights\", \"1927/28\", \"1\", \"1\"], [\"The Two Mouseketeers\", \"1951\", \"1\", \"1\"], [\"Two Women (La Ciociara)\", \"1961\", \"1\", \"1\"], [\"The Ugly Duckling\", \"1939\", \"1\", \"1\"], [\"Underworld\", \"1927/28\", \"1\", \"1\"], [\"The V.I.P.s\", \"1963\", \"1\", \"1\"], [\"Vacation from Marriage (UK title Perfect Strangers)\", \"1946\", \"1\", \"1\"], [\"Van Gogh\", \"1949\", \"1\", \"1\"], [\"The Vanishing Prairie\", \"1954\", \"1\", \"1\"], [\"The Virgin Spring (Jungfruk\\u00e4llan)\", \"1960\", \"1\", \"2\"], [\"Viva Villa!\", \"1934\", \"1\", \"4\"], [\"Viva Zapata!\", \"1952\", \"1\", \"5\"], [\"Waikiki Wedding\", \"1937\", \"1\", \"2\"], [\"The Walls of Malapaga\", \"1950\", \"0 (1)\", \"0\"], [\"The War of the Worlds\", \"1953\", \"1\", \"3\"], [\"Watch on the Rhine\", \"1943\", \"1\", \"4\"], [\"Water Birds\", \"1952\", \"1\", \"1\"], [\"The Way of All Flesh\", \"1927/28\", \"1\", \"1\"], [\"West Side Story\", \"1961\", \"10\", \"11\"], [\"The Westerner\", \"1940\", \"1\", \"3\"], [\"The Wetback Hound\", \"1957\", \"1\", \"1\"], [\"What Ever Happened to Baby Jane?\", \"1962\", \"1\", \"5\"], [\"When Tomorrow Comes\", \"1939\", \"1\", \"1\"], [\"When Magoo Flew\", \"1954\", \"1\", \"1\"], [\"When Worlds Collide\", \"1951\", \"1\", \"2\"], [\"White Shadows in the South Seas\", \"1928/29\", \"1\", \"1\"], [\"White Wilderness\", \"1958\", \"1\", \"2\"], [\"Who's Who in Animal Land\", \"1944\", \"1\", \"1\"], [\"Why Korea?\", \"1950\", \"1\", \"1\"], [\"Wilson\", \"1944\", \"5\", \"10\"], [\"Wings\", \"1927/28\", \"2\", \"2\"], [\"Wings Over Everest\", \"1935\", \"1\", \"1\"], [\"With a Song in My Heart\", \"1952\", \"1\", \"5\"], [\"With Byrd at the South Pole\", \"1929/30\", \"1\", \"1\"], [\"With the Marines at Tarawa\", \"1944\", \"1\", \"1\"], [\"The Wizard of Oz\", \"1939\", \"2\", \"6[10]\"], [\"Woman of the Year\", \"1942\", \"1\", \"2\"], [\"Wonder Man\", \"1945\", \"1\", \"4\"], [\"The Wonderful World of the Brothers Grimm\", \"1962\", \"1\", \"4\"], [\"World of Kids\", \"1951\", \"1\", \"1\"], [\"World Without Sun (Le Monde sans soleil)\", \"1964\", \"1\", \"1\"], [\"Wrestling Swordfish\", \"1931/32\", \"1\", \"1\"], [\"Written on the Wind\", \"1956\", \"1\", \"3\"], [\"Wuthering Heights\", \"1939\", \"1\", \"8\"], [\"Yankee Doodle Dandy\", \"1942\", \"3\", \"8\"], [\"The Yankee Doodle Mouse\", \"1943\", \"1\", \"1\"], [\"The Yearling\", \"1946\", \"2\", \"7\"], [\"Yesterday, Today and Tomorrow (Ieri, oggi, domani)\", \"1964\", \"1\", \"1\"], [\"You Can't Take It with You\", \"1938\", \"2\", \"7\"], [\"Zorba the Greek (Alexis Zorbas)\", \"1964\", \"3\", \"7\"]];\n",
       "\n",
       "        // Define the dt_args\n",
       "        let dt_args = {\"layout\": {\"topStart\": \"pageLength\", \"topEnd\": \"search\", \"bottomStart\": \"info\", \"bottomEnd\": \"paging\"}, \"order\": []};\n",
       "        dt_args[\"data\"] = data;\n",
       "\n",
       "        \n",
       "        new DataTable(table, dt_args);\n",
       "    });\n",
       "</script>\n"
      ],
      "text/plain": [
       "<IPython.core.display.HTML object>"
      ]
     },
     "metadata": {},
     "output_type": "display_data"
    },
    {
     "data": {
      "text/html": [
       "<div>\n",
       "<style scoped>\n",
       "    .dataframe tbody tr th:only-of-type {\n",
       "        vertical-align: middle;\n",
       "    }\n",
       "\n",
       "    .dataframe tbody tr th {\n",
       "        vertical-align: top;\n",
       "    }\n",
       "\n",
       "    .dataframe thead th {\n",
       "        text-align: right;\n",
       "    }\n",
       "</style>\n",
       "<table border=\"1\" class=\"dataframe\">\n",
       "  <thead>\n",
       "    <tr style=\"text-align: right;\">\n",
       "      <th></th>\n",
       "      <th>Film</th>\n",
       "      <th>Year</th>\n",
       "      <th>Awards</th>\n",
       "      <th>Nominations</th>\n",
       "    </tr>\n",
       "  </thead>\n",
       "  <tbody>\n",
       "    <tr>\n",
       "      <th>count</th>\n",
       "      <td>1373</td>\n",
       "      <td>1373</td>\n",
       "      <td>1373</td>\n",
       "      <td>1373</td>\n",
       "    </tr>\n",
       "    <tr>\n",
       "      <th>unique</th>\n",
       "      <td>1359</td>\n",
       "      <td>96</td>\n",
       "      <td>22</td>\n",
       "      <td>24</td>\n",
       "    </tr>\n",
       "    <tr>\n",
       "      <th>top</th>\n",
       "      <td>Little Women</td>\n",
       "      <td>1945</td>\n",
       "      <td>1</td>\n",
       "      <td>1</td>\n",
       "    </tr>\n",
       "    <tr>\n",
       "      <th>freq</th>\n",
       "      <td>3</td>\n",
       "      <td>21</td>\n",
       "      <td>979</td>\n",
       "      <td>550</td>\n",
       "    </tr>\n",
       "  </tbody>\n",
       "</table>\n",
       "</div>"
      ],
      "text/plain": [
       "                Film  Year Awards Nominations\n",
       "count           1373  1373   1373        1373\n",
       "unique          1359    96     22          24\n",
       "top     Little Women  1945      1           1\n",
       "freq               3    21    979         550"
      ]
     },
     "execution_count": 29,
     "metadata": {},
     "output_type": "execute_result"
    }
   ],
   "source": [
    "# Your code here\n",
    "DF_raw = DF[0]\n",
    "show(DF_raw)\n",
    "DF_raw.describe()"
   ]
  },
  {
   "cell_type": "code",
   "execution_count": 22,
   "id": "ddd62d4d-675f-4706-9b79-993e5b5ad343",
   "metadata": {},
   "outputs": [
    {
     "data": {
      "text/html": [
       "<div>\n",
       "<style scoped>\n",
       "    .dataframe tbody tr th:only-of-type {\n",
       "        vertical-align: middle;\n",
       "    }\n",
       "\n",
       "    .dataframe tbody tr th {\n",
       "        vertical-align: top;\n",
       "    }\n",
       "\n",
       "    .dataframe thead th {\n",
       "        text-align: right;\n",
       "    }\n",
       "</style>\n",
       "<table border=\"1\" class=\"dataframe\">\n",
       "  <thead>\n",
       "    <tr style=\"text-align: right;\">\n",
       "      <th></th>\n",
       "      <th>Year</th>\n",
       "      <th>count</th>\n",
       "    </tr>\n",
       "  </thead>\n",
       "  <tbody>\n",
       "    <tr>\n",
       "      <th>0</th>\n",
       "      <td>1945</td>\n",
       "      <td>21</td>\n",
       "    </tr>\n",
       "    <tr>\n",
       "      <th>1</th>\n",
       "      <td>1949</td>\n",
       "      <td>20</td>\n",
       "    </tr>\n",
       "    <tr>\n",
       "      <th>2</th>\n",
       "      <td>1942</td>\n",
       "      <td>20</td>\n",
       "    </tr>\n",
       "    <tr>\n",
       "      <th>3</th>\n",
       "      <td>1950</td>\n",
       "      <td>19</td>\n",
       "    </tr>\n",
       "    <tr>\n",
       "      <th>4</th>\n",
       "      <td>1948</td>\n",
       "      <td>19</td>\n",
       "    </tr>\n",
       "    <tr>\n",
       "      <th>...</th>\n",
       "      <td>...</td>\n",
       "      <td>...</td>\n",
       "    </tr>\n",
       "    <tr>\n",
       "      <th>91</th>\n",
       "      <td>1931</td>\n",
       "      <td>10</td>\n",
       "    </tr>\n",
       "    <tr>\n",
       "      <th>92</th>\n",
       "      <td>1932</td>\n",
       "      <td>9</td>\n",
       "    </tr>\n",
       "    <tr>\n",
       "      <th>93</th>\n",
       "      <td>1928</td>\n",
       "      <td>7</td>\n",
       "    </tr>\n",
       "    <tr>\n",
       "      <th>94</th>\n",
       "      <td>1929</td>\n",
       "      <td>6</td>\n",
       "    </tr>\n",
       "    <tr>\n",
       "      <th>95</th>\n",
       "      <td>1930</td>\n",
       "      <td>6</td>\n",
       "    </tr>\n",
       "  </tbody>\n",
       "</table>\n",
       "<p>96 rows × 2 columns</p>\n",
       "</div>"
      ],
      "text/plain": [
       "    Year  count\n",
       "0   1945     21\n",
       "1   1949     20\n",
       "2   1942     20\n",
       "3   1950     19\n",
       "4   1948     19\n",
       "..   ...    ...\n",
       "91  1931     10\n",
       "92  1932      9\n",
       "93  1928      7\n",
       "94  1929      6\n",
       "95  1930      6\n",
       "\n",
       "[96 rows x 2 columns]"
      ]
     },
     "execution_count": 22,
     "metadata": {},
     "output_type": "execute_result"
    }
   ],
   "source": [
    "# Here is some helper code\n",
    "# This is code that will read in the data and then fix the Year column\n",
    "my_website = \"https://en.wikipedia.org/wiki/List_of_Academy_Award%E2%80%93winning_films\"\n",
    "DF = pd.read_html(my_website)\n",
    "DF_raw = DF[0]\n",
    "DF_raw['Year'] = DF_raw['Year'].apply(lambda x: int(x.split('/')[0]))\n",
    "DF_raw['Year'].value_counts().reset_index().rename(columns={\"index\": \"value\", 0: \"count\"})"
   ]
  },
  {
   "cell_type": "markdown",
   "id": "4c70b364-4c59-4631-87a4-552d7abaac2a",
   "metadata": {},
   "source": [
    "**Q4** Following along with the lecture notes or video, fix the data in the 'Awards' column."
   ]
  },
  {
   "cell_type": "code",
   "execution_count": 36,
   "id": "e51c0742-d796-4f63-a3e9-c98cdec76247",
   "metadata": {},
   "outputs": [
    {
     "data": {
      "text/html": [
       "<div>\n",
       "<style scoped>\n",
       "    .dataframe tbody tr th:only-of-type {\n",
       "        vertical-align: middle;\n",
       "    }\n",
       "\n",
       "    .dataframe tbody tr th {\n",
       "        vertical-align: top;\n",
       "    }\n",
       "\n",
       "    .dataframe thead th {\n",
       "        text-align: right;\n",
       "    }\n",
       "</style>\n",
       "<table border=\"1\" class=\"dataframe\">\n",
       "  <thead>\n",
       "    <tr style=\"text-align: right;\">\n",
       "      <th></th>\n",
       "      <th>Awards</th>\n",
       "      <th>count</th>\n",
       "    </tr>\n",
       "  </thead>\n",
       "  <tbody>\n",
       "    <tr>\n",
       "      <th>0</th>\n",
       "      <td>1</td>\n",
       "      <td>987</td>\n",
       "    </tr>\n",
       "    <tr>\n",
       "      <th>1</th>\n",
       "      <td>2</td>\n",
       "      <td>157</td>\n",
       "    </tr>\n",
       "    <tr>\n",
       "      <th>2</th>\n",
       "      <td>3</td>\n",
       "      <td>78</td>\n",
       "    </tr>\n",
       "    <tr>\n",
       "      <th>3</th>\n",
       "      <td>4</td>\n",
       "      <td>48</td>\n",
       "    </tr>\n",
       "    <tr>\n",
       "      <th>4</th>\n",
       "      <td>0</td>\n",
       "      <td>36</td>\n",
       "    </tr>\n",
       "    <tr>\n",
       "      <th>5</th>\n",
       "      <td>5</td>\n",
       "      <td>26</td>\n",
       "    </tr>\n",
       "    <tr>\n",
       "      <th>6</th>\n",
       "      <td>7</td>\n",
       "      <td>13</td>\n",
       "    </tr>\n",
       "    <tr>\n",
       "      <th>7</th>\n",
       "      <td>6</td>\n",
       "      <td>13</td>\n",
       "    </tr>\n",
       "    <tr>\n",
       "      <th>8</th>\n",
       "      <td>8</td>\n",
       "      <td>8</td>\n",
       "    </tr>\n",
       "    <tr>\n",
       "      <th>9</th>\n",
       "      <td>11</td>\n",
       "      <td>3</td>\n",
       "    </tr>\n",
       "    <tr>\n",
       "      <th>10</th>\n",
       "      <td>9</td>\n",
       "      <td>3</td>\n",
       "    </tr>\n",
       "    <tr>\n",
       "      <th>11</th>\n",
       "      <td>10</td>\n",
       "      <td>1</td>\n",
       "    </tr>\n",
       "  </tbody>\n",
       "</table>\n",
       "</div>"
      ],
      "text/plain": [
       "    Awards  count\n",
       "0        1    987\n",
       "1        2    157\n",
       "2        3     78\n",
       "3        4     48\n",
       "4        0     36\n",
       "5        5     26\n",
       "6        7     13\n",
       "7        6     13\n",
       "8        8      8\n",
       "9       11      3\n",
       "10       9      3\n",
       "11      10      1"
      ]
     },
     "execution_count": 36,
     "metadata": {},
     "output_type": "execute_result"
    }
   ],
   "source": [
    "# Your code here\n",
    "my_website = \"https://en.wikipedia.org/wiki/List_of_Academy_Award%E2%80%93winning_films\"\n",
    "DF = pd.read_html(my_website)\n",
    "DF_raw = DF[0]\n",
    "\n",
    "DF_raw['Awards'] = DF_raw['Awards'].astype(str).str.extract(r'(\\d+)')[0].astype(int)\n",
    "DF_raw['Awards'].value_counts().reset_index().rename(columns={\"index\": \"value\", 0: \"count\"})\n"
   ]
  },
  {
   "cell_type": "markdown",
   "id": "ada5ce86-e820-481b-a8c8-ab5f063b0ad5",
   "metadata": {},
   "source": [
    "**Q5** Now try to fix the data in the \"Nominations\" column - see if you can do it without looking at the answer."
   ]
  },
  {
   "cell_type": "code",
   "execution_count": 37,
   "id": "57571cc2-dbca-4354-b0db-676b03005f3c",
   "metadata": {},
   "outputs": [
    {
     "data": {
      "text/html": [
       "<div>\n",
       "<style scoped>\n",
       "    .dataframe tbody tr th:only-of-type {\n",
       "        vertical-align: middle;\n",
       "    }\n",
       "\n",
       "    .dataframe tbody tr th {\n",
       "        vertical-align: top;\n",
       "    }\n",
       "\n",
       "    .dataframe thead th {\n",
       "        text-align: right;\n",
       "    }\n",
       "</style>\n",
       "<table border=\"1\" class=\"dataframe\">\n",
       "  <thead>\n",
       "    <tr style=\"text-align: right;\">\n",
       "      <th></th>\n",
       "      <th>Nominations</th>\n",
       "      <th>count</th>\n",
       "    </tr>\n",
       "  </thead>\n",
       "  <tbody>\n",
       "    <tr>\n",
       "      <th>0</th>\n",
       "      <td>1</td>\n",
       "      <td>553</td>\n",
       "    </tr>\n",
       "    <tr>\n",
       "      <th>1</th>\n",
       "      <td>2</td>\n",
       "      <td>141</td>\n",
       "    </tr>\n",
       "    <tr>\n",
       "      <th>2</th>\n",
       "      <td>4</td>\n",
       "      <td>115</td>\n",
       "    </tr>\n",
       "    <tr>\n",
       "      <th>3</th>\n",
       "      <td>5</td>\n",
       "      <td>104</td>\n",
       "    </tr>\n",
       "    <tr>\n",
       "      <th>4</th>\n",
       "      <td>3</td>\n",
       "      <td>104</td>\n",
       "    </tr>\n",
       "    <tr>\n",
       "      <th>5</th>\n",
       "      <td>6</td>\n",
       "      <td>80</td>\n",
       "    </tr>\n",
       "    <tr>\n",
       "      <th>6</th>\n",
       "      <td>7</td>\n",
       "      <td>75</td>\n",
       "    </tr>\n",
       "    <tr>\n",
       "      <th>7</th>\n",
       "      <td>8</td>\n",
       "      <td>61</td>\n",
       "    </tr>\n",
       "    <tr>\n",
       "      <th>8</th>\n",
       "      <td>10</td>\n",
       "      <td>40</td>\n",
       "    </tr>\n",
       "    <tr>\n",
       "      <th>9</th>\n",
       "      <td>9</td>\n",
       "      <td>31</td>\n",
       "    </tr>\n",
       "    <tr>\n",
       "      <th>10</th>\n",
       "      <td>11</td>\n",
       "      <td>24</td>\n",
       "    </tr>\n",
       "    <tr>\n",
       "      <th>11</th>\n",
       "      <td>12</td>\n",
       "      <td>17</td>\n",
       "    </tr>\n",
       "    <tr>\n",
       "      <th>12</th>\n",
       "      <td>0</td>\n",
       "      <td>14</td>\n",
       "    </tr>\n",
       "    <tr>\n",
       "      <th>13</th>\n",
       "      <td>13</td>\n",
       "      <td>11</td>\n",
       "    </tr>\n",
       "    <tr>\n",
       "      <th>14</th>\n",
       "      <td>14</td>\n",
       "      <td>3</td>\n",
       "    </tr>\n",
       "  </tbody>\n",
       "</table>\n",
       "</div>"
      ],
      "text/plain": [
       "    Nominations  count\n",
       "0             1    553\n",
       "1             2    141\n",
       "2             4    115\n",
       "3             5    104\n",
       "4             3    104\n",
       "5             6     80\n",
       "6             7     75\n",
       "7             8     61\n",
       "8            10     40\n",
       "9             9     31\n",
       "10           11     24\n",
       "11           12     17\n",
       "12            0     14\n",
       "13           13     11\n",
       "14           14      3"
      ]
     },
     "execution_count": 37,
     "metadata": {},
     "output_type": "execute_result"
    }
   ],
   "source": [
    "# Your code here\n",
    "my_website = \"https://en.wikipedia.org/wiki/List_of_Academy_Award%E2%80%93winning_films\"\n",
    "DF = pd.read_html(my_website)\n",
    "DF_raw = DF[0]\n",
    "\n",
    "DF_raw['Nominations'] = DF_raw['Nominations'].astype(str).str.extract(r'(\\d+)')[0].astype(int)\n",
    "DF_raw['Nominations'].value_counts().reset_index().rename(columns={\"index\": \"value\", 0: \"count\"})\n"
   ]
  },
  {
   "cell_type": "markdown",
   "id": "8f1c8227-7b3e-4067-9b49-bd9c58752402",
   "metadata": {},
   "source": [
    "## Problem 1\n",
    "\n",
    "Your homework today will be to see if you can find some data of your own. This can be the first steps you take toward your final project. \n",
    "\n",
    "You should:\n",
    "\n",
    "* Find some data online\n",
    "* Read that data into Python using the Pandas commands we learned\n",
    "* Look at the DataFrame - number of variables, number of observations, AND the dtypes. Comment on what you see.\n",
    "* Try to do summary statistics (.describe()). Does it work like expected?\n",
    "* Attempt to fix any data, or explain why the data does not need to be fixed.\n",
    "* Make some sort of graph using columns in your data."
   ]
  },
  {
   "cell_type": "code",
   "execution_count": 2,
   "id": "578ad570-5dfa-46a0-86c8-f4610bacaf36",
   "metadata": {},
   "outputs": [
    {
     "name": "stdout",
     "output_type": "stream",
     "text": [
      "   VIN (1-10)    County       City State  Postal Code  Model Year       Make  \\\n",
      "0  JTMAB3FV3P    Kitsap    Seabeck    WA      98380.0        2023     TOYOTA   \n",
      "1  1N4AZ1CP6J    Kitsap  Bremerton    WA      98312.0        2018     NISSAN   \n",
      "2  5YJ3E1EA4L      King    Seattle    WA      98101.0        2020      TESLA   \n",
      "3  1N4AZ0CP8E      King    Seattle    WA      98125.0        2014     NISSAN   \n",
      "4  1G1FX6S00H  Thurston       Yelm    WA      98597.0        2017  CHEVROLET   \n",
      "\n",
      "        Model                   Electric Vehicle Type  \\\n",
      "0  RAV4 PRIME  Plug-in Hybrid Electric Vehicle (PHEV)   \n",
      "1        LEAF          Battery Electric Vehicle (BEV)   \n",
      "2     MODEL 3          Battery Electric Vehicle (BEV)   \n",
      "3        LEAF          Battery Electric Vehicle (BEV)   \n",
      "4     BOLT EV          Battery Electric Vehicle (BEV)   \n",
      "\n",
      "  Clean Alternative Fuel Vehicle (CAFV) Eligibility  Electric Range  \\\n",
      "0           Clean Alternative Fuel Vehicle Eligible            42.0   \n",
      "1           Clean Alternative Fuel Vehicle Eligible           151.0   \n",
      "2           Clean Alternative Fuel Vehicle Eligible           266.0   \n",
      "3           Clean Alternative Fuel Vehicle Eligible            84.0   \n",
      "4           Clean Alternative Fuel Vehicle Eligible           238.0   \n",
      "\n",
      "   Base MSRP  Legislative District  DOL Vehicle ID  \\\n",
      "0        0.0                  35.0       240684006   \n",
      "1        0.0                  35.0       474183811   \n",
      "2        0.0                  43.0       113120017   \n",
      "3        0.0                  46.0       108188713   \n",
      "4        0.0                  20.0       176448940   \n",
      "\n",
      "                  Vehicle Location  \\\n",
      "0  POINT (-122.8728334 47.5798304)   \n",
      "1  POINT (-122.6961203 47.5759584)   \n",
      "2  POINT (-122.3340795 47.6099315)   \n",
      "3    POINT (-122.304356 47.715668)   \n",
      "4  POINT (-122.5715761 46.9095798)   \n",
      "\n",
      "                               Electric Utility  2020 Census Tract  \n",
      "0                        PUGET SOUND ENERGY INC       5.303509e+10  \n",
      "1                        PUGET SOUND ENERGY INC       5.303508e+10  \n",
      "2  CITY OF SEATTLE - (WA)|CITY OF TACOMA - (WA)       5.303301e+10  \n",
      "3  CITY OF SEATTLE - (WA)|CITY OF TACOMA - (WA)       5.303300e+10  \n",
      "4                        PUGET SOUND ENERGY INC       5.306701e+10  \n"
     ]
    }
   ],
   "source": [
    "\n",
    "file_path = 'C:\\\\Users\\\\ambsc\\\\Downloads\\\\Electric_Vehicle_Population_Data.csv'  # Update with your file path\n",
    "df = pd.read_csv(file_path)\n",
    "\n",
    "print(df.head())\n"
   ]
  },
  {
   "cell_type": "code",
   "execution_count": 4,
   "id": "01ec634d-8dd2-4e53-8a39-34090184fcd1",
   "metadata": {},
   "outputs": [
    {
     "name": "stdout",
     "output_type": "stream",
     "text": [
      "Variables: 17\n",
      "Observations: 205439\n",
      "\n",
      "Data Types:\n",
      "VIN (1-10)                                            object\n",
      "County                                                object\n",
      "City                                                  object\n",
      "State                                                 object\n",
      "Postal Code                                          float64\n",
      "Model Year                                             int64\n",
      "Make                                                  object\n",
      "Model                                                 object\n",
      "Electric Vehicle Type                                 object\n",
      "Clean Alternative Fuel Vehicle (CAFV) Eligibility     object\n",
      "Electric Range                                       float64\n",
      "Base MSRP                                            float64\n",
      "Legislative District                                 float64\n",
      "DOL Vehicle ID                                         int64\n",
      "Vehicle Location                                      object\n",
      "Electric Utility                                      object\n",
      "2020 Census Tract                                    float64\n",
      "dtype: object\n"
     ]
    }
   ],
   "source": [
    "num_variables = df.shape[1]\n",
    "num_observations = df.shape[0]\n",
    "print(f'Variables: {num_variables}')\n",
    "print(f'Observations: {num_observations}')\n",
    "\n",
    "print('\\nData Types:')\n",
    "print(df.dtypes)\n"
   ]
  },
  {
   "cell_type": "code",
   "execution_count": 5,
   "id": "ae401496-e825-4699-8e01-42fb1b4d2c64",
   "metadata": {},
   "outputs": [
    {
     "name": "stdout",
     "output_type": "stream",
     "text": [
      "        VIN (1-10)  County     City   State    Postal Code     Model Year  \\\n",
      "count       205439  205436   205436  205439  205436.000000  205439.000000   \n",
      "unique       12140     205      770      45            NaN            NaN   \n",
      "top     7SAYGDEE6P    King  Seattle      WA            NaN            NaN   \n",
      "freq          1221  105237    33328  204997            NaN            NaN   \n",
      "mean           NaN     NaN      NaN     NaN   98177.971870    2020.960363   \n",
      "std            NaN     NaN      NaN     NaN    2419.037479       2.989059   \n",
      "min            NaN     NaN      NaN     NaN    1731.000000    1997.000000   \n",
      "25%            NaN     NaN      NaN     NaN   98052.000000    2019.000000   \n",
      "50%            NaN     NaN      NaN     NaN   98125.000000    2022.000000   \n",
      "75%            NaN     NaN      NaN     NaN   98372.000000    2023.000000   \n",
      "max            NaN     NaN      NaN     NaN   99577.000000    2025.000000   \n",
      "\n",
      "          Make    Model           Electric Vehicle Type  \\\n",
      "count   205439   205438                          205439   \n",
      "unique      42      152                               2   \n",
      "top      TESLA  MODEL Y  Battery Electric Vehicle (BEV)   \n",
      "freq     90318    43437                          161539   \n",
      "mean       NaN      NaN                             NaN   \n",
      "std        NaN      NaN                             NaN   \n",
      "min        NaN      NaN                             NaN   \n",
      "25%        NaN      NaN                             NaN   \n",
      "50%        NaN      NaN                             NaN   \n",
      "75%        NaN      NaN                             NaN   \n",
      "max        NaN      NaN                             NaN   \n",
      "\n",
      "        Clean Alternative Fuel Vehicle (CAFV) Eligibility  Electric Range  \\\n",
      "count                                              205439   205431.000000   \n",
      "unique                                                  3             NaN   \n",
      "top     Eligibility unknown as battery range has not b...             NaN   \n",
      "freq                                               114172             NaN   \n",
      "mean                                                  NaN       52.164342   \n",
      "std                                                   NaN       88.075859   \n",
      "min                                                   NaN        0.000000   \n",
      "25%                                                   NaN        0.000000   \n",
      "50%                                                   NaN        0.000000   \n",
      "75%                                                   NaN       48.000000   \n",
      "max                                                   NaN      337.000000   \n",
      "\n",
      "            Base MSRP  Legislative District  DOL Vehicle ID  \\\n",
      "count   205431.000000         204997.000000    2.054390e+05   \n",
      "unique            NaN                   NaN             NaN   \n",
      "top               NaN                   NaN             NaN   \n",
      "freq              NaN                   NaN             NaN   \n",
      "mean       922.670532             28.970848    2.277156e+08   \n",
      "std       7761.753602             14.910052    7.205737e+07   \n",
      "min          0.000000              1.000000    4.469000e+03   \n",
      "25%          0.000000             17.000000    1.935324e+08   \n",
      "50%          0.000000             33.000000    2.382368e+08   \n",
      "75%          0.000000             42.000000    2.618718e+08   \n",
      "max     845000.000000             49.000000    4.792548e+08   \n",
      "\n",
      "                       Vehicle Location  \\\n",
      "count                            205431   \n",
      "unique                              928   \n",
      "top     POINT (-122.1207376 47.6705374)   \n",
      "freq                               5203   \n",
      "mean                                NaN   \n",
      "std                                 NaN   \n",
      "min                                 NaN   \n",
      "25%                                 NaN   \n",
      "50%                                 NaN   \n",
      "75%                                 NaN   \n",
      "max                                 NaN   \n",
      "\n",
      "                                     Electric Utility  2020 Census Tract  \n",
      "count                                          205436       2.054360e+05  \n",
      "unique                                             74                NaN  \n",
      "top     PUGET SOUND ENERGY INC||CITY OF TACOMA - (WA)                NaN  \n",
      "freq                                            75156                NaN  \n",
      "mean                                              NaN       5.297704e+10  \n",
      "std                                               NaN       1.588435e+09  \n",
      "min                                               NaN       1.001020e+09  \n",
      "25%                                               NaN       5.303301e+10  \n",
      "50%                                               NaN       5.303303e+10  \n",
      "75%                                               NaN       5.305307e+10  \n",
      "max                                               NaN       5.602100e+10  \n"
     ]
    }
   ],
   "source": [
    "summary_stats = df.describe(include='all')  # Include all types of columns\n",
    "print(summary_stats)"
   ]
  },
  {
   "cell_type": "code",
   "execution_count": 13,
   "id": "cd351f09-aeb4-4495-a38e-b1e6bffe710a",
   "metadata": {
    "scrolled": true
   },
   "outputs": [
    {
     "data": {
      "image/png": "[encoded data removed]",
      "text/plain": [
       "<Figure size 1400x800 with 1 Axes>"
      ]
     },
     "metadata": {},
     "output_type": "display_data"
    }
   ],
   "source": [
    "plt.figure(figsize=(14, 8))\n",
    "sns.scatterplot(data=df, x='Model Year', y='Electric Range', alpha=0.7)\n",
    "plt.title('Electric Vehicle Model Year vs. Electric Range')\n",
    "plt.xlabel('Model Year')\n",
    "plt.ylabel('Electric Range (miles)')\n",
    "plt.grid(True)\n",
    "plt.xticks(rotation=45)\n",
    "plt.tight_layout()\n",
    "plt.show()\n"
   ]
  },
  {
   "cell_type": "code",
   "execution_count": null,
   "id": "660e50f1-76bd-475e-801b-554f6f01a2b8",
   "metadata": {},
   "outputs": [],
   "source": []
  }
 ],
 "metadata": {
  "kernelspec": {
   "display_name": "Python 3 (ipykernel)",
   "language": "python",
   "name": "python3"
  },
  "language_info": {
   "codemirror_mode": {
    "name": "ipython",
    "version": 3
   },
   "file_extension": ".py",
   "mimetype": "text/x-python",
   "name": "python",
   "nbconvert_exporter": "python",
   "pygments_lexer": "ipython3",
   "version": "3.12.3"
  }
 },
 "nbformat": 4,
 "nbformat_minor": 5
}
